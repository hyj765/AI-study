{
  "nbformat": 4,
  "nbformat_minor": 0,
  "metadata": {
    "colab": {
      "name": "file_similiarity_using_hash.ipynb",
      "provenance": [],
      "authorship_tag": "ABX9TyPQ/1q807e1wdHKxySjZnKt",
      "include_colab_link": true
    },
    "kernelspec": {
      "name": "python3",
      "display_name": "Python 3"
    },
    "language_info": {
      "name": "python"
    }
  },
  "cells": [
    {
      "cell_type": "markdown",
      "metadata": {
        "id": "view-in-github",
        "colab_type": "text"
      },
      "source": [
        "<a href=\"https://colab.research.google.com/github/hyj765/AI-study/blob/main/file_similiarity_using_hash.ipynb\" target=\"_parent\"><img src=\"https://colab.research.google.com/assets/colab-badge.svg\" alt=\"Open In Colab\"/></a>"
      ]
    },
    {
      "cell_type": "code",
      "execution_count": 149,
      "metadata": {
        "id": "31bLRf2jCQ8x"
      },
      "outputs": [],
      "source": [
        "import hashlib\n",
        "from os.path import getsize\n",
        "from sklearn.metrics import accuracy_score"
      ]
    },
    {
      "cell_type": "code",
      "source": [
        "class file_si():\n",
        "  def __init__(self,size,option='md5'):\n",
        "    self.option = option\n",
        "    self.size = size\n",
        "\n",
        "  def compare_file(self,hash_list1,hash_list2):\n",
        "    currect_val = 0\n",
        "    if(len(hash_list1) > len(hash_list2)):\n",
        "      length_cnt = len(hash_list1)\n",
        "    else:\n",
        "      length_cnt = len(hash_list2)   \n",
        "    for i in range(length_cnt):\n",
        "      if(hash_list1[i] == hash_list2[i]):\n",
        "        currect_val += 1 \n",
        "    return currect_val\n",
        "  \n",
        "  def data_hashing(self,data):\n",
        "    hash = hashlib.new(self.option)\n",
        "    hash.update(data)\n",
        "    return hash.hexdigest()\n",
        "\n",
        "  def file_hashing(self,_file):\n",
        "    file_hash_list = []\n",
        "    file_siz = getsize(_file)\n",
        "    with open(_file,'rb') as f:\n",
        "      while(file_siz > 0):\n",
        "        hash_val = self.data_hashing(f.read(self.size))\n",
        "        file_hash_list.append(hash_val)\n",
        "        file_siz -= self.size\n",
        "    return file_hash_list \n",
        "  def file_select(self,File_path=None,File_path2=None):\n",
        "    if(File_path == None or File_path2 == None):\n",
        "      print(\"Usage : <file_path> <file_path2>\")\n",
        "      return\n",
        "    base_file=self.file_hashing(File_path)\n",
        "    compare_target=self.file_hashing(File_path2)\n",
        "    acc=accuracy_score(base_file,compare_target)\n",
        "    print(\"acc: {:.2f}\".format(acc*100))\n"
      ],
      "metadata": {
        "id": "cE_uS5iYCces"
      },
      "execution_count": 158,
      "outputs": []
    },
    {
      "cell_type": "code",
      "source": [
        "file_si(128,'sha1').file_select(\"test1.docx\",\"test1.docx\")"
      ],
      "metadata": {
        "colab": {
          "base_uri": "https://localhost:8080/"
        },
        "id": "Q11CXApeDeXq",
        "outputId": "5dfb6108-fc55-4402-9a9f-3d4851056b5d"
      },
      "execution_count": 159,
      "outputs": [
        {
          "output_type": "stream",
          "name": "stdout",
          "text": [
            "acc: 100.00\n"
          ]
        }
      ]
    }
  ]
}