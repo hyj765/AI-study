{
  "nbformat": 4,
  "nbformat_minor": 0,
  "metadata": {
    "colab": {
      "name": "file_similiarity_using_hash.ipynb",
      "provenance": [],
      "authorship_tag": "ABX9TyN8fW+5CpJ+vP75cpGoRxHT",
      "include_colab_link": true
    },
    "kernelspec": {
      "name": "python3",
      "display_name": "Python 3"
    },
    "language_info": {
      "name": "python"
    }
  },
  "cells": [
    {
      "cell_type": "markdown",
      "metadata": {
        "id": "view-in-github",
        "colab_type": "text"
      },
      "source": [
        "<a href=\"https://colab.research.google.com/github/hyj765/AI-study/blob/main/file_similiarity_using_hash.ipynb\" target=\"_parent\"><img src=\"https://colab.research.google.com/assets/colab-badge.svg\" alt=\"Open In Colab\"/></a>"
      ]
    },
    {
      "cell_type": "code",
      "execution_count": 149,
      "metadata": {
        "id": "31bLRf2jCQ8x"
      },
      "outputs": [],
      "source": [
        "import hashlib\n",
        "from os.path import getsize\n",
        "from sklearn.metrics import accuracy_score"
      ]
    },
    {
      "cell_type": "code",
      "source": [
        "class file_si():\n",
        "  def __init__(self,size,option='md5'):\n",
        "    self.option = option\n",
        "    self.size = size\n",
        "\n",
        "  def compare_file(self,hash_list1,hash_list2):\n",
        "    h1 = hash_list1\n",
        "    h2 = hash_list2\n",
        "    check = False\n",
        "    if(len(hash_list1) > len(hash_list2)):\n",
        "      length_cnt = len(hash_list1)\n",
        "    elif (len(hash_list1) < len(hash_list2)):\n",
        "      length_cnt = len(hash_list2)\n",
        "      check = True\n",
        "    else :\n",
        "      return hash_list1,hash_list2\n",
        "    if check== True :\n",
        "      while(length_cnt > len(h1)):\n",
        "        h1.append(0)\n",
        "    else:\n",
        "      while(length_cnt > len(h2)):\n",
        "        h2.append(0)\n",
        "    return h1 , h2\n",
        "  \n",
        "  def data_hashing(self,data):\n",
        "    hash = hashlib.new(self.option)\n",
        "    hash.update(data)\n",
        "    return hash.hexdigest()\n",
        "\n",
        "  def file_hashing(self,_file):\n",
        "    file_hash_list = []\n",
        "    file_siz = getsize(_file)\n",
        "    with open(_file,'rb') as f:\n",
        "      while(file_siz > 0):\n",
        "        hash_val = self.data_hashing(f.read(self.size))\n",
        "        file_hash_list.append(hash_val)\n",
        "        file_siz -= self.size\n",
        "    return file_hash_list \n",
        "  def file_select(self,File_path=None,File_path2=None):\n",
        "    if(File_path == None or File_path2 == None):\n",
        "      print(\"Usage : <file_path> <file_path2>\")\n",
        "      return\n",
        "    base_file=self.file_hashing(File_path)\n",
        "    compare_target=self.file_hashing(File_path2)\n",
        "    b_h,c_h = self.compare_file(base_file,compare_target)\n",
        "    acc=accuracy_score(b_h,c_h)\n",
        "    print(\"acc: {:.2f}%\".format(acc*100))\n"
      ],
      "metadata": {
        "id": "cE_uS5iYCces"
      },
      "execution_count": 168,
      "outputs": []
    },
    {
      "cell_type": "code",
      "source": [
        "file_si(128,'sha1').file_select(\"test1.docx\",\"test2.docx\")"
      ],
      "metadata": {
        "colab": {
          "base_uri": "https://localhost:8080/"
        },
        "id": "Q11CXApeDeXq",
        "outputId": "fde17ec6-dee9-4326-985a-e5bbf81229c8"
      },
      "execution_count": 169,
      "outputs": [
        {
          "output_type": "stream",
          "name": "stdout",
          "text": [
            "acc: 5.17%\n"
          ]
        }
      ]
    }
  ]
}