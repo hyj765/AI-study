{
  "nbformat": 4,
  "nbformat_minor": 0,
  "metadata": {
    "colab": {
      "name": "Mnist 분류 Dense layer.ipynb",
      "provenance": [],
      "authorship_tag": "ABX9TyOp/Zo8p6z2zGzYmnRwubp/",
      "include_colab_link": true
    },
    "kernelspec": {
      "name": "python3",
      "display_name": "Python 3"
    }
  },
  "cells": [
    {
      "cell_type": "markdown",
      "metadata": {
        "id": "view-in-github",
        "colab_type": "text"
      },
      "source": [
        "<a href=\"https://colab.research.google.com/github/hyj765/AI-study/blob/main/Mnist_%EB%B6%84%EB%A5%98_Dense_layer.ipynb\" target=\"_parent\"><img src=\"https://colab.research.google.com/assets/colab-badge.svg\" alt=\"Open In Colab\"/></a>"
      ]
    },
    {
      "cell_type": "code",
      "source": [
        "from tensorflow.keras.models import Sequential\n",
        "from tensorflow.keras.layers import Dense,Flatten,Dropout\n",
        "from tensorflow.keras.datasets import mnist\n",
        "from tensorflow.keras.utils import to_categorical\n",
        "import matplotlib.pyplot as plt\n",
        "import numpy as np"
      ],
      "metadata": {
        "id": "Ysbto3i5LL_D"
      },
      "execution_count": 42,
      "outputs": []
    },
    {
      "cell_type": "code",
      "source": [
        "(x_train,y_train),(x_test,y_test)=mnist.load_data()"
      ],
      "metadata": {
        "id": "0-prHriqMIcm"
      },
      "execution_count": 13,
      "outputs": []
    },
    {
      "cell_type": "code",
      "source": [
        "input_size=np.delete(x_train.shape,0,axis=0)\n",
        "y_train  = to_categorical(y_train,10)\n",
        "y_test = to_categorical(y_test,10)"
      ],
      "metadata": {
        "id": "LggzjWFbPzfW"
      },
      "execution_count": 35,
      "outputs": []
    },
    {
      "cell_type": "code",
      "source": [
        "model = Sequential()\n",
        "model.add(Flatten(input_shape=(input_size)))\n",
        "model.add(Dense(input_size[0] * input_size[1],activation=\"relu\"))\n",
        "model.add(Dense(64,activation=\"relu\"))\n",
        "model.add(Dropout(0.5))\n",
        "model.add(Dense(64,activation=\"relu\"))\n",
        "model.add(Dense(10,activation=\"softmax\"))\n",
        "model.compile(loss='categorical_crossentropy',optimizer=\"adam\",metrics=['accuracy'])"
      ],
      "metadata": {
        "id": "X4fGLR6eNr7g"
      },
      "execution_count": 37,
      "outputs": []
    },
    {
      "cell_type": "code",
      "source": [
        "hist=model.fit(x_train,y_train, batch_size=200,epochs=15)"
      ],
      "metadata": {
        "colab": {
          "base_uri": "https://localhost:8080/"
        },
        "id": "cShPxCLOQqdS",
        "outputId": "6860d336-6d9c-4c04-fe2f-c8d14e71fd40"
      },
      "execution_count": 39,
      "outputs": [
        {
          "output_type": "stream",
          "name": "stdout",
          "text": [
            "Epoch 1/15\n",
            "300/300 [==============================] - 6s 18ms/step - loss: 2.7239 - accuracy: 0.1926\n",
            "Epoch 2/15\n",
            "300/300 [==============================] - 5s 18ms/step - loss: 1.9117 - accuracy: 0.2765\n",
            "Epoch 3/15\n",
            "300/300 [==============================] - 5s 18ms/step - loss: 1.7612 - accuracy: 0.3300\n",
            "Epoch 4/15\n",
            "300/300 [==============================] - 6s 18ms/step - loss: 1.6825 - accuracy: 0.3678\n",
            "Epoch 5/15\n",
            "300/300 [==============================] - 6s 18ms/step - loss: 1.4800 - accuracy: 0.4515\n",
            "Epoch 6/15\n",
            "300/300 [==============================] - 5s 18ms/step - loss: 1.3200 - accuracy: 0.5237\n",
            "Epoch 7/15\n",
            "300/300 [==============================] - 5s 18ms/step - loss: 1.2463 - accuracy: 0.5460\n",
            "Epoch 8/15\n",
            "300/300 [==============================] - 5s 18ms/step - loss: 1.1734 - accuracy: 0.5680\n",
            "Epoch 9/15\n",
            "300/300 [==============================] - 5s 18ms/step - loss: 1.1018 - accuracy: 0.5950\n",
            "Epoch 10/15\n",
            "300/300 [==============================] - 5s 18ms/step - loss: 0.8922 - accuracy: 0.6877\n",
            "Epoch 11/15\n",
            "300/300 [==============================] - 5s 17ms/step - loss: 0.7311 - accuracy: 0.7417\n",
            "Epoch 12/15\n",
            "300/300 [==============================] - 5s 18ms/step - loss: 0.6417 - accuracy: 0.7815\n",
            "Epoch 13/15\n",
            "300/300 [==============================] - 5s 17ms/step - loss: 0.5607 - accuracy: 0.8130\n",
            "Epoch 14/15\n",
            "300/300 [==============================] - 5s 17ms/step - loss: 0.4756 - accuracy: 0.8542\n",
            "Epoch 15/15\n",
            "300/300 [==============================] - 5s 17ms/step - loss: 0.4061 - accuracy: 0.8825\n"
          ]
        }
      ]
    },
    {
      "cell_type": "code",
      "source": [
        "model.evaluate(x_test,y_test)"
      ],
      "metadata": {
        "colab": {
          "base_uri": "https://localhost:8080/"
        },
        "id": "cvNjcFqoRZYy",
        "outputId": "349fc378-40b9-4016-92c2-be3a6678ce21"
      },
      "execution_count": 46,
      "outputs": [
        {
          "output_type": "stream",
          "name": "stdout",
          "text": [
            "313/313 [==============================] - 1s 4ms/step - loss: 0.1925 - accuracy: 0.9528\n"
          ]
        },
        {
          "output_type": "execute_result",
          "data": {
            "text/plain": [
              "[0.1925097554922104, 0.9527999758720398]"
            ]
          },
          "metadata": {},
          "execution_count": 46
        }
      ]
    },
    {
      "cell_type": "code",
      "source": [
        "result=model.predict(x_test)"
      ],
      "metadata": {
        "id": "S04PqiZHX9f1"
      },
      "execution_count": 54,
      "outputs": []
    },
    {
      "cell_type": "code",
      "source": [
        "def plot_image(predicted_label,image):\n",
        "  plt.grid(False)\n",
        "  plt.xticks([])\n",
        "  plt.yticks([])\n",
        "\n",
        "  plt.imshow(image)\n",
        "  plt.xlabel(\"{}\".format(predicted_label,color='blue'))"
      ],
      "metadata": {
        "id": "OCj1nlW1e6gs"
      },
      "execution_count": 80,
      "outputs": []
    },
    {
      "cell_type": "code",
      "source": [
        "\n",
        "for i in range(0,10):\n",
        "  plt.figure(figsize=(6,3))\n",
        "  plt.subplot(1,2,1)\n",
        "  plot_image(np.argmax(result[i]),x_test[i])\n",
        "  \n",
        "plt.show()"
      ],
      "metadata": {
        "colab": {
          "base_uri": "https://localhost:8080/",
          "height": 1000
        },
        "id": "vW2PtHJbYJht",
        "outputId": "d380e421-3798-44f8-f94d-b95d88177800"
      },
      "execution_count": 86,
      "outputs": [
        {
          "output_type": "display_data",
          "data": {
            "text/plain": [
              "<Figure size 432x216 with 1 Axes>"
            ],
            "image/png": "[encoded data removed]"
          },
          "metadata": {}
        },
        {
          "output_type": "display_data",
          "data": {
            "text/plain": [
              "<Figure size 432x216 with 1 Axes>"
            ],
            "image/png": "[encoded data removed]"
          },
          "metadata": {}
        },
        {
          "output_type": "display_data",
          "data": {
            "text/plain": [
              "<Figure size 432x216 with 1 Axes>"
            ],
            "image/png": "[encoded data removed]"
          },
          "metadata": {}
        },
        {
          "output_type": "display_data",
          "data": {
            "text/plain": [
              "<Figure size 432x216 with 1 Axes>"
            ],
            "image/png": "[encoded data removed]"
          },
          "metadata": {}
        },
        {
          "output_type": "display_data",
          "data": {
            "text/plain": [
              "<Figure size 432x216 with 1 Axes>"
            ],
            "image/png": "[encoded data removed]"
          },
          "metadata": {}
        },
        {
          "output_type": "display_data",
          "data": {
            "text/plain": [
              "<Figure size 432x216 with 1 Axes>"
            ],
            "image/png": "[encoded data removed]"
          },
          "metadata": {}
        },
        {
          "output_type": "display_data",
          "data": {
            "text/plain": [
              "<Figure size 432x216 with 1 Axes>"
            ],
            "image/png": "[encoded data removed]"
          },
          "metadata": {}
        },
        {
          "output_type": "display_data",
          "data": {
            "text/plain": [
              "<Figure size 432x216 with 1 Axes>"
            ],
            "image/png": "[encoded data removed]"
          },
          "metadata": {}
        },
        {
          "output_type": "display_data",
          "data": {
            "text/plain": [
              "<Figure size 432x216 with 1 Axes>"
            ],
            "image/png": "[encoded data removed]"
          },
          "metadata": {}
        },
        {
          "output_type": "display_data",
          "data": {
            "text/plain": [
              "<Figure size 432x216 with 1 Axes>"
            ],
            "image/png": "[encoded data removed]"
          },
          "metadata": {}
        }
      ]
    }
  ]
}
