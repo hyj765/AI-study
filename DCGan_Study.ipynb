{
  "nbformat": 4,
  "nbformat_minor": 0,
  "metadata": {
    "colab": {
      "name": "DCGan Study.ipynb",
      "provenance": [],
      "authorship_tag": "ABX9TyOdEUUd8WzzVyPniW8dpWQb",
      "include_colab_link": true
    },
    "kernelspec": {
      "name": "python3",
      "display_name": "Python 3"
    },
    "language_info": {
      "name": "python"
    },
    "accelerator": "GPU"
  },
  "cells": [
    {
      "cell_type": "markdown",
      "metadata": {
        "id": "view-in-github",
        "colab_type": "text"
      },
      "source": [
        "<a href=\"https://colab.research.google.com/github/hyj765/AI-study/blob/main/DCGan_Study.ipynb\" target=\"_parent\"><img src=\"https://colab.research.google.com/assets/colab-badge.svg\" alt=\"Open In Colab\"/></a>"
      ]
    },
    {
      "cell_type": "code",
      "execution_count": 1,
      "metadata": {
        "id": "wncY_WX9ZdE-"
      },
      "outputs": [],
      "source": [
        "from tensorflow.keras.layers import Input,Dense,LeakyReLU,Reshape,Conv2D,Conv2DTranspose,Flatten,Dropout\n",
        "from tensorflow.keras.models import Model\n",
        "from tensorflow.keras.optimizers import RMSprop\n",
        "import numpy as np"
      ]
    },
    {
      "cell_type": "code",
      "source": [
        "latent_dim = 32\n",
        "height = 32\n",
        "width = 32\n",
        "channels = 3"
      ],
      "metadata": {
        "id": "z4prnsOrZ3cw"
      },
      "execution_count": null,
      "outputs": []
    },
    {
      "cell_type": "code",
      "source": [
        "G_input = Input(shape=(latent_dim))"
      ],
      "metadata": {
        "id": "oFql1zQnaEbP"
      },
      "execution_count": null,
      "outputs": []
    },
    {
      "cell_type": "code",
      "source": [
        "x = Dense(128*16*16)(G_input)\n",
        "x = LeakyReLU()(x)\n",
        "x = Reshape((16,16,128))(x)\n",
        "x = Conv2D(256,5,padding='same')(x)\n",
        "x = LeakyReLU()(x)\n",
        "x = Conv2DTranspose(256,4,strides=2 ,padding='same')(x)\n",
        "x = LeakyReLU()(x)\n",
        "x= Conv2D(256,5,padding='same')(x)\n",
        "x = LeakyReLU()(x)\n",
        "x= Conv2D(256,5,padding='same')(x)\n",
        "x = LeakyReLU()(x)\n",
        "x= Conv2D(channels,7,activation='tanh',padding='same')(x)"
      ],
      "metadata": {
        "id": "D2iFBUwZaLQL"
      },
      "execution_count": null,
      "outputs": []
    },
    {
      "cell_type": "code",
      "source": [
        "generator = Model(G_input,x)\n",
        "generator.summary()"
      ],
      "metadata": {
        "colab": {
          "base_uri": "https://localhost:8080/"
        },
        "id": "wgHzdIM1bE-u",
        "outputId": "47a3af94-d6a1-45da-984b-cc048fad6880"
      },
      "execution_count": null,
      "outputs": [
        {
          "output_type": "stream",
          "name": "stdout",
          "text": [
            "Model: \"model\"\n",
            "_________________________________________________________________\n",
            " Layer (type)                Output Shape              Param #   \n",
            "=================================================================\n",
            " input_1 (InputLayer)        [(None, 32)]              0         \n",
            "                                                                 \n",
            " dense (Dense)               (None, 32768)             1081344   \n",
            "                                                                 \n",
            " leaky_re_lu (LeakyReLU)     (None, 32768)             0         \n",
            "                                                                 \n",
            " reshape (Reshape)           (None, 16, 16, 128)       0         \n",
            "                                                                 \n",
            " conv2d (Conv2D)             (None, 16, 16, 256)       819456    \n",
            "                                                                 \n",
            " leaky_re_lu_1 (LeakyReLU)   (None, 16, 16, 256)       0         \n",
            "                                                                 \n",
            " conv2d_transpose (Conv2DTra  (None, 32, 32, 256)      1048832   \n",
            " nspose)                                                         \n",
            "                                                                 \n",
            " leaky_re_lu_2 (LeakyReLU)   (None, 32, 32, 256)       0         \n",
            "                                                                 \n",
            " conv2d_1 (Conv2D)           (None, 32, 32, 256)       1638656   \n",
            "                                                                 \n",
            " leaky_re_lu_3 (LeakyReLU)   (None, 32, 32, 256)       0         \n",
            "                                                                 \n",
            " conv2d_2 (Conv2D)           (None, 32, 32, 256)       1638656   \n",
            "                                                                 \n",
            " leaky_re_lu_4 (LeakyReLU)   (None, 32, 32, 256)       0         \n",
            "                                                                 \n",
            " conv2d_3 (Conv2D)           (None, 32, 32, 3)         37635     \n",
            "                                                                 \n",
            "=================================================================\n",
            "Total params: 6,264,579\n",
            "Trainable params: 6,264,579\n",
            "Non-trainable params: 0\n",
            "_________________________________________________________________\n"
          ]
        }
      ]
    },
    {
      "cell_type": "code",
      "source": [
        "D_input = Input(shape=(height,width,channels))"
      ],
      "metadata": {
        "id": "3Ne8GcYnc05i"
      },
      "execution_count": null,
      "outputs": []
    },
    {
      "cell_type": "code",
      "source": [
        "x = Conv2D(128,3)(D_input)\n",
        "x = LeakyReLU()(x)\n",
        "x = Conv2D(128,4,strides=2)(x)\n",
        "x = LeakyReLU()(x)\n",
        "x = Conv2D(128,4,strides=2)(x)\n",
        "x = LeakyReLU()(x)\n",
        "x = Conv2D(128,4,strides=2)(x)\n",
        "x = LeakyReLU()(x)\n",
        "x = Flatten()(x)\n",
        "x = Dropout(0.4)(x)\n",
        "x = Dense(1,activation='sigmoid')(x)"
      ],
      "metadata": {
        "id": "MYhz5SkIc8Er"
      },
      "execution_count": null,
      "outputs": []
    },
    {
      "cell_type": "code",
      "source": [
        "discriminator = Model(D_input,x)\n",
        "discriminator.summary()"
      ],
      "metadata": {
        "colab": {
          "base_uri": "https://localhost:8080/"
        },
        "id": "hj4C1p16dWJ_",
        "outputId": "ee47100b-ae78-426b-876d-0202b77428f3"
      },
      "execution_count": null,
      "outputs": [
        {
          "output_type": "stream",
          "name": "stdout",
          "text": [
            "Model: \"model_1\"\n",
            "_________________________________________________________________\n",
            " Layer (type)                Output Shape              Param #   \n",
            "=================================================================\n",
            " input_2 (InputLayer)        [(None, 32, 32, 3)]       0         \n",
            "                                                                 \n",
            " conv2d_4 (Conv2D)           (None, 30, 30, 128)       3584      \n",
            "                                                                 \n",
            " leaky_re_lu_5 (LeakyReLU)   (None, 30, 30, 128)       0         \n",
            "                                                                 \n",
            " conv2d_5 (Conv2D)           (None, 14, 14, 128)       262272    \n",
            "                                                                 \n",
            " leaky_re_lu_6 (LeakyReLU)   (None, 14, 14, 128)       0         \n",
            "                                                                 \n",
            " conv2d_6 (Conv2D)           (None, 6, 6, 128)         262272    \n",
            "                                                                 \n",
            " leaky_re_lu_7 (LeakyReLU)   (None, 6, 6, 128)         0         \n",
            "                                                                 \n",
            " conv2d_7 (Conv2D)           (None, 2, 2, 128)         262272    \n",
            "                                                                 \n",
            " leaky_re_lu_8 (LeakyReLU)   (None, 2, 2, 128)         0         \n",
            "                                                                 \n",
            " flatten (Flatten)           (None, 512)               0         \n",
            "                                                                 \n",
            " dropout (Dropout)           (None, 512)               0         \n",
            "                                                                 \n",
            " dense_1 (Dense)             (None, 1)                 513       \n",
            "                                                                 \n",
            "=================================================================\n",
            "Total params: 790,913\n",
            "Trainable params: 790,913\n",
            "Non-trainable params: 0\n",
            "_________________________________________________________________\n"
          ]
        }
      ]
    },
    {
      "cell_type": "code",
      "source": [
        "d_op = RMSprop(lr=0.0004,clipvalue =1.0, decay=1e-8)\n",
        "discriminator.compile(optimizer=d_op,loss='binary_crossentropy')"
      ],
      "metadata": {
        "colab": {
          "base_uri": "https://localhost:8080/"
        },
        "id": "gmjgaRAHdfJo",
        "outputId": "1212b0b8-bb3d-4357-fc13-adf7edf4d820"
      },
      "execution_count": null,
      "outputs": [
        {
          "output_type": "stream",
          "name": "stderr",
          "text": [
            "/usr/local/lib/python3.7/dist-packages/keras/optimizer_v2/rmsprop.py:130: UserWarning: The `lr` argument is deprecated, use `learning_rate` instead.\n",
            "  super(RMSprop, self).__init__(name, **kwargs)\n"
          ]
        }
      ]
    },
    {
      "cell_type": "code",
      "source": [
        "discriminator.trainable = False\n",
        "\n",
        "gan_input = Input(shape=(latent_dim,))\n",
        "gan_output = discriminator(generator(gan_input))\n",
        "gan = Model(gan_input,gan_output)\n",
        "\n",
        "gan_optimizer = RMSprop(learning_rate=0.0004, clipvalue = 1.0,decay=1e-8)\n",
        "gan.compile(optimizer=gan_optimizer, loss='binary_crossentropy')"
      ],
      "metadata": {
        "id": "Co3FYGDueIK-"
      },
      "execution_count": null,
      "outputs": []
    },
    {
      "cell_type": "code",
      "source": [
        "gan.summary()"
      ],
      "metadata": {
        "id": "DV35je-ZBgpS",
        "outputId": "d94f06ad-c5f7-4965-cbe7-02cb26fa1558",
        "colab": {
          "base_uri": "https://localhost:8080/"
        }
      },
      "execution_count": null,
      "outputs": [
        {
          "output_type": "stream",
          "name": "stdout",
          "text": [
            "Model: \"model_2\"\n",
            "_________________________________________________________________\n",
            " Layer (type)                Output Shape              Param #   \n",
            "=================================================================\n",
            " input_3 (InputLayer)        [(None, 32)]              0         \n",
            "                                                                 \n",
            " model (Functional)          (None, 32, 32, 3)         6264579   \n",
            "                                                                 \n",
            " model_1 (Functional)        (None, 1)                 790913    \n",
            "                                                                 \n",
            "=================================================================\n",
            "Total params: 7,055,492\n",
            "Trainable params: 6,264,579\n",
            "Non-trainable params: 790,913\n",
            "_________________________________________________________________\n"
          ]
        }
      ]
    },
    {
      "cell_type": "code",
      "source": [
        "from tensorflow.keras.datasets import cifar10\n",
        "from tensorflow.keras.preprocessing import image"
      ],
      "metadata": {
        "id": "9IQw29Ive3An"
      },
      "execution_count": null,
      "outputs": []
    },
    {
      "cell_type": "code",
      "source": [
        "(x_train,y_train),(_,_) = cifar10.load_data()"
      ],
      "metadata": {
        "colab": {
          "base_uri": "https://localhost:8080/"
        },
        "id": "O72sHGVwfAaR",
        "outputId": "022d5d87-ae5e-46c6-890f-ada19f0e3f58"
      },
      "execution_count": null,
      "outputs": [
        {
          "output_type": "stream",
          "name": "stdout",
          "text": [
            "Downloading data from https://www.cs.toronto.edu/~kriz/cifar-10-python.tar.gz\n",
            "170500096/170498071 [==============================] - 2s 0us/step\n",
            "170508288/170498071 [==============================] - 2s 0us/step\n"
          ]
        }
      ]
    },
    {
      "cell_type": "code",
      "source": [
        "x_train = x_train[y_train.flatten() == 6]"
      ],
      "metadata": {
        "id": "vi5UhbJlfGgT"
      },
      "execution_count": null,
      "outputs": []
    },
    {
      "cell_type": "code",
      "source": [
        "x_train.shape"
      ],
      "metadata": {
        "colab": {
          "base_uri": "https://localhost:8080/"
        },
        "id": "Pabs7f6ufs7M",
        "outputId": "cb3baba1-f3a8-4c41-db71-ef5456e25189"
      },
      "execution_count": null,
      "outputs": [
        {
          "output_type": "execute_result",
          "data": {
            "text/plain": [
              "(5000, 32, 32, 3)"
            ]
          },
          "metadata": {},
          "execution_count": 14
        }
      ]
    },
    {
      "cell_type": "code",
      "source": [
        "x_train = x_train.reshape((x_train.shape[0],)+(height,width,channels)).astype('float32')/255"
      ],
      "metadata": {
        "id": "4-2MaSAffTim"
      },
      "execution_count": null,
      "outputs": []
    },
    {
      "cell_type": "code",
      "source": [
        "import os\n",
        "iterations =10000\n",
        "batch_size = 20\n",
        "\n",
        "save_dir = '/content/gan_images/'\n",
        "if not os.path.exists(save_dir):\n",
        "  os.mkdir(save_dir)\n"
      ],
      "metadata": {
        "id": "_jnGOgdv_51Z"
      },
      "execution_count": null,
      "outputs": []
    },
    {
      "cell_type": "code",
      "source": [
        "start = 0\n",
        "for step in range(iterations):\n",
        "  random_latent = np.random.normal(size=(batch_size,latent_dim))\n",
        "  gernerated_images = generator.predict(random_latent)\n",
        "  stop = start + batch_size\n",
        "  real_images = x_train[start:stop]\n",
        "  combined_images = np.concatenate([gernerated_images,real_images])\n",
        "  \n",
        "  labels = np.concatenate([np.ones((batch_size,1)),\n",
        "                           np.zeros((batch_size,1))])\n",
        "  labels += 0.05 * np.random.random(labels.shape) \n",
        "  d_loss = discriminator.train_on_batch(combined_images,labels)\n",
        "  random_latent = np.random.normal(size=(batch_size,latent_dim))\n",
        "  misleading_targets = np.zeros((batch_size,1))\n",
        "  a_loss = gan.train_on_batch(random_latent,misleading_targets)\n",
        "\n",
        "  start += batch_size\n",
        "  if start > len(x_train) - batch_size:\n",
        "    start  =0 \n",
        "  \n",
        "  if step % 100 == 0:\n",
        "    gan.save_weights('gan.h5')\n",
        "\n",
        "    print('\\n step: {}'.format(step))\n",
        "    print(' discriminator loss: {}'.format(d_loss))\n",
        "    print('adversarialloss: {}'.format(a_loss))\n",
        "\n",
        "    img = image.array_to_img(gernerated_images[0]* 255., scale =False)\n",
        "    img.save(os.path.join(save_dir,'generated_frog' +str(step)+'.png'))"
      ],
      "metadata": {
        "id": "-8pLGQriAMPX",
        "colab": {
          "base_uri": "https://localhost:8080/"
        },
        "outputId": "c2e4fb3e-cb93-411b-a057-d1ccbdda8ded"
      },
      "execution_count": null,
      "outputs": [
        {
          "output_type": "stream",
          "name": "stdout",
          "text": [
            "\n",
            " step: 0\n",
            " discriminator loss: 0.7020300030708313\n",
            "adversarialloss: 0.6964287757873535\n",
            "\n",
            " step: 100\n",
            " discriminator loss: 0.6881148219108582\n",
            "adversarialloss: 1.4949389696121216\n",
            "\n",
            " step: 200\n",
            " discriminator loss: 0.713840663433075\n",
            "adversarialloss: 0.7282712459564209\n",
            "\n",
            " step: 300\n",
            " discriminator loss: 0.7066095471382141\n",
            "adversarialloss: 0.7853308320045471\n",
            "\n",
            " step: 400\n",
            " discriminator loss: 0.7000870704650879\n",
            "adversarialloss: 0.749151885509491\n",
            "\n",
            " step: 500\n",
            " discriminator loss: 0.6930333971977234\n",
            "adversarialloss: 0.7281001210212708\n",
            "\n",
            " step: 600\n",
            " discriminator loss: 0.6975765228271484\n",
            "adversarialloss: 0.7522223591804504\n",
            "\n",
            " step: 700\n",
            " discriminator loss: 0.6965371370315552\n",
            "adversarialloss: 0.7447272539138794\n",
            "\n",
            " step: 800\n",
            " discriminator loss: 0.697443425655365\n",
            "adversarialloss: 0.7442620992660522\n",
            "\n",
            " step: 900\n",
            " discriminator loss: 0.7015034556388855\n",
            "adversarialloss: 0.7491888999938965\n",
            "\n",
            " step: 1000\n",
            " discriminator loss: 0.7132207751274109\n",
            "adversarialloss: 0.8584348559379578\n",
            "\n",
            " step: 1100\n",
            " discriminator loss: 0.6983294486999512\n",
            "adversarialloss: 0.7643462419509888\n",
            "\n",
            " step: 1200\n",
            " discriminator loss: 0.7133681178092957\n",
            "adversarialloss: 0.7499712705612183\n",
            "\n",
            " step: 1300\n",
            " discriminator loss: 0.7027443647384644\n",
            "adversarialloss: 0.7417892813682556\n",
            "\n",
            " step: 1400\n",
            " discriminator loss: 0.7786542177200317\n",
            "adversarialloss: 0.7594097852706909\n",
            "\n",
            " step: 1500\n",
            " discriminator loss: 0.6850496530532837\n",
            "adversarialloss: 0.7614582180976868\n",
            "\n",
            " step: 1600\n",
            " discriminator loss: 0.7147032022476196\n",
            "adversarialloss: 0.7105849981307983\n",
            "\n",
            " step: 1700\n",
            " discriminator loss: 0.7042767405509949\n",
            "adversarialloss: 0.7903504967689514\n",
            "\n",
            " step: 1800\n",
            " discriminator loss: 0.7003053426742554\n",
            "adversarialloss: 0.7450879812240601\n",
            "\n",
            " step: 1900\n",
            " discriminator loss: 0.697096586227417\n",
            "adversarialloss: 0.7575262188911438\n",
            "\n",
            " step: 2000\n",
            " discriminator loss: 0.6994333267211914\n",
            "adversarialloss: 0.8138764500617981\n",
            "\n",
            " step: 2100\n",
            " discriminator loss: 0.6946934461593628\n",
            "adversarialloss: 0.752342939376831\n",
            "\n",
            " step: 2200\n",
            " discriminator loss: 0.6939811706542969\n",
            "adversarialloss: 0.6928411722183228\n",
            "\n",
            " step: 2300\n",
            " discriminator loss: 0.6989432573318481\n",
            "adversarialloss: 0.7128335237503052\n",
            "\n",
            " step: 2400\n",
            " discriminator loss: 0.6684343218803406\n",
            "adversarialloss: 0.7767975926399231\n",
            "\n",
            " step: 2500\n",
            " discriminator loss: 0.6828819513320923\n",
            "adversarialloss: 0.7662509083747864\n",
            "\n",
            " step: 2600\n",
            " discriminator loss: 0.6986668109893799\n",
            "adversarialloss: 1.0041037797927856\n",
            "\n",
            " step: 2700\n",
            " discriminator loss: 0.703159749507904\n",
            "adversarialloss: 0.763088047504425\n",
            "\n",
            " step: 2800\n",
            " discriminator loss: 0.7077625393867493\n",
            "adversarialloss: 0.7858744263648987\n",
            "\n",
            " step: 2900\n",
            " discriminator loss: 0.6869183778762817\n",
            "adversarialloss: 0.7367103695869446\n",
            "\n",
            " step: 3000\n",
            " discriminator loss: 0.6859760880470276\n",
            "adversarialloss: 0.7594404220581055\n",
            "\n",
            " step: 3100\n",
            " discriminator loss: 0.6906195878982544\n",
            "adversarialloss: 0.7813099026679993\n",
            "\n",
            " step: 3200\n",
            " discriminator loss: 0.7041822671890259\n",
            "adversarialloss: 1.4419714212417603\n",
            "\n",
            " step: 3300\n",
            " discriminator loss: 1.3955961465835571\n",
            "adversarialloss: 0.7188156247138977\n",
            "\n",
            " step: 3400\n",
            " discriminator loss: 0.6999111771583557\n",
            "adversarialloss: 0.7235081195831299\n",
            "\n",
            " step: 3500\n",
            " discriminator loss: 0.6941637992858887\n",
            "adversarialloss: 0.7512288093566895\n",
            "\n",
            " step: 3600\n",
            " discriminator loss: 0.7052508592605591\n",
            "adversarialloss: 0.703700065612793\n",
            "\n",
            " step: 3700\n",
            " discriminator loss: 0.6895759701728821\n",
            "adversarialloss: 0.7486673593521118\n",
            "\n",
            " step: 3800\n",
            " discriminator loss: 0.7409327626228333\n",
            "adversarialloss: 0.827715277671814\n",
            "\n",
            " step: 3900\n",
            " discriminator loss: 0.6891740560531616\n",
            "adversarialloss: 0.8796385526657104\n",
            "\n",
            " step: 4000\n",
            " discriminator loss: 0.6956497430801392\n",
            "adversarialloss: 0.7565675377845764\n",
            "\n",
            " step: 4100\n",
            " discriminator loss: 0.6841855049133301\n",
            "adversarialloss: 0.7299500703811646\n",
            "\n",
            " step: 4200\n",
            " discriminator loss: 0.6775002479553223\n",
            "adversarialloss: 0.8907421231269836\n",
            "\n",
            " step: 4300\n",
            " discriminator loss: 0.7038286924362183\n",
            "adversarialloss: 0.7489579916000366\n",
            "\n",
            " step: 4400\n",
            " discriminator loss: 0.6889796257019043\n",
            "adversarialloss: 0.729163408279419\n",
            "\n",
            " step: 4500\n",
            " discriminator loss: 0.7030166387557983\n",
            "adversarialloss: 0.7269980907440186\n",
            "\n",
            " step: 4600\n",
            " discriminator loss: 0.6888057589530945\n",
            "adversarialloss: 0.7359731197357178\n",
            "\n",
            " step: 4700\n",
            " discriminator loss: 0.6743155717849731\n",
            "adversarialloss: 0.8711892366409302\n",
            "\n",
            " step: 4800\n",
            " discriminator loss: 0.7020160555839539\n",
            "adversarialloss: 0.699510931968689\n",
            "\n",
            " step: 4900\n",
            " discriminator loss: 0.7004302740097046\n",
            "adversarialloss: 0.7582350969314575\n",
            "\n",
            " step: 5000\n",
            " discriminator loss: 0.6935579776763916\n",
            "adversarialloss: 0.7802596092224121\n",
            "\n",
            " step: 5100\n",
            " discriminator loss: 0.6915213465690613\n",
            "adversarialloss: 0.710486888885498\n",
            "\n",
            " step: 5200\n",
            " discriminator loss: 0.7069498300552368\n",
            "adversarialloss: 0.8163820505142212\n",
            "\n",
            " step: 5300\n",
            " discriminator loss: 0.670718252658844\n",
            "adversarialloss: 0.7354322075843811\n",
            "\n",
            " step: 5400\n",
            " discriminator loss: 0.6877124905586243\n",
            "adversarialloss: 0.6512836217880249\n",
            "\n",
            " step: 5500\n",
            " discriminator loss: 0.6954159140586853\n",
            "adversarialloss: 0.7549980878829956\n",
            "\n",
            " step: 5600\n",
            " discriminator loss: 0.6495290398597717\n",
            "adversarialloss: 0.9196073412895203\n",
            "\n",
            " step: 5700\n",
            " discriminator loss: 0.703816294670105\n",
            "adversarialloss: 0.7345497012138367\n",
            "\n",
            " step: 5800\n",
            " discriminator loss: 0.6966067552566528\n",
            "adversarialloss: 0.8050022125244141\n",
            "\n",
            " step: 5900\n",
            " discriminator loss: 0.6745017766952515\n",
            "adversarialloss: 0.7062913179397583\n",
            "\n",
            " step: 6000\n",
            " discriminator loss: 0.6844202280044556\n",
            "adversarialloss: 0.9245546460151672\n",
            "\n",
            " step: 6100\n",
            " discriminator loss: 0.6665343642234802\n",
            "adversarialloss: 0.7638295292854309\n",
            "\n",
            " step: 6200\n",
            " discriminator loss: 0.7123150825500488\n",
            "adversarialloss: 0.6471954584121704\n",
            "\n",
            " step: 6300\n",
            " discriminator loss: 0.7107951045036316\n",
            "adversarialloss: 0.7749559283256531\n",
            "\n",
            " step: 6400\n",
            " discriminator loss: 0.699408233165741\n",
            "adversarialloss: 0.8261899948120117\n",
            "\n",
            " step: 6500\n",
            " discriminator loss: 0.6872208714485168\n",
            "adversarialloss: 0.7440735697746277\n",
            "\n",
            " step: 6600\n",
            " discriminator loss: 0.6836745738983154\n",
            "adversarialloss: 0.8281797170639038\n",
            "\n",
            " step: 6700\n",
            " discriminator loss: 0.6793182492256165\n",
            "adversarialloss: 0.8416420221328735\n",
            "\n",
            " step: 6800\n",
            " discriminator loss: 0.6712843179702759\n",
            "adversarialloss: 1.0209753513336182\n",
            "\n",
            " step: 6900\n",
            " discriminator loss: 0.6721359491348267\n",
            "adversarialloss: 0.6912171840667725\n",
            "\n",
            " step: 7000\n",
            " discriminator loss: 0.6851288080215454\n",
            "adversarialloss: 0.7715508341789246\n",
            "\n",
            " step: 7100\n",
            " discriminator loss: 0.69145667552948\n",
            "adversarialloss: 0.7403947114944458\n",
            "\n",
            " step: 7200\n",
            " discriminator loss: 0.7045983672142029\n",
            "adversarialloss: 0.7502676248550415\n",
            "\n",
            " step: 7300\n",
            " discriminator loss: 0.6875849366188049\n",
            "adversarialloss: 0.7540110349655151\n",
            "\n",
            " step: 7400\n",
            " discriminator loss: 0.6887351274490356\n",
            "adversarialloss: 1.413149118423462\n",
            "\n",
            " step: 7500\n",
            " discriminator loss: 0.6796706318855286\n",
            "adversarialloss: 0.8203293085098267\n",
            "\n",
            " step: 7600\n",
            " discriminator loss: 0.6831966042518616\n",
            "adversarialloss: 0.8758293986320496\n",
            "\n",
            " step: 7700\n",
            " discriminator loss: 0.7132943272590637\n",
            "adversarialloss: 0.7759868502616882\n",
            "\n",
            " step: 7800\n",
            " discriminator loss: 0.6999532580375671\n",
            "adversarialloss: 0.9321972131729126\n",
            "\n",
            " step: 7900\n",
            " discriminator loss: 0.6778854727745056\n",
            "adversarialloss: 0.7136050462722778\n",
            "\n",
            " step: 8000\n",
            " discriminator loss: 0.6842314004898071\n",
            "adversarialloss: 0.7607730627059937\n",
            "\n",
            " step: 8100\n",
            " discriminator loss: 0.6862160563468933\n",
            "adversarialloss: 0.7454917430877686\n",
            "\n",
            " step: 8200\n",
            " discriminator loss: 0.6621484160423279\n",
            "adversarialloss: 0.7769886255264282\n",
            "\n",
            " step: 8300\n",
            " discriminator loss: 0.6718167066574097\n",
            "adversarialloss: 0.7397135496139526\n",
            "\n",
            " step: 8400\n",
            " discriminator loss: 0.6976809501647949\n",
            "adversarialloss: 1.0037678480148315\n",
            "\n",
            " step: 8500\n",
            " discriminator loss: 0.674767792224884\n",
            "adversarialloss: 0.8183493614196777\n",
            "\n",
            " step: 8600\n",
            " discriminator loss: 0.7022997140884399\n",
            "adversarialloss: 0.854101300239563\n",
            "\n",
            " step: 8700\n",
            " discriminator loss: 0.7144824266433716\n",
            "adversarialloss: 0.9041353464126587\n",
            "\n",
            " step: 8800\n",
            " discriminator loss: 0.6781858205795288\n",
            "adversarialloss: 0.78946852684021\n",
            "\n",
            " step: 8900\n",
            " discriminator loss: 0.7063801884651184\n",
            "adversarialloss: 0.9006970524787903\n",
            "\n",
            " step: 9000\n",
            " discriminator loss: 0.6847190856933594\n",
            "adversarialloss: 0.8018077611923218\n",
            "\n",
            " step: 9100\n",
            " discriminator loss: 0.6705053448677063\n",
            "adversarialloss: 0.8284451365470886\n",
            "\n",
            " step: 9200\n",
            " discriminator loss: 0.6829372048377991\n",
            "adversarialloss: 0.8460049629211426\n",
            "\n",
            " step: 9300\n",
            " discriminator loss: 0.6752334833145142\n",
            "adversarialloss: 0.8563019037246704\n",
            "\n",
            " step: 9400\n",
            " discriminator loss: 0.7865570187568665\n",
            "adversarialloss: 0.7411317229270935\n",
            "\n",
            " step: 9500\n",
            " discriminator loss: 0.6587860584259033\n",
            "adversarialloss: 0.8986467123031616\n",
            "\n",
            " step: 9600\n",
            " discriminator loss: 0.6743025779724121\n",
            "adversarialloss: 0.8885496258735657\n",
            "\n",
            " step: 9700\n",
            " discriminator loss: 0.6863258481025696\n",
            "adversarialloss: 0.8532115817070007\n",
            "\n",
            " step: 9800\n",
            " discriminator loss: 0.6974407434463501\n",
            "adversarialloss: 0.9972492456436157\n",
            "\n",
            " step: 9900\n",
            " discriminator loss: 0.6649684309959412\n",
            "adversarialloss: 0.7453832030296326\n"
          ]
        }
      ]
    },
    {
      "cell_type": "code",
      "source": [
        "import matplotlib.pyplot as plt\n",
        "\n",
        "random_latent_vectors =np.random.normal(size=(10,latent_dim))\n",
        "generated_images = generator.predict(random_latent_vectors)\n",
        "plt.figure(figsize=(20,8))\n",
        "for i in range(generated_images.shape[0]):\n",
        "  plt.subplot(2,5,i+1)\n",
        "  img = image.array_to_img(generated_images[i]*255.,scale=False)\n",
        "  plt.imshow(img)\n",
        "  plt.xticks([])\n",
        "  plt.yticks([])\n",
        "\n",
        "plt.show()"
      ],
      "metadata": {
        "colab": {
          "base_uri": "https://localhost:8080/",
          "height": 464
        },
        "id": "YcYpZyRDnE8o",
        "outputId": "69c05381-3b30-4d7f-892b-53fe52276da8"
      },
      "execution_count": null,
      "outputs": [
        {
          "output_type": "display_data",
          "data": {
            "text/plain": [
              "<Figure size 1440x576 with 10 Axes>"
            ],
            "image/png": "[encoded data removed]"
          },
          "metadata": {}
        }
      ]
    }
  ]
}