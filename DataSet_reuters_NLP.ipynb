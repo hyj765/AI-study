{
  "nbformat": 4,
  "nbformat_minor": 0,
  "metadata": {
    "colab": {
      "name": "DataSet: reuters_NLP.ipynb",
      "provenance": [],
      "collapsed_sections": [],
      "authorship_tag": "ABX9TyMZUgsG5cr0xFAOcDYTkHia",
      "include_colab_link": true
    },
    "kernelspec": {
      "name": "python3",
      "display_name": "Python 3"
    },
    "language_info": {
      "name": "python"
    }
  },
  "cells": [
    {
      "cell_type": "markdown",
      "metadata": {
        "id": "view-in-github",
        "colab_type": "text"
      },
      "source": [
        "<a href=\"https://colab.research.google.com/github/hyj765/AI-study/blob/main/DataSet_reuters_NLP.ipynb\" target=\"_parent\"><img src=\"https://colab.research.google.com/assets/colab-badge.svg\" alt=\"Open In Colab\"/></a>"
      ]
    },
    {
      "cell_type": "code",
      "metadata": {
        "id": "xROqy9M6eOkp"
      },
      "source": [
        "import tensorflow as tf\n",
        "from tensorflow import keras\n",
        "from tensorflow.keras import layers\n",
        "import matplotlib.pyplot as plt\n",
        "from keras.datasets import reuters\n",
        "from tensorflow.keras.utils import to_categorical\n",
        "from tensorflow.keras.preprocessing.sequence import pad_sequences"
      ],
      "execution_count": 10,
      "outputs": []
    },
    {
      "cell_type": "code",
      "metadata": {
        "id": "1o0PEa9ee4ww",
        "colab": {
          "base_uri": "https://localhost:8080/"
        },
        "outputId": "e77112c2-d14f-4cc7-a753-598272a046e9"
      },
      "source": [
        "(x_train,y_train),(x_test,y_test)=reuters.load_data(num_words=1000,test_split=0.2)"
      ],
      "execution_count": 4,
      "outputs": [
        {
          "output_type": "stream",
          "name": "stdout",
          "text": [
            "Downloading data from https://storage.googleapis.com/tensorflow/tf-keras-datasets/reuters.npz\n",
            "2113536/2110848 [==============================] - 0s 0us/step\n",
            "2121728/2110848 [==============================] - 0s 0us/step\n"
          ]
        }
      ]
    },
    {
      "cell_type": "code",
      "metadata": {
        "colab": {
          "base_uri": "https://localhost:8080/"
        },
        "id": "0ATP6ZfqhAA-",
        "outputId": "d55105ea-f4cb-48b2-ac99-e06256988b6d"
      },
      "source": [
        "print(max(y_train))\n",
        "print(min(y_train))\n",
        "print(x_train.shape)"
      ],
      "execution_count": 5,
      "outputs": [
        {
          "output_type": "stream",
          "name": "stdout",
          "text": [
            "45\n",
            "0\n",
            "(8982,)\n"
          ]
        }
      ]
    },
    {
      "cell_type": "code",
      "metadata": {
        "id": "sNPA2lyWflN_"
      },
      "source": [
        "X_train = pad_sequences(x_train,100)\n",
        "X_test = pad_sequences(x_test,100)\n",
        "Y_train = to_categorical(y_train)\n",
        "Y_test = to_categorical(y_test)"
      ],
      "execution_count": 11,
      "outputs": []
    },
    {
      "cell_type": "code",
      "metadata": {
        "id": "sGmBbhXqjeYq"
      },
      "source": [
        "maxlen = 100\n",
        "vocab_size = 1000\n",
        "head = 2\n",
        "embed_dim=32"
      ],
      "execution_count": 12,
      "outputs": []
    },
    {
      "cell_type": "code",
      "metadata": {
        "id": "FP6xrhGhi3rt"
      },
      "source": [
        "class TransformerBlock(layers.Layer):\n",
        "    def __init__(self, embed_dim, num_heads, ff_dim, rate=0.1):\n",
        "        super(TransformerBlock, self).__init__()\n",
        "        self.att = layers.MultiHeadAttention(num_heads=num_heads, key_dim=embed_dim)\n",
        "        self.ffn = keras.Sequential(\n",
        "            [layers.Dense(ff_dim, activation=\"relu\"), layers.Dense(embed_dim),]\n",
        "        )\n",
        "        self.layernorm1 = layers.LayerNormalization(epsilon=1e-6)\n",
        "        self.layernorm2 = layers.LayerNormalization(epsilon=1e-6)\n",
        "        self.dropout1 = layers.Dropout(rate)\n",
        "        self.dropout2 = layers.Dropout(rate)\n",
        "\n",
        "    def call(self, inputs, training):\n",
        "        attn_output = self.att(inputs, inputs)\n",
        "        attn_output = self.dropout1(attn_output, training=training)\n",
        "        out1 = self.layernorm1(inputs + attn_output)\n",
        "        ffn_output = self.ffn(out1)\n",
        "        ffn_output = self.dropout2(ffn_output, training=training)\n",
        "        return self.layernorm2(out1 + ffn_output)\n",
        "\n",
        "class TokenAndPositionEmbedding(layers.Layer):\n",
        "    def __init__(self, maxlen, vocab_size, embed_dim):\n",
        "        super(TokenAndPositionEmbedding, self).__init__()\n",
        "        self.token_emb = layers.Embedding(input_dim=vocab_size, output_dim=embed_dim)\n",
        "        self.pos_emb = layers.Embedding(input_dim=maxlen, output_dim=embed_dim)\n",
        "\n",
        "    def call(self, x):\n",
        "        maxlen = tf.shape(x)[-1]\n",
        "        positions = tf.range(start=0, limit=maxlen, delta=1)\n",
        "        positions = self.pos_emb(positions)\n",
        "        x = self.token_emb(x)\n",
        "        return x + positions"
      ],
      "execution_count": 13,
      "outputs": []
    },
    {
      "cell_type": "code",
      "metadata": {
        "id": "mM0BRjN5fUaa"
      },
      "source": [
        "inputs = layers.Input(shape=(maxlen,))\n",
        "embedding_layer = TokenAndPositionEmbedding(maxlen, vocab_size, embed_dim)\n",
        "x = embedding_layer(inputs)\n",
        "transformer_block = TransformerBlock(embed_dim, head, embed_dim)\n",
        "x = transformer_block(x)\n",
        "x = layers.GlobalAveragePooling1D()(x)\n",
        "x = layers.Dropout(0.25)(x)\n",
        "x = layers.Dense(20, activation=\"relu\")(x)\n",
        "x = layers.Dropout(0.25)(x)\n",
        "outputs = layers.Dense(46, activation=\"softmax\")(x)\n",
        "\n",
        "model = keras.Model(inputs=inputs, outputs=outputs)"
      ],
      "execution_count": 14,
      "outputs": []
    },
    {
      "cell_type": "code",
      "metadata": {
        "colab": {
          "base_uri": "https://localhost:8080/"
        },
        "id": "fStzby9Gh9in",
        "outputId": "ab6b904c-8a8e-4e1e-e3ca-c6d8d1511973"
      },
      "source": [
        "model.summary()"
      ],
      "execution_count": 15,
      "outputs": [
        {
          "output_type": "stream",
          "name": "stdout",
          "text": [
            "Model: \"model\"\n",
            "_________________________________________________________________\n",
            " Layer (type)                Output Shape              Param #   \n",
            "=================================================================\n",
            " input_1 (InputLayer)        [(None, 100)]             0         \n",
            "                                                                 \n",
            " token_and_position_embeddin  (None, 100, 32)          35200     \n",
            " g (TokenAndPositionEmbeddin                                     \n",
            " g)                                                              \n",
            "                                                                 \n",
            " transformer_block (Transfor  (None, 100, 32)          10656     \n",
            " merBlock)                                                       \n",
            "                                                                 \n",
            " global_average_pooling1d (G  (None, 32)               0         \n",
            " lobalAveragePooling1D)                                          \n",
            "                                                                 \n",
            " dropout_2 (Dropout)         (None, 32)                0         \n",
            "                                                                 \n",
            " dense_2 (Dense)             (None, 20)                660       \n",
            "                                                                 \n",
            " dropout_3 (Dropout)         (None, 20)                0         \n",
            "                                                                 \n",
            " dense_3 (Dense)             (None, 46)                966       \n",
            "                                                                 \n",
            "=================================================================\n",
            "Total params: 47,482\n",
            "Trainable params: 47,482\n",
            "Non-trainable params: 0\n",
            "_________________________________________________________________\n"
          ]
        }
      ]
    },
    {
      "cell_type": "code",
      "metadata": {
        "id": "HVN0x1lRiAZC"
      },
      "source": [
        "model.compile(optimizer=\"adam\",\n",
        "              loss=\"categorical_crossentropy\",\n",
        "              metrics=['accuracy']\n",
        "              )"
      ],
      "execution_count": null,
      "outputs": []
    },
    {
      "cell_type": "code",
      "metadata": {
        "colab": {
          "base_uri": "https://localhost:8080/"
        },
        "id": "JRUF9JRdiRwE",
        "outputId": "a0615527-82ac-4c08-c1f9-2e3d481a85b2"
      },
      "source": [
        "hist = model.fit(X_train,Y_train,epochs=30 , batch_size=32)"
      ],
      "execution_count": null,
      "outputs": [
        {
          "output_type": "stream",
          "name": "stdout",
          "text": [
            "Epoch 1/30\n",
            "281/281 [==============================] - 12s 36ms/step - loss: 2.2191 - accuracy: 0.4575\n",
            "Epoch 2/30\n",
            "281/281 [==============================] - 10s 36ms/step - loss: 1.6510 - accuracy: 0.5893\n",
            "Epoch 3/30\n",
            "281/281 [==============================] - 10s 35ms/step - loss: 1.4503 - accuracy: 0.6485\n",
            "Epoch 4/30\n",
            "281/281 [==============================] - 10s 36ms/step - loss: 1.3030 - accuracy: 0.6805\n",
            "Epoch 5/30\n",
            "281/281 [==============================] - 10s 36ms/step - loss: 1.1978 - accuracy: 0.7029\n",
            "Epoch 6/30\n",
            "281/281 [==============================] - 10s 37ms/step - loss: 1.1405 - accuracy: 0.7182\n",
            "Epoch 7/30\n",
            "281/281 [==============================] - 10s 36ms/step - loss: 1.0893 - accuracy: 0.7256\n",
            "Epoch 8/30\n",
            "281/281 [==============================] - 10s 36ms/step - loss: 1.0498 - accuracy: 0.7368\n",
            "Epoch 9/30\n",
            "281/281 [==============================] - 10s 36ms/step - loss: 1.0017 - accuracy: 0.7477\n",
            "Epoch 10/30\n",
            "281/281 [==============================] - 10s 36ms/step - loss: 0.9755 - accuracy: 0.7547\n",
            "Epoch 11/30\n",
            "281/281 [==============================] - 10s 35ms/step - loss: 0.9382 - accuracy: 0.7676\n",
            "Epoch 12/30\n",
            "281/281 [==============================] - 10s 36ms/step - loss: 0.9093 - accuracy: 0.7655\n",
            "Epoch 13/30\n",
            "281/281 [==============================] - 10s 36ms/step - loss: 0.8989 - accuracy: 0.7724\n",
            "Epoch 14/30\n",
            "281/281 [==============================] - 10s 37ms/step - loss: 0.8736 - accuracy: 0.7768\n",
            "Epoch 15/30\n",
            "281/281 [==============================] - 10s 37ms/step - loss: 0.8426 - accuracy: 0.7866\n",
            "Epoch 16/30\n",
            "281/281 [==============================] - 10s 37ms/step - loss: 0.8301 - accuracy: 0.7803\n",
            "Epoch 17/30\n",
            "281/281 [==============================] - 10s 37ms/step - loss: 0.8191 - accuracy: 0.7876\n",
            "Epoch 18/30\n",
            "281/281 [==============================] - 10s 37ms/step - loss: 0.7985 - accuracy: 0.7934\n",
            "Epoch 19/30\n",
            "281/281 [==============================] - 10s 37ms/step - loss: 0.7937 - accuracy: 0.7959\n",
            "Epoch 20/30\n",
            "281/281 [==============================] - 10s 37ms/step - loss: 0.7738 - accuracy: 0.7950\n",
            "Epoch 21/30\n",
            "281/281 [==============================] - 10s 37ms/step - loss: 0.7551 - accuracy: 0.8029\n",
            "Epoch 22/30\n",
            "281/281 [==============================] - 10s 37ms/step - loss: 0.7605 - accuracy: 0.8024\n",
            "Epoch 23/30\n",
            "281/281 [==============================] - 10s 37ms/step - loss: 0.7455 - accuracy: 0.8041\n",
            "Epoch 24/30\n",
            "281/281 [==============================] - 10s 37ms/step - loss: 0.7256 - accuracy: 0.8068\n",
            "Epoch 25/30\n",
            "281/281 [==============================] - 10s 37ms/step - loss: 0.7362 - accuracy: 0.8064\n",
            "Epoch 26/30\n",
            "281/281 [==============================] - 10s 36ms/step - loss: 0.7118 - accuracy: 0.8154\n",
            "Epoch 27/30\n",
            "281/281 [==============================] - 10s 37ms/step - loss: 0.7100 - accuracy: 0.8127\n",
            "Epoch 28/30\n",
            "281/281 [==============================] - 10s 37ms/step - loss: 0.6915 - accuracy: 0.8211\n",
            "Epoch 29/30\n",
            "281/281 [==============================] - 10s 37ms/step - loss: 0.6770 - accuracy: 0.8171\n",
            "Epoch 30/30\n",
            "281/281 [==============================] - 10s 37ms/step - loss: 0.6708 - accuracy: 0.8220\n"
          ]
        }
      ]
    },
    {
      "cell_type": "code",
      "metadata": {
        "colab": {
          "base_uri": "https://localhost:8080/"
        },
        "id": "3suzGd7Yl_IN",
        "outputId": "719415e3-f7ba-4bf6-c4a0-dd92b0957ac4"
      },
      "source": [
        "model.evaluate(X_test,Y_test)"
      ],
      "execution_count": null,
      "outputs": [
        {
          "output_type": "stream",
          "name": "stdout",
          "text": [
            "71/71 [==============================] - 1s 16ms/step - loss: 1.5523 - accuracy: 0.7079\n"
          ]
        },
        {
          "output_type": "execute_result",
          "data": {
            "text/plain": [
              "[1.552331805229187, 0.7079252004623413]"
            ]
          },
          "metadata": {},
          "execution_count": 72
        }
      ]
    },
    {
      "cell_type": "code",
      "metadata": {
        "colab": {
          "base_uri": "https://localhost:8080/",
          "height": 513
        },
        "id": "Oy4VhH-Onxcx",
        "outputId": "4ec65412-ac54-4941-8a54-cc2a0a825eb0"
      },
      "source": [
        "acc = hist.history['accuracy']\n",
        "loss=hist.history['loss']\n",
        "\n",
        "epochs = range(1,len(loss)+1)\n",
        "\n",
        "plt.plot(epochs,acc,'g--',label = \"acc\")\n",
        "plt.grid()\n",
        "plt.legend()\n",
        "plt.figure()\n",
        "plt.plot(epochs,loss,'r--',label = \"loss\")\n",
        "plt.grid()\n",
        "plt.legend()\n",
        "plt.show()"
      ],
      "execution_count": null,
      "outputs": [
        {
          "output_type": "display_data",
          "data": {
            "image/png": "[encoded data removed]",
            "text/plain": [
              "<Figure size 432x288 with 1 Axes>"
            ]
          },
          "metadata": {
            "needs_background": "light"
          }
        },
        {
          "output_type": "display_data",
          "data": {
            "image/png": "[encoded data removed]",
            "text/plain": [
              "<Figure size 432x288 with 1 Axes>"
            ]
          },
          "metadata": {
            "needs_background": "light"
          }
        }
      ]
    }
  ]
}