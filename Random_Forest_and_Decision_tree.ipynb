{
  "nbformat": 4,
  "nbformat_minor": 0,
  "metadata": {
    "colab": {
      "name": "Random Forest and Decision tree.ipynb",
      "provenance": [],
      "authorship_tag": "ABX9TyMs4eM0NPFLSrtV6eNWEAS+",
      "include_colab_link": true
    },
    "kernelspec": {
      "name": "python3",
      "display_name": "Python 3"
    },
    "language_info": {
      "name": "python"
    }
  },
  "cells": [
    {
      "cell_type": "markdown",
      "metadata": {
        "id": "view-in-github",
        "colab_type": "text"
      },
      "source": [
        "<a href=\"https://colab.research.google.com/github/hyj765/AI-study/blob/main/Random_Forest_and_Decision_tree.ipynb\" target=\"_parent\"><img src=\"https://colab.research.google.com/assets/colab-badge.svg\" alt=\"Open In Colab\"/></a>"
      ]
    },
    {
      "cell_type": "code",
      "execution_count": 42,
      "metadata": {
        "id": "6LMLVIiilUEO"
      },
      "outputs": [],
      "source": [
        "from sklearn.ensemble import RandomForestClassifier\n",
        "from sklearn.tree import DecisionTreeClassifier\n",
        "from sklearn.datasets import load_iris,load_breast_cancer\n",
        "from sklearn.model_selection import train_test_split\n",
        "from sklearn.metrics import confusion_matrix, accuracy_score\n",
        "import numpy as np\n",
        "import pandas as pd"
      ]
    },
    {
      "cell_type": "code",
      "source": [
        "iris_data = load_iris()"
      ],
      "metadata": {
        "id": "wRLxxTHamQo_"
      },
      "execution_count": 2,
      "outputs": []
    },
    {
      "cell_type": "code",
      "source": [
        "iris_data.keys()"
      ],
      "metadata": {
        "colab": {
          "base_uri": "https://localhost:8080/"
        },
        "id": "9izaQbklmYVk",
        "outputId": "546b7065-b001-44fe-cdd0-70899bfe6b68"
      },
      "execution_count": 3,
      "outputs": [
        {
          "output_type": "execute_result",
          "data": {
            "text/plain": [
              "dict_keys(['data', 'target', 'frame', 'target_names', 'DESCR', 'feature_names', 'filename', 'data_module'])"
            ]
          },
          "metadata": {},
          "execution_count": 3
        }
      ]
    },
    {
      "cell_type": "code",
      "source": [
        "x_train,x_test,y_train,y_test = train_test_split(iris_data['data'],iris_data['target'],test_size=0.3,random_state=True)"
      ],
      "metadata": {
        "id": "n5WTHpXombGg"
      },
      "execution_count": 5,
      "outputs": []
    },
    {
      "cell_type": "code",
      "source": [
        "Tree_CL = DecisionTreeClassifier()"
      ],
      "metadata": {
        "id": "j2VoHcIDmrnI"
      },
      "execution_count": 6,
      "outputs": []
    },
    {
      "cell_type": "code",
      "source": [
        "Tree_CL.fit(x_train,y_train)"
      ],
      "metadata": {
        "colab": {
          "base_uri": "https://localhost:8080/"
        },
        "id": "QtEutuUfm2xY",
        "outputId": "37d84174-e77a-46f5-e069-96b6d47dd8fd"
      },
      "execution_count": 8,
      "outputs": [
        {
          "output_type": "execute_result",
          "data": {
            "text/plain": [
              "DecisionTreeClassifier()"
            ]
          },
          "metadata": {},
          "execution_count": 8
        }
      ]
    },
    {
      "cell_type": "code",
      "source": [
        "p_value=Tree_CL.predict(x_test)"
      ],
      "metadata": {
        "id": "djN9GZq_m8pL"
      },
      "execution_count": 12,
      "outputs": []
    },
    {
      "cell_type": "code",
      "source": [
        "def accuracy_print(label,predicted_value,classicfier_name):\n",
        "  acc = accuracy_score(label,predicted_value)\n",
        "  print(classicfier_name+\" acc: {:.2f}%\".format(100*acc))"
      ],
      "metadata": {
        "id": "jZyTo3JanmEl"
      },
      "execution_count": 50,
      "outputs": []
    },
    {
      "cell_type": "code",
      "source": [
        "accuracy_print(y_test,p_value)"
      ],
      "metadata": {
        "colab": {
          "base_uri": "https://localhost:8080/"
        },
        "id": "bB2HK8RIn9L_",
        "outputId": "c522be67-6a34-4f7c-ed86-57a7ca7c4729"
      },
      "execution_count": 13,
      "outputs": [
        {
          "output_type": "stream",
          "name": "stdout",
          "text": [
            "acc: 95.56%\n"
          ]
        }
      ]
    },
    {
      "cell_type": "code",
      "source": [
        "R_Machine = RandomForestClassifier(n_estimators=120,bootstrap=True,criterion=\"entropy\")"
      ],
      "metadata": {
        "id": "ASPQmlMYosCq"
      },
      "execution_count": 38,
      "outputs": []
    },
    {
      "cell_type": "code",
      "source": [
        "R_Machine.fit(x_train,y_train)"
      ],
      "metadata": {
        "colab": {
          "base_uri": "https://localhost:8080/"
        },
        "id": "_bkFzDQ6o90Z",
        "outputId": "a3a63199-6f15-43f4-bb56-22a76cd71167"
      },
      "execution_count": 39,
      "outputs": [
        {
          "output_type": "execute_result",
          "data": {
            "text/plain": [
              "RandomForestClassifier(criterion='entropy', n_estimators=120)"
            ]
          },
          "metadata": {},
          "execution_count": 39
        }
      ]
    },
    {
      "cell_type": "code",
      "source": [
        "p_value = R_Machine.predict(x_test)"
      ],
      "metadata": {
        "id": "VD-6m4u7pChq"
      },
      "execution_count": 40,
      "outputs": []
    },
    {
      "cell_type": "code",
      "source": [
        "accuracy_print(y_test,p_value)"
      ],
      "metadata": {
        "colab": {
          "base_uri": "https://localhost:8080/"
        },
        "id": "3hKUrN9HpI0C",
        "outputId": "eb7c0371-4b5c-4ac5-ca22-18a363469e19"
      },
      "execution_count": 41,
      "outputs": [
        {
          "output_type": "stream",
          "name": "stdout",
          "text": [
            "acc: 95.56%\n"
          ]
        }
      ]
    },
    {
      "cell_type": "code",
      "source": [
        "cancer_data = load_breast_cancer()"
      ],
      "metadata": {
        "id": "6BXuvDJSpqf7"
      },
      "execution_count": 43,
      "outputs": []
    },
    {
      "cell_type": "code",
      "source": [
        "cancer_data.keys()"
      ],
      "metadata": {
        "colab": {
          "base_uri": "https://localhost:8080/"
        },
        "id": "kV-bSg5zpvOx",
        "outputId": "7ac1acee-edb2-492d-970c-a4f227add3cb"
      },
      "execution_count": 44,
      "outputs": [
        {
          "output_type": "execute_result",
          "data": {
            "text/plain": [
              "dict_keys(['data', 'target', 'frame', 'target_names', 'DESCR', 'feature_names', 'filename', 'data_module'])"
            ]
          },
          "metadata": {},
          "execution_count": 44
        }
      ]
    },
    {
      "cell_type": "code",
      "source": [
        "x_train,x_test,y_train,y_test = train_test_split(cancer_data['data'],cancer_data['target'],test_size=0.3,random_state=True)"
      ],
      "metadata": {
        "id": "JLJj6acapyFr"
      },
      "execution_count": 45,
      "outputs": []
    },
    {
      "cell_type": "code",
      "source": [
        "T_Machine = DecisionTreeClassifier()\n",
        "R_Machine = RandomForestClassifier(n_estimators=120,bootstrap=True,criterion=\"entropy\")"
      ],
      "metadata": {
        "id": "jCorUS7vqFWw"
      },
      "execution_count": 46,
      "outputs": []
    },
    {
      "cell_type": "code",
      "source": [
        "T_Machine.fit(x_train,y_train)\n",
        "R_Machine.fit(x_train,y_train)"
      ],
      "metadata": {
        "colab": {
          "base_uri": "https://localhost:8080/"
        },
        "id": "BbubvQVhqQ8V",
        "outputId": "a66f16f4-8a4e-4d93-e0cc-5b0149b723b0"
      },
      "execution_count": 47,
      "outputs": [
        {
          "output_type": "execute_result",
          "data": {
            "text/plain": [
              "RandomForestClassifier(criterion='entropy', n_estimators=120)"
            ]
          },
          "metadata": {},
          "execution_count": 47
        }
      ]
    },
    {
      "cell_type": "code",
      "source": [
        "p_value=T_Machine.predict(x_test)\n",
        "accuracy_print(y_test,p_value,\"Decision Tree\")\n",
        "p_value=R_Machine.predict(x_test)\n",
        "accuracy_print(y_test,p_value,\"Random Forest\")"
      ],
      "metadata": {
        "colab": {
          "base_uri": "https://localhost:8080/"
        },
        "id": "GtWo8N6nqW04",
        "outputId": "1dea3be6-2254-4ed2-9e83-36369739f72a"
      },
      "execution_count": 51,
      "outputs": [
        {
          "output_type": "stream",
          "name": "stdout",
          "text": [
            "Decision Tree acc: 89.47%\n",
            "Random Forest acc: 94.74%\n"
          ]
        }
      ]
    }
  ]
}