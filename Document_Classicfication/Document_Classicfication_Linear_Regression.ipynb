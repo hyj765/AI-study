{
  "nbformat": 4,
  "nbformat_minor": 0,
  "metadata": {
    "colab": {
      "name": "Document Classicfication Linear_Regression.ipynb",
      "provenance": [],
      "authorship_tag": "ABX9TyMGAHhkPZteX6wHwgrpK2n+",
      "include_colab_link": true
    },
    "kernelspec": {
      "name": "python3",
      "display_name": "Python 3"
    },
    "language_info": {
      "name": "python"
    }
  },
  "cells": [
    {
      "cell_type": "markdown",
      "metadata": {
        "id": "view-in-github",
        "colab_type": "text"
      },
      "source": [
        "<a href=\"https://colab.research.google.com/github/hyj765/AI-study/blob/main/Document_Classicfication/Document_Classicfication_Linear_Regression.ipynb\" target=\"_parent\"><img src=\"https://colab.research.google.com/assets/colab-badge.svg\" alt=\"Open In Colab\"/></a>"
      ]
    },
    {
      "cell_type": "code",
      "execution_count": 2,
      "metadata": {
        "id": "wpI8K8M7QARd"
      },
      "outputs": [],
      "source": [
        "from sklearn.datasets import fetch_20newsgroups\n",
        "from sklearn.feature_extraction.text import CountVectorizer\n",
        "from sklearn.model_selection import train_test_split\n",
        "\n",
        "\n",
        "news = fetch_20newsgroups()\n",
        "\n",
        "x = news.data\n",
        "y = news.target\n",
        "\n",
        "cv = CountVectorizer()\n",
        "x = cv.fit_transform(x)\n",
        "\n",
        "x_train, x_test, y_train, y_test = train_test_split(x,y,test_size =0.3)"
      ]
    },
    {
      "cell_type": "code",
      "source": [
        "news.data[0]"
      ],
      "metadata": {
        "colab": {
          "base_uri": "https://localhost:8080/",
          "height": 144
        },
        "id": "Ywja6XAVRqTZ",
        "outputId": "83030b16-9bf2-46ff-a96a-a7a9f76ccd58"
      },
      "execution_count": 9,
      "outputs": [
        {
          "output_type": "execute_result",
          "data": {
            "text/plain": [
              "\"From: lerxst@wam.umd.edu (where's my thing)\\nSubject: WHAT car is this!?\\nNntp-Posting-Host: rac3.wam.umd.edu\\nOrganization: University of Maryland, College Park\\nLines: 15\\n\\n I was wondering if anyone out there could enlighten me on this car I saw\\nthe other day. It was a 2-door sports car, looked to be from the late 60s/\\nearly 70s. It was called a Bricklin. The doors were really small. In addition,\\nthe front bumper was separate from the rest of the body. This is \\nall I know. If anyone can tellme a model name, engine specs, years\\nof production, where this car is made, history, or whatever info you\\nhave on this funky looking car, please e-mail.\\n\\nThanks,\\n- IL\\n   ---- brought to you by your neighborhood Lerxst ----\\n\\n\\n\\n\\n\""
            ],
            "application/vnd.google.colaboratory.intrinsic+json": {
              "type": "string"
            }
          },
          "metadata": {},
          "execution_count": 9
        }
      ]
    },
    {
      "cell_type": "code",
      "source": [
        "print(x_train.shape,y_train.shape, x_test.shape, y_test.shape)"
      ],
      "metadata": {
        "colab": {
          "base_uri": "https://localhost:8080/"
        },
        "id": "4IwrcoY3Qkb0",
        "outputId": "463fd2b6-2075-474c-8ac8-faf89d5c8ae9"
      },
      "execution_count": 4,
      "outputs": [
        {
          "output_type": "stream",
          "name": "stdout",
          "text": [
            "(7919, 130107) (7919,) (3395, 130107) (3395,)\n"
          ]
        }
      ]
    },
    {
      "cell_type": "code",
      "source": [
        "print(x_train[0])"
      ],
      "metadata": {
        "colab": {
          "base_uri": "https://localhost:8080/"
        },
        "id": "rN12w0eyQvFH",
        "outputId": "123d26e1-d1a0-4c54-fe40-cda9184ff8ae"
      },
      "execution_count": 5,
      "outputs": [
        {
          "output_type": "stream",
          "name": "stdout",
          "text": [
            "  (0, 56979)\t1\n",
            "  (0, 111322)\t1\n",
            "  (0, 68532)\t1\n",
            "  (0, 89362)\t1\n",
            "  (0, 76032)\t1\n",
            "  (0, 65798)\t1\n",
            "  (0, 28615)\t1\n",
            "  (0, 80638)\t1\n",
            "  (0, 114455)\t1\n",
            "  (0, 68766)\t1\n",
            "  (0, 115475)\t3\n",
            "  (0, 37433)\t1\n",
            "  (0, 73201)\t1\n",
            "  (0, 90252)\t1\n",
            "  (0, 76722)\t1\n",
            "  (0, 94362)\t1\n",
            "  (0, 78955)\t4\n",
            "  (0, 114428)\t1\n",
            "  (0, 56283)\t2\n",
            "  (0, 28601)\t1\n",
            "  (0, 28012)\t1\n",
            "  (0, 76007)\t2\n",
            "  (0, 59779)\t1\n",
            "  (0, 27721)\t1\n",
            "  (0, 114646)\t1\n",
            "  :\t:\n",
            "  (0, 67872)\t1\n",
            "  (0, 96197)\t1\n",
            "  (0, 72306)\t4\n",
            "  (0, 89377)\t2\n",
            "  (0, 124434)\t1\n",
            "  (0, 86694)\t3\n",
            "  (0, 67880)\t1\n",
            "  (0, 25911)\t1\n",
            "  (0, 124347)\t1\n",
            "  (0, 98562)\t2\n",
            "  (0, 30638)\t1\n",
            "  (0, 99761)\t1\n",
            "  (0, 10049)\t1\n",
            "  (0, 48589)\t10\n",
            "  (0, 120847)\t1\n",
            "  (0, 91650)\t1\n",
            "  (0, 99762)\t1\n",
            "  (0, 23390)\t1\n",
            "  (0, 107601)\t1\n",
            "  (0, 9522)\t1\n",
            "  (0, 60097)\t1\n",
            "  (0, 111636)\t1\n",
            "  (0, 106536)\t1\n",
            "  (0, 121117)\t1\n",
            "  (0, 21725)\t1\n"
          ]
        }
      ]
    },
    {
      "cell_type": "code",
      "source": [
        "from sklearn.metrics import accuracy_score\n",
        "from sklearn.linear_model import LogisticRegression\n",
        "\n",
        "model = LogisticRegression()\n",
        "model.fit(x_train,y_train)\n",
        "\n",
        "pred = model.predict(x_test)\n",
        "acc = accuracy_score(pred,y_test)\n",
        "print(acc)"
      ],
      "metadata": {
        "colab": {
          "base_uri": "https://localhost:8080/"
        },
        "id": "xdxmJMZfQ67Y",
        "outputId": "28553b89-de42-4ed2-c06f-9826b99a709f"
      },
      "execution_count": 8,
      "outputs": [
        {
          "output_type": "stream",
          "name": "stdout",
          "text": [
            "0.872459499263623\n"
          ]
        },
        {
          "output_type": "stream",
          "name": "stderr",
          "text": [
            "/usr/local/lib/python3.7/dist-packages/sklearn/linear_model/_logistic.py:818: ConvergenceWarning: lbfgs failed to converge (status=1):\n",
            "STOP: TOTAL NO. of ITERATIONS REACHED LIMIT.\n",
            "\n",
            "Increase the number of iterations (max_iter) or scale the data as shown in:\n",
            "    https://scikit-learn.org/stable/modules/preprocessing.html\n",
            "Please also refer to the documentation for alternative solver options:\n",
            "    https://scikit-learn.org/stable/modules/linear_model.html#logistic-regression\n",
            "  extra_warning_msg=_LOGISTIC_SOLVER_CONVERGENCE_MSG,\n"
          ]
        }
      ]
    }
  ]
}