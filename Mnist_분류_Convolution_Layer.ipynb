{
  "nbformat": 4,
  "nbformat_minor": 0,
  "metadata": {
    "colab": {
      "name": "Mnist 분류 Convolution Layer.ipynb",
      "provenance": [],
      "authorship_tag": "ABX9TyMLQxrlunJuezb3/oJVIQPq",
      "include_colab_link": true
    },
    "kernelspec": {
      "name": "python3",
      "display_name": "Python 3"
    },
    "language_info": {
      "name": "python"
    },
    "accelerator": "GPU"
  },
  "cells": [
    {
      "cell_type": "markdown",
      "metadata": {
        "id": "view-in-github",
        "colab_type": "text"
      },
      "source": [
        "<a href=\"https://colab.research.google.com/github/hyj765/AI-study/blob/main/Mnist_%EB%B6%84%EB%A5%98_Convolution_Layer.ipynb\" target=\"_parent\"><img src=\"https://colab.research.google.com/assets/colab-badge.svg\" alt=\"Open In Colab\"/></a>"
      ]
    },
    {
      "cell_type": "code",
      "execution_count": 34,
      "metadata": {
        "id": "C1b9If3ahlqq"
      },
      "outputs": [],
      "source": [
        "from tensorflow.keras.models import Sequential\n",
        "from tensorflow.keras.layers import Conv2D,Flatten,Dropout,Dense,MaxPool2D,Input,Reshape\n",
        "from tensorflow.keras.datasets import mnist\n",
        "from tensorflow.keras.utils import to_categorical\n",
        "import matplotlib.pyplot as plt\n",
        "import numpy as np"
      ]
    },
    {
      "cell_type": "code",
      "source": [
        "(x_train,y_train) , (x_test,y_test) = mnist.load_data()"
      ],
      "metadata": {
        "id": "-MuZ5Ag8iFNz"
      },
      "execution_count": 35,
      "outputs": []
    },
    {
      "cell_type": "code",
      "source": [
        "x_train = x_train.reshape(x_train.shape[0], 28, 28, 1)\n",
        "x_test = x_test.reshape(x_test.shape[0], 28, 28, 1)\n",
        "\n",
        "x_train = x_train.astype('float32') / 255.\n",
        "x_test = x_test.astype('float32') / 255.\n",
        "\n",
        "y_train = to_categorical(y_train, 10)\n",
        "y_test = to_categorical(y_test, 10)"
      ],
      "metadata": {
        "id": "WANCf7PDiRZC"
      },
      "execution_count": 36,
      "outputs": []
    },
    {
      "cell_type": "code",
      "source": [
        "y_train.shape"
      ],
      "metadata": {
        "colab": {
          "base_uri": "https://localhost:8080/"
        },
        "id": "HWWrv0JNO76s",
        "outputId": "f54bd4e9-855b-46ca-a6cb-b0454c4acea5"
      },
      "execution_count": 38,
      "outputs": [
        {
          "output_type": "execute_result",
          "data": {
            "text/plain": [
              "(60000, 10)"
            ]
          },
          "metadata": {},
          "execution_count": 38
        }
      ]
    },
    {
      "cell_type": "code",
      "source": [
        "model = Sequential()\n",
        "model.add(Conv2D(64,3,padding='same',activation='relu',input_shape=(28,28,1)))\n",
        "model.add(Conv2D(64,3,padding='same',activation='relu'))\n",
        "model.add(MaxPool2D())\n",
        "model.add(Conv2D(64,3,padding='same',activation='relu'))\n",
        "model.add(Conv2D(64,3,padding='same',activation='relu'))\n",
        "model.add(MaxPool2D())\n",
        "model.add(Flatten())\n",
        "model.add(Dropout(0.5))\n",
        "model.add(Dense(64,activation='relu'))\n",
        "model.add(Dense(10,activation='softmax'))"
      ],
      "metadata": {
        "id": "a6nM-YQviakn"
      },
      "execution_count": 40,
      "outputs": []
    },
    {
      "cell_type": "code",
      "source": [
        "model.compile(loss='categorical_crossentropy',optimizer='adam',metrics=['accuracy'])"
      ],
      "metadata": {
        "id": "k7itjyiNItUK"
      },
      "execution_count": 42,
      "outputs": []
    },
    {
      "cell_type": "code",
      "source": [
        "model.fit(x_train,y_train,epochs=15,batch_size=100)"
      ],
      "metadata": {
        "colab": {
          "base_uri": "https://localhost:8080/"
        },
        "id": "P39xR4KmKGar",
        "outputId": "2f720e1c-2501-48c2-9c57-c2b4f2ed56c9"
      },
      "execution_count": 43,
      "outputs": [
        {
          "output_type": "stream",
          "name": "stdout",
          "text": [
            "Epoch 1/15\n",
            "600/600 [==============================] - 14s 23ms/step - loss: 0.1785 - accuracy: 0.9443\n",
            "Epoch 2/15\n",
            "600/600 [==============================] - 13s 22ms/step - loss: 0.0563 - accuracy: 0.9830\n",
            "Epoch 3/15\n",
            "600/600 [==============================] - 14s 23ms/step - loss: 0.0417 - accuracy: 0.9871\n",
            "Epoch 4/15\n",
            "600/600 [==============================] - 13s 22ms/step - loss: 0.0346 - accuracy: 0.9894\n",
            "Epoch 5/15\n",
            "600/600 [==============================] - 13s 22ms/step - loss: 0.0284 - accuracy: 0.9908\n",
            "Epoch 6/15\n",
            "600/600 [==============================] - 13s 22ms/step - loss: 0.0246 - accuracy: 0.9920\n",
            "Epoch 7/15\n",
            "600/600 [==============================] - 13s 22ms/step - loss: 0.0221 - accuracy: 0.9932\n",
            "Epoch 8/15\n",
            "600/600 [==============================] - 13s 22ms/step - loss: 0.0197 - accuracy: 0.9937\n",
            "Epoch 9/15\n",
            "600/600 [==============================] - 13s 22ms/step - loss: 0.0188 - accuracy: 0.9939\n",
            "Epoch 10/15\n",
            "600/600 [==============================] - 13s 22ms/step - loss: 0.0164 - accuracy: 0.9947\n",
            "Epoch 11/15\n",
            "600/600 [==============================] - 13s 22ms/step - loss: 0.0143 - accuracy: 0.9953\n",
            "Epoch 12/15\n",
            "600/600 [==============================] - 13s 22ms/step - loss: 0.0141 - accuracy: 0.9951\n",
            "Epoch 13/15\n",
            "600/600 [==============================] - 13s 22ms/step - loss: 0.0120 - accuracy: 0.9961\n",
            "Epoch 14/15\n",
            "600/600 [==============================] - 13s 22ms/step - loss: 0.0125 - accuracy: 0.9959\n",
            "Epoch 15/15\n",
            "600/600 [==============================] - 13s 22ms/step - loss: 0.0119 - accuracy: 0.9959\n"
          ]
        },
        {
          "output_type": "execute_result",
          "data": {
            "text/plain": [
              "<keras.callbacks.History at 0x7fa790270350>"
            ]
          },
          "metadata": {},
          "execution_count": 43
        }
      ]
    },
    {
      "cell_type": "code",
      "source": [
        "model.evaluate(x_test,y_test)"
      ],
      "metadata": {
        "colab": {
          "base_uri": "https://localhost:8080/"
        },
        "id": "EXf_M6TEKn__",
        "outputId": "bb69112c-e372-48c9-8480-2461f823d0d0"
      },
      "execution_count": 44,
      "outputs": [
        {
          "output_type": "stream",
          "name": "stdout",
          "text": [
            "313/313 [==============================] - 2s 7ms/step - loss: 0.0197 - accuracy: 0.9945\n"
          ]
        },
        {
          "output_type": "execute_result",
          "data": {
            "text/plain": [
              "[0.019710060209035873, 0.9944999814033508]"
            ]
          },
          "metadata": {},
          "execution_count": 44
        }
      ]
    },
    {
      "cell_type": "code",
      "source": [
        "result=model.predict(x_test)"
      ],
      "metadata": {
        "id": "BtjqINJjQQHA"
      },
      "execution_count": 49,
      "outputs": []
    },
    {
      "cell_type": "code",
      "source": [
        "def plot_image(predicted_label,image):\n",
        "  plt.grid(False)\n",
        "  plt.xticks([])\n",
        "  plt.yticks([])\n",
        "\n",
        "  plt.imshow(image)\n",
        "  plt.xlabel(\"{}\".format(predicted_label,color='blue'))\n",
        "def predict_visualation(i,predicted_array,test_set_images):\n",
        "  for k in range(0,i):\n",
        "    image=test_set_images[k].reshape(28,28)\n",
        "    plt.figure(figsize=(6,3))\n",
        "    plt.subplot(142)\n",
        "    plot_image(np.argmax(predicted_array[i]),image)"
      ],
      "metadata": {
        "id": "Lz2mlJ-rLa6E"
      },
      "execution_count": 55,
      "outputs": []
    },
    {
      "cell_type": "code",
      "source": [
        "predict_visualation(10,result,x_test)"
      ],
      "metadata": {
        "colab": {
          "base_uri": "https://localhost:8080/",
          "height": 1000
        },
        "id": "FjVmLglAQstX",
        "outputId": "9f71965f-cf8c-473c-a24b-f7563108e542"
      },
      "execution_count": 56,
      "outputs": [
        {
          "output_type": "display_data",
          "data": {
            "text/plain": [
              "<Figure size 432x216 with 1 Axes>"
            ],
            "image/png": "[encoded data removed]"
          },
          "metadata": {}
        },
        {
          "output_type": "display_data",
          "data": {
            "text/plain": [
              "<Figure size 432x216 with 1 Axes>"
            ],
            "image/png": "[encoded data removed]"
          },
          "metadata": {}
        },
        {
          "output_type": "display_data",
          "data": {
            "text/plain": [
              "<Figure size 432x216 with 1 Axes>"
            ],
            "image/png": "[encoded data removed]"
          },
          "metadata": {}
        },
        {
          "output_type": "display_data",
          "data": {
            "text/plain": [
              "<Figure size 432x216 with 1 Axes>"
            ],
            "image/png": "[encoded data removed]"
          },
          "metadata": {}
        },
        {
          "output_type": "display_data",
          "data": {
            "text/plain": [
              "<Figure size 432x216 with 1 Axes>"
            ],
            "image/png": "[encoded data removed]"
          },
          "metadata": {}
        },
        {
          "output_type": "display_data",
          "data": {
            "text/plain": [
              "<Figure size 432x216 with 1 Axes>"
            ],
            "image/png": "[encoded data removed]"
          },
          "metadata": {}
        },
        {
          "output_type": "display_data",
          "data": {
            "text/plain": [
              "<Figure size 432x216 with 1 Axes>"
            ],
            "image/png": "[encoded data removed]"
          },
          "metadata": {}
        },
        {
          "output_type": "display_data",
          "data": {
            "text/plain": [
              "<Figure size 432x216 with 1 Axes>"
            ],
            "image/png": "[encoded data removed]"
          },
          "metadata": {}
        },
        {
          "output_type": "display_data",
          "data": {
            "text/plain": [
              "<Figure size 432x216 with 1 Axes>"
            ],
            "image/png": "[encoded data removed]"
          },
          "metadata": {}
        },
        {
          "output_type": "display_data",
          "data": {
            "text/plain": [
              "<Figure size 432x216 with 1 Axes>"
            ],
            "image/png": "[encoded data removed]"
          },
          "metadata": {}
        }
      ]
    }
  ]
}