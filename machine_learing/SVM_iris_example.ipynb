{
  "nbformat": 4,
  "nbformat_minor": 0,
  "metadata": {
    "colab": {
      "name": "SVM iris example.ipynb",
      "provenance": [],
      "authorship_tag": "ABX9TyOCJv6TRIchJ9Kc6IGNE3dw",
      "include_colab_link": true
    },
    "kernelspec": {
      "name": "python3",
      "display_name": "Python 3"
    },
    "language_info": {
      "name": "python"
    }
  },
  "cells": [
    {
      "cell_type": "markdown",
      "metadata": {
        "id": "view-in-github",
        "colab_type": "text"
      },
      "source": [
        "<a href=\"https://colab.research.google.com/github/hyj765/AI-study/blob/main/SVM_iris_example.ipynb\" target=\"_parent\"><img src=\"https://colab.research.google.com/assets/colab-badge.svg\" alt=\"Open In Colab\"/></a>"
      ]
    },
    {
      "cell_type": "code",
      "execution_count": 99,
      "metadata": {
        "id": "bbutuxGlF3ZG"
      },
      "outputs": [],
      "source": [
        "from sklearn.svm import SVC\n",
        "from sklearn.model_selection import train_test_split\n",
        "from sklearn.preprocessing import StandardScaler\n",
        "from sklearn.metrics import accuracy_score\n",
        "from sklearn.datasets import load_iris\n",
        "import numpy as np\n",
        "import pandas as pd"
      ]
    },
    {
      "cell_type": "code",
      "source": [
        "data = load_iris()"
      ],
      "metadata": {
        "id": "7u2RF4ZqGVcP"
      },
      "execution_count": 2,
      "outputs": []
    },
    {
      "cell_type": "code",
      "source": [
        "data.keys()"
      ],
      "metadata": {
        "colab": {
          "base_uri": "https://localhost:8080/"
        },
        "id": "s2iOdVA_Gdd5",
        "outputId": "c74b5df2-a48b-4f47-e569-f5b6586679df"
      },
      "execution_count": 4,
      "outputs": [
        {
          "output_type": "execute_result",
          "data": {
            "text/plain": [
              "dict_keys(['data', 'target', 'frame', 'target_names', 'DESCR', 'feature_names', 'filename', 'data_module'])"
            ]
          },
          "metadata": {},
          "execution_count": 4
        }
      ]
    },
    {
      "cell_type": "code",
      "source": [
        "x_train,x_test,y_train,y_test=train_test_split(data['data'],data['target'],test_size=0.3)"
      ],
      "metadata": {
        "id": "CdoxKyF4GfkO"
      },
      "execution_count": 86,
      "outputs": []
    },
    {
      "cell_type": "code",
      "source": [
        "non_scaled_disc = SVC(kernel='rbf',C=3,gamma=0.1)"
      ],
      "metadata": {
        "id": "XoJ_nteOG-j2"
      },
      "execution_count": 87,
      "outputs": []
    },
    {
      "cell_type": "code",
      "source": [
        "non_scaled_disc.fit(x_train,y_train)"
      ],
      "metadata": {
        "colab": {
          "base_uri": "https://localhost:8080/"
        },
        "id": "ldNYo-qaIIVG",
        "outputId": "52e4767b-a4b1-4467-d8e3-54a41aec742d"
      },
      "execution_count": 88,
      "outputs": [
        {
          "output_type": "execute_result",
          "data": {
            "text/plain": [
              "SVC(C=3, gamma=0.1)"
            ]
          },
          "metadata": {},
          "execution_count": 88
        }
      ]
    },
    {
      "cell_type": "code",
      "source": [
        "pre_y=non_scaled_disc.predict(x_test)"
      ],
      "metadata": {
        "id": "qPpaqThjIkEe"
      },
      "execution_count": 89,
      "outputs": []
    },
    {
      "cell_type": "code",
      "source": [
        "accuracy = accuracy_score(y_test,pre_y)\n",
        "print(\"None_scale_SVM_Classifier_accuracy_score :{:.2f}%\".format(100*accuracy))"
      ],
      "metadata": {
        "colab": {
          "base_uri": "https://localhost:8080/"
        },
        "id": "w8HdrSV-IsBj",
        "outputId": "186debd2-0b1a-470c-c667-95b61139e446"
      },
      "execution_count": 90,
      "outputs": [
        {
          "output_type": "stream",
          "name": "stdout",
          "text": [
            "None_scale_SVM_Classifier_accuracy_score :97.78%\n"
          ]
        }
      ]
    },
    {
      "cell_type": "code",
      "source": [
        "scaler = StandardScaler()\n",
        "scaler.fit(x_train)"
      ],
      "metadata": {
        "colab": {
          "base_uri": "https://localhost:8080/"
        },
        "id": "cRbVYee9KS_3",
        "outputId": "ccd43779-fcdb-4ada-8bf4-cc37858fe292"
      },
      "execution_count": 91,
      "outputs": [
        {
          "output_type": "execute_result",
          "data": {
            "text/plain": [
              "StandardScaler()"
            ]
          },
          "metadata": {},
          "execution_count": 91
        }
      ]
    },
    {
      "cell_type": "code",
      "source": [
        "scale_x_train = scaler.transform(x_train)\n",
        "scale_x_test = scaler.transform(x_test)"
      ],
      "metadata": {
        "id": "pEpJV6wxKunM"
      },
      "execution_count": 92,
      "outputs": []
    },
    {
      "cell_type": "code",
      "source": [
        "scaled_svm = SVC(kernel='rbf',C=3,gamma= 0.1)"
      ],
      "metadata": {
        "id": "fqg_PeNaKztx"
      },
      "execution_count": 103,
      "outputs": []
    },
    {
      "cell_type": "code",
      "source": [
        "scaled_svm.fit(scale_x_train,y_train)\n",
        "pre_y = scaled_svm.predict(scale_x_test)"
      ],
      "metadata": {
        "id": "zHNvLuJ6K8do"
      },
      "execution_count": 104,
      "outputs": []
    },
    {
      "cell_type": "code",
      "source": [
        "accuracy = accuracy_score(y_test,pre_y)\n",
        "print(\"Scale_Data_Use_SVM_Classifier_accuracy_score :{:.2f}%\".format(100*accuracy))"
      ],
      "metadata": {
        "colab": {
          "base_uri": "https://localhost:8080/"
        },
        "id": "xNxdTJ7OLL3S",
        "outputId": "9fa7b33d-c0dd-4d8f-ed92-20113be851ea"
      },
      "execution_count": 105,
      "outputs": [
        {
          "output_type": "stream",
          "name": "stdout",
          "text": [
            "Scale_Data_Use_SVM_Classifier_accuracy_score :97.78%\n"
          ]
        }
      ]
    }
  ]
}
