{
  "nbformat": 4,
  "nbformat_minor": 0,
  "metadata": {
    "colab": {
      "name": "격리트리 공부_네트워크 트래픽.ipynb",
      "provenance": [],
      "authorship_tag": "ABX9TyPeiO5+CgEgqI7/BFzDdQWB",
      "include_colab_link": true
    },
    "kernelspec": {
      "name": "python3",
      "display_name": "Python 3"
    },
    "language_info": {
      "name": "python"
    }
  },
  "cells": [
    {
      "cell_type": "markdown",
      "metadata": {
        "id": "view-in-github",
        "colab_type": "text"
      },
      "source": [
        "<a href=\"https://colab.research.google.com/github/hyj765/AI-study/blob/main/%EA%B2%A9%EB%A6%AC%ED%8A%B8%EB%A6%AC_%EA%B3%B5%EB%B6%80_%EB%84%A4%ED%8A%B8%EC%9B%8C%ED%81%AC_%ED%8A%B8%EB%9E%98%ED%94%BD.ipynb\" target=\"_parent\"><img src=\"https://colab.research.google.com/assets/colab-badge.svg\" alt=\"Open In Colab\"/></a>"
      ]
    },
    {
      "cell_type": "code",
      "execution_count": 90,
      "metadata": {
        "id": "QpFwMH5y5Hx_"
      },
      "outputs": [],
      "source": [
        "import pandas as pd\n",
        "import numpy as np\n",
        "from sklearn.model_selection import train_test_split\n",
        "from sklearn.preprocessing import LabelEncoder\n",
        "from sklearn.ensemble import IsolationForest\n",
        "import plotly.graph_objects as go"
      ]
    },
    {
      "cell_type": "code",
      "source": [
        "data=pd.read_csv('kddcup_dataset.csv')"
      ],
      "metadata": {
        "id": "-uiyYNPJ65Hu"
      },
      "execution_count": 3,
      "outputs": []
    },
    {
      "cell_type": "code",
      "source": [
        "data"
      ],
      "metadata": {
        "colab": {
          "base_uri": "https://localhost:8080/",
          "height": 487
        },
        "id": "WBIbg0v56-1k",
        "outputId": "ae007a28-3c0d-4be5-efb5-6e8385a6cb90"
      },
      "execution_count": 4,
      "outputs": [
        {
          "output_type": "execute_result",
          "data": {
            "text/plain": [
              "       duration  \"protocol_type\"  \"flag\"   \"src_bytes\"   \"dst_bytes\"   \"land\"  \\\n",
              "0             0              tcp      SF           223           185        0   \n",
              "1             0              tcp      SF           230           260        0   \n",
              "2             0              tcp      SF           297         13787        0   \n",
              "3             0              tcp      SF           291          3542        0   \n",
              "4             0              tcp      SF           295           753        0   \n",
              "...         ...              ...     ...           ...           ...      ...   \n",
              "41232         0              tcp      SF           277           525        0   \n",
              "41233         0              tcp      SF           296          3616        0   \n",
              "41234         0              tcp      SF           297          1158        0   \n",
              "41235         0              tcp      SF           290          2126        0   \n",
              "41236         0              tcp      SF           280          3341        0   \n",
              "\n",
              "        \"wrong_fragment\"   \"urgent\"  hot   \"num_failed_logins\"  ...  \\\n",
              "0                      0          0    0                     0  ...   \n",
              "1                      0          0    0                     0  ...   \n",
              "2                      0          0    0                     0  ...   \n",
              "3                      0          0    0                     0  ...   \n",
              "4                      0          0    0                     0  ...   \n",
              "...                  ...        ...  ...                   ...  ...   \n",
              "41232                  0          0    0                     0  ...   \n",
              "41233                  0          0    0                     0  ...   \n",
              "41234                  0          0    0                     0  ...   \n",
              "41235                  0          0    0                     0  ...   \n",
              "41236                  0          0    0                     0  ...   \n",
              "\n",
              "        \"dst_host_srv_count\"   \"dst_host_same_srv_rate\"  \\\n",
              "0                        255                          1   \n",
              "1                        255                          1   \n",
              "2                        255                          1   \n",
              "3                        255                          1   \n",
              "4                        255                          1   \n",
              "...                      ...                        ...   \n",
              "41232                    255                          1   \n",
              "41233                    214                          1   \n",
              "41234                    223                          1   \n",
              "41235                    255                          1   \n",
              "41236                    255                          1   \n",
              "\n",
              "        \"dst_host_diff_srv_rate\"   \"dst_host_same_src_port_rate\"  \\\n",
              "0                              0                               1   \n",
              "1                              0                              33   \n",
              "2                              0                               1   \n",
              "3                              0                               1   \n",
              "4                              0                               1   \n",
              "...                          ...                             ...   \n",
              "41232                          0                               1   \n",
              "41233                          0                               1   \n",
              "41234                          0                               1   \n",
              "41235                          0                              33   \n",
              "41236                          0                               1   \n",
              "\n",
              "        \"dst_host_srv_diff_host_rate\"  dst_host_serror_rate  \\\n",
              "0                                   1                     0   \n",
              "1                                   7                    33   \n",
              "2                                   1                     0   \n",
              "3                                   1                     0   \n",
              "4                                   1                     0   \n",
              "...                               ...                   ...   \n",
              "41232                               6                     0   \n",
              "41233                               4                     0   \n",
              "41234                               4                     0   \n",
              "41235                               7                     0   \n",
              "41236                               3                     0   \n",
              "\n",
              "        \"dst_host_srv_serror_rate\"   \"dst_host_rerror_rate\"  \\\n",
              "0                                0                        0   \n",
              "1                                0                        0   \n",
              "2                                0                        0   \n",
              "3                                0                        0   \n",
              "4                                0                        0   \n",
              "...                            ...                      ...   \n",
              "41232                            0                        0   \n",
              "41233                            0                        0   \n",
              "41234                            0                        0   \n",
              "41235                            0                        0   \n",
              "41236                            0                        0   \n",
              "\n",
              "        \"dst_host_srv_rerror_rate\"   label  \n",
              "0                                0  normal  \n",
              "1                                0  normal  \n",
              "2                                0  normal  \n",
              "3                                0  normal  \n",
              "4                                0  normal  \n",
              "...                            ...     ...  \n",
              "41232                            0  normal  \n",
              "41233                            0  normal  \n",
              "41234                            0  normal  \n",
              "41235                            0  normal  \n",
              "41236                            0  normal  \n",
              "\n",
              "[41237 rows x 41 columns]"
            ],
            "text/html": [
              "\n",
              "  <div id=\"df-9125b9f4-b9a6-43e8-a237-73deef45bdb3\">\n",
              "    <div class=\"colab-df-container\">\n",
              "      <div>\n",
              "<style scoped>\n",
              "    .dataframe tbody tr th:only-of-type {\n",
              "        vertical-align: middle;\n",
              "    }\n",
              "\n",
              "    .dataframe tbody tr th {\n",
              "        vertical-align: top;\n",
              "    }\n",
              "\n",
              "    .dataframe thead th {\n",
              "        text-align: right;\n",
              "    }\n",
              "</style>\n",
              "<table border=\"1\" class=\"dataframe\">\n",
              "  <thead>\n",
              "    <tr style=\"text-align: right;\">\n",
              "      <th></th>\n",
              "      <th>duration</th>\n",
              "      <th>\"protocol_type\"</th>\n",
              "      <th>\"flag\"</th>\n",
              "      <th>\"src_bytes\"</th>\n",
              "      <th>\"dst_bytes\"</th>\n",
              "      <th>\"land\"</th>\n",
              "      <th>\"wrong_fragment\"</th>\n",
              "      <th>\"urgent\"</th>\n",
              "      <th>hot</th>\n",
              "      <th>\"num_failed_logins\"</th>\n",
              "      <th>...</th>\n",
              "      <th>\"dst_host_srv_count\"</th>\n",
              "      <th>\"dst_host_same_srv_rate\"</th>\n",
              "      <th>\"dst_host_diff_srv_rate\"</th>\n",
              "      <th>\"dst_host_same_src_port_rate\"</th>\n",
              "      <th>\"dst_host_srv_diff_host_rate\"</th>\n",
              "      <th>dst_host_serror_rate</th>\n",
              "      <th>\"dst_host_srv_serror_rate\"</th>\n",
              "      <th>\"dst_host_rerror_rate\"</th>\n",
              "      <th>\"dst_host_srv_rerror_rate\"</th>\n",
              "      <th>label</th>\n",
              "    </tr>\n",
              "  </thead>\n",
              "  <tbody>\n",
              "    <tr>\n",
              "      <th>0</th>\n",
              "      <td>0</td>\n",
              "      <td>tcp</td>\n",
              "      <td>SF</td>\n",
              "      <td>223</td>\n",
              "      <td>185</td>\n",
              "      <td>0</td>\n",
              "      <td>0</td>\n",
              "      <td>0</td>\n",
              "      <td>0</td>\n",
              "      <td>0</td>\n",
              "      <td>...</td>\n",
              "      <td>255</td>\n",
              "      <td>1</td>\n",
              "      <td>0</td>\n",
              "      <td>1</td>\n",
              "      <td>1</td>\n",
              "      <td>0</td>\n",
              "      <td>0</td>\n",
              "      <td>0</td>\n",
              "      <td>0</td>\n",
              "      <td>normal</td>\n",
              "    </tr>\n",
              "    <tr>\n",
              "      <th>1</th>\n",
              "      <td>0</td>\n",
              "      <td>tcp</td>\n",
              "      <td>SF</td>\n",
              "      <td>230</td>\n",
              "      <td>260</td>\n",
              "      <td>0</td>\n",
              "      <td>0</td>\n",
              "      <td>0</td>\n",
              "      <td>0</td>\n",
              "      <td>0</td>\n",
              "      <td>...</td>\n",
              "      <td>255</td>\n",
              "      <td>1</td>\n",
              "      <td>0</td>\n",
              "      <td>33</td>\n",
              "      <td>7</td>\n",
              "      <td>33</td>\n",
              "      <td>0</td>\n",
              "      <td>0</td>\n",
              "      <td>0</td>\n",
              "      <td>normal</td>\n",
              "    </tr>\n",
              "    <tr>\n",
              "      <th>2</th>\n",
              "      <td>0</td>\n",
              "      <td>tcp</td>\n",
              "      <td>SF</td>\n",
              "      <td>297</td>\n",
              "      <td>13787</td>\n",
              "      <td>0</td>\n",
              "      <td>0</td>\n",
              "      <td>0</td>\n",
              "      <td>0</td>\n",
              "      <td>0</td>\n",
              "      <td>...</td>\n",
              "      <td>255</td>\n",
              "      <td>1</td>\n",
              "      <td>0</td>\n",
              "      <td>1</td>\n",
              "      <td>1</td>\n",
              "      <td>0</td>\n",
              "      <td>0</td>\n",
              "      <td>0</td>\n",
              "      <td>0</td>\n",
              "      <td>normal</td>\n",
              "    </tr>\n",
              "    <tr>\n",
              "      <th>3</th>\n",
              "      <td>0</td>\n",
              "      <td>tcp</td>\n",
              "      <td>SF</td>\n",
              "      <td>291</td>\n",
              "      <td>3542</td>\n",
              "      <td>0</td>\n",
              "      <td>0</td>\n",
              "      <td>0</td>\n",
              "      <td>0</td>\n",
              "      <td>0</td>\n",
              "      <td>...</td>\n",
              "      <td>255</td>\n",
              "      <td>1</td>\n",
              "      <td>0</td>\n",
              "      <td>1</td>\n",
              "      <td>1</td>\n",
              "      <td>0</td>\n",
              "      <td>0</td>\n",
              "      <td>0</td>\n",
              "      <td>0</td>\n",
              "      <td>normal</td>\n",
              "    </tr>\n",
              "    <tr>\n",
              "      <th>4</th>\n",
              "      <td>0</td>\n",
              "      <td>tcp</td>\n",
              "      <td>SF</td>\n",
              "      <td>295</td>\n",
              "      <td>753</td>\n",
              "      <td>0</td>\n",
              "      <td>0</td>\n",
              "      <td>0</td>\n",
              "      <td>0</td>\n",
              "      <td>0</td>\n",
              "      <td>...</td>\n",
              "      <td>255</td>\n",
              "      <td>1</td>\n",
              "      <td>0</td>\n",
              "      <td>1</td>\n",
              "      <td>1</td>\n",
              "      <td>0</td>\n",
              "      <td>0</td>\n",
              "      <td>0</td>\n",
              "      <td>0</td>\n",
              "      <td>normal</td>\n",
              "    </tr>\n",
              "    <tr>\n",
              "      <th>...</th>\n",
              "      <td>...</td>\n",
              "      <td>...</td>\n",
              "      <td>...</td>\n",
              "      <td>...</td>\n",
              "      <td>...</td>\n",
              "      <td>...</td>\n",
              "      <td>...</td>\n",
              "      <td>...</td>\n",
              "      <td>...</td>\n",
              "      <td>...</td>\n",
              "      <td>...</td>\n",
              "      <td>...</td>\n",
              "      <td>...</td>\n",
              "      <td>...</td>\n",
              "      <td>...</td>\n",
              "      <td>...</td>\n",
              "      <td>...</td>\n",
              "      <td>...</td>\n",
              "      <td>...</td>\n",
              "      <td>...</td>\n",
              "      <td>...</td>\n",
              "    </tr>\n",
              "    <tr>\n",
              "      <th>41232</th>\n",
              "      <td>0</td>\n",
              "      <td>tcp</td>\n",
              "      <td>SF</td>\n",
              "      <td>277</td>\n",
              "      <td>525</td>\n",
              "      <td>0</td>\n",
              "      <td>0</td>\n",
              "      <td>0</td>\n",
              "      <td>0</td>\n",
              "      <td>0</td>\n",
              "      <td>...</td>\n",
              "      <td>255</td>\n",
              "      <td>1</td>\n",
              "      <td>0</td>\n",
              "      <td>1</td>\n",
              "      <td>6</td>\n",
              "      <td>0</td>\n",
              "      <td>0</td>\n",
              "      <td>0</td>\n",
              "      <td>0</td>\n",
              "      <td>normal</td>\n",
              "    </tr>\n",
              "    <tr>\n",
              "      <th>41233</th>\n",
              "      <td>0</td>\n",
              "      <td>tcp</td>\n",
              "      <td>SF</td>\n",
              "      <td>296</td>\n",
              "      <td>3616</td>\n",
              "      <td>0</td>\n",
              "      <td>0</td>\n",
              "      <td>0</td>\n",
              "      <td>0</td>\n",
              "      <td>0</td>\n",
              "      <td>...</td>\n",
              "      <td>214</td>\n",
              "      <td>1</td>\n",
              "      <td>0</td>\n",
              "      <td>1</td>\n",
              "      <td>4</td>\n",
              "      <td>0</td>\n",
              "      <td>0</td>\n",
              "      <td>0</td>\n",
              "      <td>0</td>\n",
              "      <td>normal</td>\n",
              "    </tr>\n",
              "    <tr>\n",
              "      <th>41234</th>\n",
              "      <td>0</td>\n",
              "      <td>tcp</td>\n",
              "      <td>SF</td>\n",
              "      <td>297</td>\n",
              "      <td>1158</td>\n",
              "      <td>0</td>\n",
              "      <td>0</td>\n",
              "      <td>0</td>\n",
              "      <td>0</td>\n",
              "      <td>0</td>\n",
              "      <td>...</td>\n",
              "      <td>223</td>\n",
              "      <td>1</td>\n",
              "      <td>0</td>\n",
              "      <td>1</td>\n",
              "      <td>4</td>\n",
              "      <td>0</td>\n",
              "      <td>0</td>\n",
              "      <td>0</td>\n",
              "      <td>0</td>\n",
              "      <td>normal</td>\n",
              "    </tr>\n",
              "    <tr>\n",
              "      <th>41235</th>\n",
              "      <td>0</td>\n",
              "      <td>tcp</td>\n",
              "      <td>SF</td>\n",
              "      <td>290</td>\n",
              "      <td>2126</td>\n",
              "      <td>0</td>\n",
              "      <td>0</td>\n",
              "      <td>0</td>\n",
              "      <td>0</td>\n",
              "      <td>0</td>\n",
              "      <td>...</td>\n",
              "      <td>255</td>\n",
              "      <td>1</td>\n",
              "      <td>0</td>\n",
              "      <td>33</td>\n",
              "      <td>7</td>\n",
              "      <td>0</td>\n",
              "      <td>0</td>\n",
              "      <td>0</td>\n",
              "      <td>0</td>\n",
              "      <td>normal</td>\n",
              "    </tr>\n",
              "    <tr>\n",
              "      <th>41236</th>\n",
              "      <td>0</td>\n",
              "      <td>tcp</td>\n",
              "      <td>SF</td>\n",
              "      <td>280</td>\n",
              "      <td>3341</td>\n",
              "      <td>0</td>\n",
              "      <td>0</td>\n",
              "      <td>0</td>\n",
              "      <td>0</td>\n",
              "      <td>0</td>\n",
              "      <td>...</td>\n",
              "      <td>255</td>\n",
              "      <td>1</td>\n",
              "      <td>0</td>\n",
              "      <td>1</td>\n",
              "      <td>3</td>\n",
              "      <td>0</td>\n",
              "      <td>0</td>\n",
              "      <td>0</td>\n",
              "      <td>0</td>\n",
              "      <td>normal</td>\n",
              "    </tr>\n",
              "  </tbody>\n",
              "</table>\n",
              "<p>41237 rows × 41 columns</p>\n",
              "</div>\n",
              "      <button class=\"colab-df-convert\" onclick=\"convertToInteractive('df-9125b9f4-b9a6-43e8-a237-73deef45bdb3')\"\n",
              "              title=\"Convert this dataframe to an interactive table.\"\n",
              "              style=\"display:none;\">\n",
              "        \n",
              "  <svg xmlns=\"http://www.w3.org/2000/svg\" height=\"24px\"viewBox=\"0 0 24 24\"\n",
              "       width=\"24px\">\n",
              "    <path d=\"M0 0h24v24H0V0z\" fill=\"none\"/>\n",
              "    <path d=\"M18.56 5.44l.94 2.06.94-2.06 2.06-.94-2.06-.94-.94-2.06-.94 2.06-2.06.94zm-11 1L8.5 8.5l.94-2.06 2.06-.94-2.06-.94L8.5 2.5l-.94 2.06-2.06.94zm10 10l.94 2.06.94-2.06 2.06-.94-2.06-.94-.94-2.06-.94 2.06-2.06.94z\"/><path d=\"M17.41 7.96l-1.37-1.37c-.4-.4-.92-.59-1.43-.59-.52 0-1.04.2-1.43.59L10.3 9.45l-7.72 7.72c-.78.78-.78 2.05 0 2.83L4 21.41c.39.39.9.59 1.41.59.51 0 1.02-.2 1.41-.59l7.78-7.78 2.81-2.81c.8-.78.8-2.07 0-2.86zM5.41 20L4 18.59l7.72-7.72 1.47 1.35L5.41 20z\"/>\n",
              "  </svg>\n",
              "      </button>\n",
              "      \n",
              "  <style>\n",
              "    .colab-df-container {\n",
              "      display:flex;\n",
              "      flex-wrap:wrap;\n",
              "      gap: 12px;\n",
              "    }\n",
              "\n",
              "    .colab-df-convert {\n",
              "      background-color: #E8F0FE;\n",
              "      border: none;\n",
              "      border-radius: 50%;\n",
              "      cursor: pointer;\n",
              "      display: none;\n",
              "      fill: #1967D2;\n",
              "      height: 32px;\n",
              "      padding: 0 0 0 0;\n",
              "      width: 32px;\n",
              "    }\n",
              "\n",
              "    .colab-df-convert:hover {\n",
              "      background-color: #E2EBFA;\n",
              "      box-shadow: 0px 1px 2px rgba(60, 64, 67, 0.3), 0px 1px 3px 1px rgba(60, 64, 67, 0.15);\n",
              "      fill: #174EA6;\n",
              "    }\n",
              "\n",
              "    [theme=dark] .colab-df-convert {\n",
              "      background-color: #3B4455;\n",
              "      fill: #D2E3FC;\n",
              "    }\n",
              "\n",
              "    [theme=dark] .colab-df-convert:hover {\n",
              "      background-color: #434B5C;\n",
              "      box-shadow: 0px 1px 3px 1px rgba(0, 0, 0, 0.15);\n",
              "      filter: drop-shadow(0px 1px 2px rgba(0, 0, 0, 0.3));\n",
              "      fill: #FFFFFF;\n",
              "    }\n",
              "  </style>\n",
              "\n",
              "      <script>\n",
              "        const buttonEl =\n",
              "          document.querySelector('#df-9125b9f4-b9a6-43e8-a237-73deef45bdb3 button.colab-df-convert');\n",
              "        buttonEl.style.display =\n",
              "          google.colab.kernel.accessAllowed ? 'block' : 'none';\n",
              "\n",
              "        async function convertToInteractive(key) {\n",
              "          const element = document.querySelector('#df-9125b9f4-b9a6-43e8-a237-73deef45bdb3');\n",
              "          const dataTable =\n",
              "            await google.colab.kernel.invokeFunction('convertToInteractive',\n",
              "                                                     [key], {});\n",
              "          if (!dataTable) return;\n",
              "\n",
              "          const docLinkHtml = 'Like what you see? Visit the ' +\n",
              "            '<a target=\"_blank\" href=https://colab.research.google.com/notebooks/data_table.ipynb>data table notebook</a>'\n",
              "            + ' to learn more about interactive tables.';\n",
              "          element.innerHTML = '';\n",
              "          dataTable['output_type'] = 'display_data';\n",
              "          await google.colab.output.renderOutput(dataTable, element);\n",
              "          const docLink = document.createElement('div');\n",
              "          docLink.innerHTML = docLinkHtml;\n",
              "          element.appendChild(docLink);\n",
              "        }\n",
              "      </script>\n",
              "    </div>\n",
              "  </div>\n",
              "  "
            ]
          },
          "metadata": {},
          "execution_count": 4
        }
      ]
    },
    {
      "cell_type": "code",
      "source": [
        "y_data=data['label']\n",
        "data.drop('label',axis=1,inplace=True)"
      ],
      "metadata": {
        "colab": {
          "base_uri": "https://localhost:8080/",
          "height": 523
        },
        "id": "PDjQ9cQb830M",
        "outputId": "02392449-8bf5-4b50-bf46-d53977f8fd92"
      },
      "execution_count": 9,
      "outputs": [
        {
          "output_type": "error",
          "ename": "KeyError",
          "evalue": "ignored",
          "traceback": [
            "\u001b[0;31m---------------------------------------------------------------------------\u001b[0m",
            "\u001b[0;31mKeyError\u001b[0m                                  Traceback (most recent call last)",
            "\u001b[0;32m/usr/local/lib/python3.7/dist-packages/pandas/core/indexes/base.py\u001b[0m in \u001b[0;36mget_loc\u001b[0;34m(self, key, method, tolerance)\u001b[0m\n\u001b[1;32m   3360\u001b[0m             \u001b[0;32mtry\u001b[0m\u001b[0;34m:\u001b[0m\u001b[0;34m\u001b[0m\u001b[0;34m\u001b[0m\u001b[0m\n\u001b[0;32m-> 3361\u001b[0;31m                 \u001b[0;32mreturn\u001b[0m \u001b[0mself\u001b[0m\u001b[0;34m.\u001b[0m\u001b[0m_engine\u001b[0m\u001b[0;34m.\u001b[0m\u001b[0mget_loc\u001b[0m\u001b[0;34m(\u001b[0m\u001b[0mcasted_key\u001b[0m\u001b[0;34m)\u001b[0m\u001b[0;34m\u001b[0m\u001b[0;34m\u001b[0m\u001b[0m\n\u001b[0m\u001b[1;32m   3362\u001b[0m             \u001b[0;32mexcept\u001b[0m \u001b[0mKeyError\u001b[0m \u001b[0;32mas\u001b[0m \u001b[0merr\u001b[0m\u001b[0;34m:\u001b[0m\u001b[0;34m\u001b[0m\u001b[0;34m\u001b[0m\u001b[0m\n",
            "\u001b[0;32m/usr/local/lib/python3.7/dist-packages/pandas/_libs/index.pyx\u001b[0m in \u001b[0;36mpandas._libs.index.IndexEngine.get_loc\u001b[0;34m()\u001b[0m\n",
            "\u001b[0;32m/usr/local/lib/python3.7/dist-packages/pandas/_libs/index.pyx\u001b[0m in \u001b[0;36mpandas._libs.index.IndexEngine.get_loc\u001b[0;34m()\u001b[0m\n",
            "\u001b[0;32mpandas/_libs/hashtable_class_helper.pxi\u001b[0m in \u001b[0;36mpandas._libs.hashtable.PyObjectHashTable.get_item\u001b[0;34m()\u001b[0m\n",
            "\u001b[0;32mpandas/_libs/hashtable_class_helper.pxi\u001b[0m in \u001b[0;36mpandas._libs.hashtable.PyObjectHashTable.get_item\u001b[0;34m()\u001b[0m\n",
            "\u001b[0;31mKeyError\u001b[0m: 'label'",
            "\nThe above exception was the direct cause of the following exception:\n",
            "\u001b[0;31mKeyError\u001b[0m                                  Traceback (most recent call last)",
            "\u001b[0;32m<ipython-input-9-4bb7d09ae376>\u001b[0m in \u001b[0;36m<module>\u001b[0;34m()\u001b[0m\n\u001b[0;32m----> 1\u001b[0;31m \u001b[0my_data\u001b[0m\u001b[0;34m=\u001b[0m\u001b[0mdata\u001b[0m\u001b[0;34m[\u001b[0m\u001b[0;34m'label'\u001b[0m\u001b[0;34m]\u001b[0m\u001b[0;34m\u001b[0m\u001b[0;34m\u001b[0m\u001b[0m\n\u001b[0m\u001b[1;32m      2\u001b[0m \u001b[0mx_data\u001b[0m \u001b[0;34m=\u001b[0m\u001b[0mdata\u001b[0m\u001b[0;34m.\u001b[0m\u001b[0mdrop\u001b[0m\u001b[0;34m(\u001b[0m\u001b[0;34m'label'\u001b[0m\u001b[0;34m,\u001b[0m\u001b[0maxis\u001b[0m\u001b[0;34m=\u001b[0m\u001b[0;36m1\u001b[0m\u001b[0;34m,\u001b[0m\u001b[0minplace\u001b[0m\u001b[0;34m=\u001b[0m\u001b[0;32mTrue\u001b[0m\u001b[0;34m)\u001b[0m\u001b[0;34m\u001b[0m\u001b[0;34m\u001b[0m\u001b[0m\n",
            "\u001b[0;32m/usr/local/lib/python3.7/dist-packages/pandas/core/frame.py\u001b[0m in \u001b[0;36m__getitem__\u001b[0;34m(self, key)\u001b[0m\n\u001b[1;32m   3456\u001b[0m             \u001b[0;32mif\u001b[0m \u001b[0mself\u001b[0m\u001b[0;34m.\u001b[0m\u001b[0mcolumns\u001b[0m\u001b[0;34m.\u001b[0m\u001b[0mnlevels\u001b[0m \u001b[0;34m>\u001b[0m \u001b[0;36m1\u001b[0m\u001b[0;34m:\u001b[0m\u001b[0;34m\u001b[0m\u001b[0;34m\u001b[0m\u001b[0m\n\u001b[1;32m   3457\u001b[0m                 \u001b[0;32mreturn\u001b[0m \u001b[0mself\u001b[0m\u001b[0;34m.\u001b[0m\u001b[0m_getitem_multilevel\u001b[0m\u001b[0;34m(\u001b[0m\u001b[0mkey\u001b[0m\u001b[0;34m)\u001b[0m\u001b[0;34m\u001b[0m\u001b[0;34m\u001b[0m\u001b[0m\n\u001b[0;32m-> 3458\u001b[0;31m             \u001b[0mindexer\u001b[0m \u001b[0;34m=\u001b[0m \u001b[0mself\u001b[0m\u001b[0;34m.\u001b[0m\u001b[0mcolumns\u001b[0m\u001b[0;34m.\u001b[0m\u001b[0mget_loc\u001b[0m\u001b[0;34m(\u001b[0m\u001b[0mkey\u001b[0m\u001b[0;34m)\u001b[0m\u001b[0;34m\u001b[0m\u001b[0;34m\u001b[0m\u001b[0m\n\u001b[0m\u001b[1;32m   3459\u001b[0m             \u001b[0;32mif\u001b[0m \u001b[0mis_integer\u001b[0m\u001b[0;34m(\u001b[0m\u001b[0mindexer\u001b[0m\u001b[0;34m)\u001b[0m\u001b[0;34m:\u001b[0m\u001b[0;34m\u001b[0m\u001b[0;34m\u001b[0m\u001b[0m\n\u001b[1;32m   3460\u001b[0m                 \u001b[0mindexer\u001b[0m \u001b[0;34m=\u001b[0m \u001b[0;34m[\u001b[0m\u001b[0mindexer\u001b[0m\u001b[0;34m]\u001b[0m\u001b[0;34m\u001b[0m\u001b[0;34m\u001b[0m\u001b[0m\n",
            "\u001b[0;32m/usr/local/lib/python3.7/dist-packages/pandas/core/indexes/base.py\u001b[0m in \u001b[0;36mget_loc\u001b[0;34m(self, key, method, tolerance)\u001b[0m\n\u001b[1;32m   3361\u001b[0m                 \u001b[0;32mreturn\u001b[0m \u001b[0mself\u001b[0m\u001b[0;34m.\u001b[0m\u001b[0m_engine\u001b[0m\u001b[0;34m.\u001b[0m\u001b[0mget_loc\u001b[0m\u001b[0;34m(\u001b[0m\u001b[0mcasted_key\u001b[0m\u001b[0;34m)\u001b[0m\u001b[0;34m\u001b[0m\u001b[0;34m\u001b[0m\u001b[0m\n\u001b[1;32m   3362\u001b[0m             \u001b[0;32mexcept\u001b[0m \u001b[0mKeyError\u001b[0m \u001b[0;32mas\u001b[0m \u001b[0merr\u001b[0m\u001b[0;34m:\u001b[0m\u001b[0;34m\u001b[0m\u001b[0;34m\u001b[0m\u001b[0m\n\u001b[0;32m-> 3363\u001b[0;31m                 \u001b[0;32mraise\u001b[0m \u001b[0mKeyError\u001b[0m\u001b[0;34m(\u001b[0m\u001b[0mkey\u001b[0m\u001b[0;34m)\u001b[0m \u001b[0;32mfrom\u001b[0m \u001b[0merr\u001b[0m\u001b[0;34m\u001b[0m\u001b[0;34m\u001b[0m\u001b[0m\n\u001b[0m\u001b[1;32m   3364\u001b[0m \u001b[0;34m\u001b[0m\u001b[0m\n\u001b[1;32m   3365\u001b[0m         \u001b[0;32mif\u001b[0m \u001b[0mis_scalar\u001b[0m\u001b[0;34m(\u001b[0m\u001b[0mkey\u001b[0m\u001b[0;34m)\u001b[0m \u001b[0;32mand\u001b[0m \u001b[0misna\u001b[0m\u001b[0;34m(\u001b[0m\u001b[0mkey\u001b[0m\u001b[0;34m)\u001b[0m \u001b[0;32mand\u001b[0m \u001b[0;32mnot\u001b[0m \u001b[0mself\u001b[0m\u001b[0;34m.\u001b[0m\u001b[0mhasnans\u001b[0m\u001b[0;34m:\u001b[0m\u001b[0;34m\u001b[0m\u001b[0;34m\u001b[0m\u001b[0m\n",
            "\u001b[0;31mKeyError\u001b[0m: 'label'"
          ]
        }
      ]
    },
    {
      "cell_type": "code",
      "source": [
        "data\n",
        "print(type(y_data[0]))"
      ],
      "metadata": {
        "colab": {
          "base_uri": "https://localhost:8080/"
        },
        "id": "0NAWxpS79RYD",
        "outputId": "75919d1c-85dc-4ff7-8a58-51b1e61fab8c"
      },
      "execution_count": 17,
      "outputs": [
        {
          "output_type": "stream",
          "name": "stdout",
          "text": [
            "<class 'str'>\n"
          ]
        }
      ]
    },
    {
      "cell_type": "code",
      "source": [
        "f_data = {}\n",
        "for y in y_data:\n",
        "  f_data[y]=0"
      ],
      "metadata": {
        "id": "DLlH-CAz-Fip"
      },
      "execution_count": 23,
      "outputs": []
    },
    {
      "cell_type": "code",
      "source": [
        "for y in y_data:\n",
        "  f_data[y] = f_data[y] +1"
      ],
      "metadata": {
        "id": "v7zf1Q8R-0R8"
      },
      "execution_count": 25,
      "outputs": []
    },
    {
      "cell_type": "code",
      "source": [
        "f_data"
      ],
      "metadata": {
        "colab": {
          "base_uri": "https://localhost:8080/"
        },
        "id": "-ZeKUbzS_EQt",
        "outputId": "ddd015c0-5d7a-42b9-e997-dea496442ca6"
      },
      "execution_count": 26,
      "outputs": [
        {
          "output_type": "execute_result",
          "data": {
            "text/plain": [
              "{'apache2': 794,\n",
              " 'back': 1098,\n",
              " 'neptune': 93,\n",
              " 'normal': 39247,\n",
              " 'phf': 2,\n",
              " 'portsweep': 2,\n",
              " 'saint': 1}"
            ]
          },
          "metadata": {},
          "execution_count": 26
        }
      ]
    },
    {
      "cell_type": "markdown",
      "source": [
        "판다스를 사용하지 않고 레이블 변환"
      ],
      "metadata": {
        "id": "Bhhjf3a6FxaH"
      }
    },
    {
      "cell_type": "code",
      "source": [
        "y_data_temp = y_data\n",
        "for i,y in enumerate(y_data_temp):\n",
        "  if(y == 'normal'):\n",
        "    y_data_temp[i] = 0\n",
        "  else:\n",
        "    y_data_temp[i] = 1"
      ],
      "metadata": {
        "colab": {
          "base_uri": "https://localhost:8080/"
        },
        "id": "gV0wAo66_OJH",
        "outputId": "fa143713-74be-43e0-bda4-c05f3c555f93"
      },
      "execution_count": 27,
      "outputs": [
        {
          "output_type": "stream",
          "name": "stderr",
          "text": [
            "/usr/local/lib/python3.7/dist-packages/ipykernel_launcher.py:4: SettingWithCopyWarning: \n",
            "A value is trying to be set on a copy of a slice from a DataFrame\n",
            "\n",
            "See the caveats in the documentation: https://pandas.pydata.org/pandas-docs/stable/user_guide/indexing.html#returning-a-view-versus-a-copy\n",
            "  after removing the cwd from sys.path.\n",
            "/usr/local/lib/python3.7/dist-packages/ipykernel_launcher.py:6: SettingWithCopyWarning: \n",
            "A value is trying to be set on a copy of a slice from a DataFrame\n",
            "\n",
            "See the caveats in the documentation: https://pandas.pydata.org/pandas-docs/stable/user_guide/indexing.html#returning-a-view-versus-a-copy\n",
            "  \n"
          ]
        }
      ]
    },
    {
      "cell_type": "code",
      "source": [
        "y_data_temp"
      ],
      "metadata": {
        "colab": {
          "base_uri": "https://localhost:8080/"
        },
        "id": "VsXDlTx9_sM4",
        "outputId": "d908eb25-5a96-4505-e0e1-ff3a87c4c236"
      },
      "execution_count": 28,
      "outputs": [
        {
          "output_type": "execute_result",
          "data": {
            "text/plain": [
              "0        0\n",
              "1        0\n",
              "2        0\n",
              "3        0\n",
              "4        0\n",
              "        ..\n",
              "41232    0\n",
              "41233    0\n",
              "41234    0\n",
              "41235    0\n",
              "41236    0\n",
              "Name: label, Length: 41237, dtype: object"
            ]
          },
          "metadata": {},
          "execution_count": 28
        }
      ]
    },
    {
      "cell_type": "markdown",
      "source": [
        "판다스 apply를 사용하여 변환하는 법"
      ],
      "metadata": {
        "id": "DN4SecdRF1vy"
      }
    },
    {
      "cell_type": "code",
      "source": [
        "def labeling(data):\n",
        "  if data == 'normal':\n",
        "    return 0\n",
        "  else:\n",
        "    return 1"
      ],
      "metadata": {
        "id": "SelByNn4GJn2"
      },
      "execution_count": 55,
      "outputs": []
    },
    {
      "cell_type": "code",
      "source": [
        "y_data.apply(labeling)"
      ],
      "metadata": {
        "colab": {
          "base_uri": "https://localhost:8080/"
        },
        "id": "sqEFbaBgF4xU",
        "outputId": "4d165cca-ce86-45f1-9569-e2a2ee408ceb"
      },
      "execution_count": 56,
      "outputs": [
        {
          "output_type": "execute_result",
          "data": {
            "text/plain": [
              "0        1\n",
              "1        1\n",
              "2        1\n",
              "3        1\n",
              "4        1\n",
              "        ..\n",
              "41232    1\n",
              "41233    1\n",
              "41234    1\n",
              "41235    1\n",
              "41236    1\n",
              "Name: label, Length: 41237, dtype: int64"
            ]
          },
          "metadata": {},
          "execution_count": 56
        }
      ]
    },
    {
      "cell_type": "code",
      "source": [
        "x_data =data"
      ],
      "metadata": {
        "id": "rkic899VDph1"
      },
      "execution_count": 37,
      "outputs": []
    },
    {
      "cell_type": "code",
      "source": [
        "from collections import Counter\n",
        "\n",
        "cnt =Counter(y_data_temp).most_common()\n",
        "contamination_parameter = cnt[1][1] / (cnt[0][1] + cnt[1][1]) #전체 값에서 이상값의 수치\n",
        "print(contamination_parameter)"
      ],
      "metadata": {
        "colab": {
          "base_uri": "https://localhost:8080/"
        },
        "id": "ASEmLj-k_0Es",
        "outputId": "974107c8-e70d-490b-b2cd-a5e1d12e687d"
      },
      "execution_count": 35,
      "outputs": [
        {
          "output_type": "stream",
          "name": "stdout",
          "text": [
            "0.04825763270848995\n"
          ]
        }
      ]
    },
    {
      "cell_type": "code",
      "source": [
        "data=pd.read_csv('kddcup_dataset.csv')\n",
        "encodings_dict = dict() #정수가 아닌 값을 가진 피쳐 값을 숫자로 변경\n",
        "for c in data.columns:\n",
        "  if data[c].dtype == \"object\":\n",
        "    encodings_dict[c] = LabelEncoder()\n",
        "    data[c] = encodings_dict[c].fit_transform(data[c])"
      ],
      "metadata": {
        "id": "WWO_erxxC8P8"
      },
      "execution_count": 61,
      "outputs": []
    },
    {
      "cell_type": "code",
      "source": [
        "print(encodings_dict.keys())"
      ],
      "metadata": {
        "colab": {
          "base_uri": "https://localhost:8080/"
        },
        "id": "3jyxMacPD2ON",
        "outputId": "923e5ef6-294c-4f53-b903-ac47ea6c450a"
      },
      "execution_count": 60,
      "outputs": [
        {
          "output_type": "stream",
          "name": "stdout",
          "text": [
            "dict_keys([])\n"
          ]
        }
      ]
    },
    {
      "cell_type": "code",
      "source": [
        "data[\"label\"].apply(labeling)\n",
        "normal = data[data['label']==0]\n",
        "abnormal = data[data['label']==1]"
      ],
      "metadata": {
        "id": "nMoxaJV1E3kT"
      },
      "execution_count": 68,
      "outputs": []
    },
    {
      "cell_type": "code",
      "source": [
        "y_normal_data=normal.pop(\"label\").values\n",
        "x_noraml_data=normal.values "
      ],
      "metadata": {
        "id": "SQ0MQhgXJEIB"
      },
      "execution_count": 69,
      "outputs": []
    },
    {
      "cell_type": "code",
      "source": [
        "x_noraml_data"
      ],
      "metadata": {
        "colab": {
          "base_uri": "https://localhost:8080/"
        },
        "id": "4bLIY6I3JTJ5",
        "outputId": "ac14c617-753d-4883-c3ce-d9d6036d624a"
      },
      "execution_count": 72,
      "outputs": [
        {
          "output_type": "execute_result",
          "data": {
            "text/plain": [
              "array([[906,   0,   2, ...,   0,   0,   0],\n",
              "       [906,   0,   2, ...,   0,   1,   1],\n",
              "       [906,   0,   2, ...,   0,   1,   1],\n",
              "       ...,\n",
              "       [805,   0,   2, ...,   3,  74,  74],\n",
              "       [  0,   0,   3, ...,   4,  74,  74],\n",
              "       [  0,   0,   3, ...,   4,  74,  74]])"
            ]
          },
          "metadata": {},
          "execution_count": 72
        }
      ]
    },
    {
      "cell_type": "code",
      "source": [
        "y_anomal_data = abnormal.pop(\"label\").values\n",
        "x_anomal_data = abnormal.values"
      ],
      "metadata": {
        "id": "N-s0clvjJsGf"
      },
      "execution_count": 73,
      "outputs": []
    },
    {
      "cell_type": "code",
      "source": [
        "print(y_anomal_data[0:10])\n",
        "print(x_anomal_data[0:10])"
      ],
      "metadata": {
        "colab": {
          "base_uri": "https://localhost:8080/"
        },
        "id": "9ZdCg39xJ5HA",
        "outputId": "12140ad4-33cc-4441-c9a8-c685d3605858"
      },
      "execution_count": 74,
      "outputs": [
        {
          "output_type": "stream",
          "name": "stdout",
          "text": [
            "[1 1 1 1 1 1 1 1 1 1]\n",
            "[[    0     0     7 54540  8314     0     0     0     2     0     1     1\n",
            "      0     0     0     0     0     0     0     0     0     1     1     0\n",
            "      0     0     0     1     0     0   255   250    98     1     0     0\n",
            "      0     0     0     0]\n",
            " [    0     0     2 39420  4380     0     0     0     1     0     1     0\n",
            "      0     0     0     0     0     0     0     0     0     2     2     0\n",
            "      0     5     5     1     0     0   255   250    98     1     0     0\n",
            "      0     0     1     0]\n",
            " [    0     0     7 54540  8314     0     0     0     2     0     1     1\n",
            "      0     0     0     0     0     0     0     0     0     3     3     0\n",
            "      0    33    33     1     0     0   255   250    98     1     0     0\n",
            "      0     0     1     0]\n",
            " [    0     0     7 54540  8314     0     0     0     2     0     1     1\n",
            "      0     0     0     0     0     0     0     0     0     2     2     0\n",
            "      0     0     0     1     0     0   255   250    98     1     0     0\n",
            "      0     0     1     0]\n",
            " [    0     0     7 54540  8314     0     0     0     2     0     1     1\n",
            "      0     0     0     0     0     0     0     0     0     2     2     0\n",
            "      0     0     0     1     0     0   255   250    98     1     0     0\n",
            "      0     0     1     0]\n",
            " [    0     0     7 54540  8314     0     0     0     2     0     1     1\n",
            "      0     0     0     0     0     0     0     0     0     3     3     0\n",
            "      0     0     0     1     0     0   255   250    98     1     0     0\n",
            "      0     0     1     0]\n",
            " [    0     0     7 54540  8314     0     0     0     2     0     1     1\n",
            "      0     0     0     0     0     0     0     0     0     3     3     0\n",
            "      0     0     0     1     0     0   255   250    98     1     0     0\n",
            "      0     0     1     0]\n",
            " [    0     0     7 54540  8314     0     0     0     2     0     1     1\n",
            "      0     0     0     0     0     0     0     0     0     3     3     0\n",
            "      0     0     0     1     0     0   255   251    98     1     0     0\n",
            "      0     0     0     0]\n",
            " [    0     0     7 54540  8314     0     0     0     2     0     1     1\n",
            "      0     0     0     0     0     0     0     0     0     4     4     0\n",
            "      0     0     0     1     0     0   255   251    98     1     0     0\n",
            "      0     0     0     0]\n",
            " [    0     0     7 54540  8314     0     0     0     2     0     1     1\n",
            "      0     0     0     0     0     0     0     0     0     3     3     0\n",
            "      0     0     0     1     0     0   255   251    98     1     0     0\n",
            "      0     0     0     0]]\n"
          ]
        }
      ]
    },
    {
      "cell_type": "code",
      "source": [
        "x_normal_train,x_normal_test,y_normal_train,y_normal_test = train_test_split(x_noraml_data,y_normal_data,test_size=0.3,random_state=11)"
      ],
      "metadata": {
        "id": "R6nWATUjayoy"
      },
      "execution_count": 85,
      "outputs": []
    },
    {
      "cell_type": "code",
      "source": [
        "x_anomal_train,x_anomal_test,y_anormal_train,y_anormal_test = train_test_split(x_anomal_data,y_anomal_data,test_size=0.3,random_state=11)"
      ],
      "metadata": {
        "id": "dmAxNAMEbZXU"
      },
      "execution_count": 77,
      "outputs": []
    },
    {
      "cell_type": "code",
      "source": [
        "x_train = np.concatenate((x_normal_train,x_normal_train))\n",
        "x_test = np.concatenate((x_normal_test,x_anomal_test))\n",
        "y_train = np.concatenate((y_normal_train,y_anormal_train))\n",
        "y_test = np.concatenate((y_normal_test,y_anormal_test))"
      ],
      "metadata": {
        "id": "S6W4-jZPb9l7"
      },
      "execution_count": 86,
      "outputs": []
    },
    {
      "cell_type": "code",
      "source": [
        "machine = IsolationForest(contamination=contamination_parameter)\n",
        "machine.fit(x_train,y_train)"
      ],
      "metadata": {
        "colab": {
          "base_uri": "https://localhost:8080/"
        },
        "id": "BZmO8dKfboA_",
        "outputId": "61d5f9fa-42bd-4b47-aba4-b98dae293a12"
      },
      "execution_count": 87,
      "outputs": [
        {
          "output_type": "execute_result",
          "data": {
            "text/plain": [
              "IsolationForest(contamination=0.04825763270848995)"
            ]
          },
          "metadata": {},
          "execution_count": 87
        }
      ]
    },
    {
      "cell_type": "code",
      "source": [
        "d_train_normal = machine.decision_function(x_normal_train)\n",
        "d_train_anormal = machine.decision_function(x_anomal_train)"
      ],
      "metadata": {
        "id": "EvpaXTaWc2ap"
      },
      "execution_count": 89,
      "outputs": []
    },
    {
      "cell_type": "code",
      "source": [
        "def D_graph(score_data,_title_text,_xttext,_yttext):\n",
        "  fig = go.Figure(data=[go.Histogram(x=score_data)])\n",
        "  fig.update_layout(\n",
        "      title_text = _title_text,\n",
        "      xaxis_title_text =_xttext,\n",
        "      yaxis_title_text = _yttext,\n",
        "      bargap=0.2,\n",
        "      bargroupgap=0.1\n",
        "  )\n",
        "  fig.show()"
      ],
      "metadata": {
        "id": "bec61oqrdMMz"
      },
      "execution_count": 93,
      "outputs": []
    },
    {
      "cell_type": "code",
      "source": [
        "D_graph(d_train_normal,'정상 네트워크 개체 훈련 점수','점수','빈도 수')\n",
        "D_graph(d_train_anormal,'비정상 네트워크 개체 훈련 점수','점수','빈도 수')"
      ],
      "metadata": {
        "colab": {
          "base_uri": "https://localhost:8080/",
          "height": 1000
        },
        "id": "5oLv0BnJeYhW",
        "outputId": "5a899340-8b3f-48a0-a9e2-0c9588d10c0c"
      },
      "execution_count": 94,
      "outputs": [
        {
          "output_type": "display_data",
          "data": {
            "text/html": [
              "<html>\n",
              "<head><meta charset=\"utf-8\" /></head>\n",
              "<body>\n",
              "    <div>            <script src=\"https://cdnjs.cloudflare.com/ajax/libs/mathjax/2.7.5/MathJax.js?config=TeX-AMS-MML_SVG\"></script><script type=\"text/javascript\">if (window.MathJax) {MathJax.Hub.Config({SVG: {font: \"STIX-Web\"}});}</script>                <script type=\"text/javascript\">window.PlotlyConfig = {MathJaxConfig: 'local'};</script>\n",
              "        <script src=\"https://cdn.plot.ly/plotly-2.8.3.min.js\"></script>                <div id=\"635fe0c7-4e5c-449b-91a5-650156c894f9\" class=\"plotly-graph-div\" style=\"height:525px; width:100%;\"></div>            <script type=\"text/javascript\">                                    window.PLOTLYENV=window.PLOTLYENV || {};                                    if (document.getElementById(\"635fe0c7-4e5c-449b-91a5-650156c894f9\")) {                    Plotly.newPlot(                        \"635fe0c7-4e5c-449b-91a5-650156c894f9\",                        [{\"x\":[0.09264338140832523,0.03198307546561974,0.11285862403225633,0.12908764307791498,0.05804404942460972,0.1304882545247117,0.06927632043121201,0.15286809769021514,0.034730871193524915,0.1451026161444679,-0.012376484871531868,0.04625194274312405,0.07510754035044348,0.019706640199500303,0.07467231268392216,0.054322824352941335,0.09341354083145337,0.15517017488273277,0.034565659861168,0.043965566792100175,0.11777140567584216,0.06215775276370439,0.14951228358110957,0.09027143859758169,0.16155442020521532,0.15010883842130213,0.07928017418242095,0.08187100116962798,0.029991391109360777,0.043105311970461635,0.07307241942899279,0.11541205362764284,0.07294183304361324,0.11853989229042688,0.1553761969861826,0.11175296298636761,0.13659498964420713,0.10331971506571308,0.0004792356631557748,0.11229582491738888,0.02083903451918645,-0.018807679458805127,0.035478501717207456,0.10319020120803823,0.02111878899739117,0.04518240988592659,0.1352929388951679,0.0703654052623009,0.07410942807207932,0.1435841462912486,0.040718051090313345,0.14583488336948308,0.09373486295766076,0.0989681200839772,0.03883128931591828,0.10593731796751765,0.0640664774487616,0.08984379693182604,0.08401358396997893,0.11579010581824895,0.09212894439069375,0.039559419213157976,0.10823667996637981,0.00488166324216488,-0.0027210031444163674,0.14855159776388516,0.08277616928544984,0.12777632064686612,0.1494454657581304,0.06253395788280675,0.02194411395998297,0.09479921309089151,0.11348593655380529,0.13347701225033365,-0.007201451337180642,0.0950729688447271,-0.03155638203434452,0.062184024471783506,0.15243091964805244,0.054899625956011944,0.07478361176507115,0.10557571154300444,0.002339526388571711,-0.032144815282949546,0.08607566492311419,0.047965217085747636,0.10527257391373102,0.07757713531451449,0.07107485207193953,0.0729369431209328,0.09343556044661883,0.06003294637201706,0.07057584152070678,0.09832150238445037,0.051941259972952736,0.04096388542971874,0.04890530697599027,0.08905339329332751,0.12910809875264112,0.11547919321116107,0.03674398658467892,0.0986416085944532,0.0659202398684548,0.1163165097467021,0.09085835353836236,-0.012553424840175631,0.10059642161006416,0.07523694988945973,0.0317004060422541,0.14860517625350478,0.0984682919448035,0.15116073372843764,0.08500418132766085,0.058172178871076285,0.15229769347355487,0.10563909867566545,0.012064100163985292,0.1361051973448022,0.028215968555720394,0.09235397845192017,0.12419184449919796,-0.004650148823794331,0.14083398500912647,0.11897904219407879,0.06427680725513224,0.028189533600005423,0.131999635655366,0.02936577026877807,0.10103274234835341,0.01399673870222451,0.05628244038907593,0.07773534458807668,0.06978571955433177,0.07326703844732169,-0.004930879911248298,0.15343751298668218,0.05631556241524982,0.12687725302345676,0.00969560382518897,0.057922415349421996,0.08962158768969813,0.09387817681309196,0.08912010874824,0.014173628670462013,0.06066757951892654,0.05461391559602746,0.07964177330327443,0.07455355791797053,0.08253458839169658,0.10205269376308751,0.12943459035302746,-0.028617851097242464,0.14648855092386126,0.029360032579871076,0.08658458848926359,0.15787734892926386,0.023104062704639383,0.08087438306182176,0.15489511762161268,0.08063738883214716,0.11807931542258032,0.019432825964537992,0.1046327660870019,0.04046612346357137,0.1572624991505721,0.08095954195977512,0.10441740149103723,0.09563196108679844,0.14142491625629316,0.13698114111077792,0.10421390249193047,0.09218125246266307,-0.04473532212054743,0.13169244851140988,0.08607620375982905,0.12485366817032123,0.150634838918072,0.11589661474293317,0.06833654129623806,0.07483337297602544,0.13062637234297086,0.11751636158795065,0.12636002560630716,0.08164646394875197,0.07704182910748819,0.031607079632324675,0.03744753393842282,0.05552700124643983,0.07410269060364783,0.09793624187732758,0.06602526073470216,0.14948190555120244,0.15018361456925372,0.1482055143762268,0.13225088172541483,0.09114378136156748,-0.00017375242149808567,0.1220762738751045,-0.005203939543760638,0.04101808899951476,0.12477114652430915,0.10024204806366688,0.04724357814984126,-0.00615838892102849,0.0807191612715582,0.05726054768462285,0.11449470912907117,0.14652736088135732,0.1287786601693281,0.13027033184954528,0.03213896659547821,0.15692013612699873,0.07125602208270959,0.02740093222020179,0.13835720950108,0.1260664320072154,0.13610191010251077,0.10480139302388175,0.09903494929851459,0.10824334223651816,0.12631662186400971,0.13206375634741535,0.11050600700555502,0.09959895788747658,0.14276732431907452,0.06354585243935923,0.03305513603412569,0.011793056880110453,0.13335365807212812,0.13031883236393493,0.11166649153487823,0.1140988453436187,0.10627595631533854,0.03308966800281887,0.1582530536102535,-0.016184052136561045,0.09505950878820985,0.015996045746410337,0.0849457627211157,0.1493663637506078,0.152413497640219,0.023181879842684383,0.15265078278627753,0.15092335860569733,0.12249234705625034,0.10364183520398074,0.057635126316313734,0.09399968174268974,0.07586027814964297,0.09340804114367546,0.028702918792065213,0.09396859737015523,0.09806201224616451,0.04886434949241092,0.03544329268277924,0.024172677301090406,0.04694878477691111,0.09527598589426084,0.11894178181635184,0.08338661179230017,0.05246847755457784,0.07775663302511387,0.06137130118429046,0.019179715874155456,-0.01002610172357321,0.15378711231927056,0.10248867999402067,0.09722072475871274,0.09407239014308721,0.019740964745631584,0.10254383219693353,0.05172617886330322,0.12680162371102927,0.09387489652655312,0.14047999394893046,0.11709025939842099,0.09798282175202044,0.03288537976204342,0.07892898643620122,0.09593234408683621,0.05975495450307289,0.055550332445546635,0.08018394596637735,0.0301848051974547,0.08873264544011528,0.10767855354615152,0.06216911078171944,0.1040246573629327,0.14990315203523985,0.08081688213591648,0.11128117984885927,0.029601106723677217,0.10180253446111315,0.13431214541363062,0.1435583731102093,0.1056010411332865,0.020716461808063302,0.08563843592209569,0.07316084430728376,-0.021677214910212017,0.08011969963377674,-0.018457394486526835,0.008869975249414908,0.04155973161112114,0.10989463408310196,0.09438301894908024,0.07338976548751552,0.11400559694282342,0.10026206398976523,0.03995746575760928,0.13606980237659239,-0.001710407310196338,0.14325051283161355,0.009337157962512221,0.098938184132775,0.13925057742096852,0.08612749807713699,0.09835177393977729,0.0693913515990503,0.011889839835094396,0.13991739578475093,0.08471526403506002,0.06823013892813645,0.07782452158537334,0.12192914381347658,0.07936102674149148,0.04973480561239396,-0.03263899611708487,0.1386195690149976,0.13481693846701454,0.09029724251690213,0.06849793563734313,0.0490654232870561,0.06901364196243764,0.12564178705167423,0.14271697867098332,0.1418029555559046,0.09427059772445873,0.11022621703965041,0.10613529689945461,0.07230598261259474,0.00016186182766197987,0.06102730682422497,0.12262174648848345,0.05276733945942702,0.14334660931765714,0.015247390862312415,0.09552602327529991,0.011114187827427235,0.1303717903703484,0.14586566123818967,0.1211712867088009,0.13427365898272814,0.07014771692050975,0.07444765718095425,0.129231862259658,0.1091589532570198,0.15051950205393483,-0.0054437286207303925,0.0927285402603662,0.15403899585137154,0.08048358774773878,0.013137446215856996,0.07070277813909076,0.09769536857473193,0.11970127102602385,0.028977406913186843,0.11623394847136365,0.09250918641772954,0.1196131794668438,0.1511843066708286,0.10911493368686165,0.13165734529209627,0.06555877574892854,0.07969051606553923,0.0895690358538222,-0.11807606759713385,0.10447571602000566,0.0758898112591811,0.14057785230325476,0.10109424340882195,0.09469172973115597,-0.011998997793703725,0.09934040609176858,0.07300631008960146,0.12496265651494953,0.09071592651576782,0.10256380032793766,0.09550344907974545,0.13364944575544502,0.0223559789811828,0.12377537779766801,-0.046699639519616976,0.04652252853677885,0.09856136077074995,0.15935529252774777,0.1416470808509792,0.10948303389105002,0.09074500568429561,0.013771868262319353,0.11163109787694703,0.144157282466771,0.08224971308749823,0.15237001500506536,0.07083060052658363,0.07451769574747985,0.05344317045387281,0.09182007464408037,0.1407610172408355,0.11179831006765772,0.11041300516780783,0.15185805417427112,0.1182777352420063,0.12783777760488124,0.012900990885530428,0.03688627527963606,0.14166694169889288,0.0331277374795409,0.02650874330633257,0.08145115094807925,0.1320705778987611,0.07808864917776898,0.1095339443946785,0.08714109188343627,0.08860973377258452,0.1162374209933138,0.12738363595083124,0.07117616520883047,-0.02579650332920591,0.021577953742063172,0.03880272251284611,0.11558228066307347,0.11922335199760564,0.15058414301448048,0.05376917099061118,0.06265200159283957,0.09114378136156748,0.09469422036576186,0.07422311845184365,0.07177871379944867,0.10880479045626884,0.07334075880961866,0.0831478670146415,0.09231016842417039,0.14740632104228452,0.003335477346131599,0.12098142019274111,0.13988371877682132,0.12293451609221623,0.12409035431174087,0.08612749807713699,0.14695620179032348,0.043859615645132966,0.13196188678610576,0.1167034917608899,0.09630107283157047,0.08369359284936767,0.03218416832220783,0.14024500311325644,0.15417604494014497,0.07307241942899279,0.1607875676406384,0.0706049667355303,0.14073457764277603,0.1447776940196855,0.12405758586567467,0.08668138631422778,0.07794043965188491,0.029985839424294114,0.09634341487026682,0.0873652909456315,0.10775033722305821,0.11083015472643654,0.050152755272070526,0.09552602327529991,0.10070917183164518,0.08763351419778886,0.11634144949528152,0.1128872855633603,0.03361128036551353,0.10340305447882897,0.09405953587397037,0.11270103613622601,0.14185215664221051,0.1506746365394035,0.03419478188932934,0.13321524402325274,0.08756176627483797,0.13416724745883812,0.07336425746091624,0.08883348557206033,0.05657268745697175,0.15088456822699103,0.09765756294105743,0.07859692867721935,0.02164708765558354,0.10150613341815817,0.1592100480850469,0.12352027282811495,0.08168680772848907,0.03046840770219983,0.05459436910147908,0.08567976119552007,0.1547187081707247,0.05436118069168361,0.09366430447979568,0.08173592908753496,0.14462194199829437,0.11747099947599343,0.07560109230976841,0.10518515875173934,0.08139228320038427,0.14513369729798847,0.09005805132298828,0.1248759859771113,0.13398027062124646,0.10442570486998393,0.04598800628941735,0.07580695501876794,0.12057494851735723,0.04111493083548734,0.10546551030290569,0.1386826501379444,0.0904016318563351,0.08446428944282086,0.08668252617309563,0.12404278954101022,0.023512111728870466,0.07559084918156311,0.0988915236955471,0.12791977736514692,0.03807249378726785,-0.020809504850548333,0.10158457197918624,0.04687853610676085,0.003817176283500867,0.13438058748796494,0.14176838347736453,0.15056403601304358,0.010607434871377941,0.15685128963109968,-0.004674968917217526,0.10487509375934212,0.0580159900561954,0.11023859917986106,0.08535535111356357,0.14001254537608215,0.06766985306836587,0.08599725577027995,0.09418803929407071,0.09412300205901852,0.09363985486659526,0.07262184758431961,0.09981721558689177,0.10742195718878578],\"type\":\"histogram\"}],                        {\"template\":{\"data\":{\"bar\":[{\"error_x\":{\"color\":\"#2a3f5f\"},\"error_y\":{\"color\":\"#2a3f5f\"},\"marker\":{\"line\":{\"color\":\"#E5ECF6\",\"width\":0.5},\"pattern\":{\"fillmode\":\"overlay\",\"size\":10,\"solidity\":0.2}},\"type\":\"bar\"}],\"barpolar\":[{\"marker\":{\"line\":{\"color\":\"#E5ECF6\",\"width\":0.5},\"pattern\":{\"fillmode\":\"overlay\",\"size\":10,\"solidity\":0.2}},\"type\":\"barpolar\"}],\"carpet\":[{\"aaxis\":{\"endlinecolor\":\"#2a3f5f\",\"gridcolor\":\"white\",\"linecolor\":\"white\",\"minorgridcolor\":\"white\",\"startlinecolor\":\"#2a3f5f\"},\"baxis\":{\"endlinecolor\":\"#2a3f5f\",\"gridcolor\":\"white\",\"linecolor\":\"white\",\"minorgridcolor\":\"white\",\"startlinecolor\":\"#2a3f5f\"},\"type\":\"carpet\"}],\"choropleth\":[{\"colorbar\":{\"outlinewidth\":0,\"ticks\":\"\"},\"type\":\"choropleth\"}],\"contour\":[{\"colorbar\":{\"outlinewidth\":0,\"ticks\":\"\"},\"colorscale\":[[0.0,\"#0d0887\"],[0.1111111111111111,\"#46039f\"],[0.2222222222222222,\"#7201a8\"],[0.3333333333333333,\"#9c179e\"],[0.4444444444444444,\"#bd3786\"],[0.5555555555555556,\"#d8576b\"],[0.6666666666666666,\"#ed7953\"],[0.7777777777777778,\"#fb9f3a\"],[0.8888888888888888,\"#fdca26\"],[1.0,\"#f0f921\"]],\"type\":\"contour\"}],\"contourcarpet\":[{\"colorbar\":{\"outlinewidth\":0,\"ticks\":\"\"},\"type\":\"contourcarpet\"}],\"heatmap\":[{\"colorbar\":{\"outlinewidth\":0,\"ticks\":\"\"},\"colorscale\":[[0.0,\"#0d0887\"],[0.1111111111111111,\"#46039f\"],[0.2222222222222222,\"#7201a8\"],[0.3333333333333333,\"#9c179e\"],[0.4444444444444444,\"#bd3786\"],[0.5555555555555556,\"#d8576b\"],[0.6666666666666666,\"#ed7953\"],[0.7777777777777778,\"#fb9f3a\"],[0.8888888888888888,\"#fdca26\"],[1.0,\"#f0f921\"]],\"type\":\"heatmap\"}],\"heatmapgl\":[{\"colorbar\":{\"outlinewidth\":0,\"ticks\":\"\"},\"colorscale\":[[0.0,\"#0d0887\"],[0.1111111111111111,\"#46039f\"],[0.2222222222222222,\"#7201a8\"],[0.3333333333333333,\"#9c179e\"],[0.4444444444444444,\"#bd3786\"],[0.5555555555555556,\"#d8576b\"],[0.6666666666666666,\"#ed7953\"],[0.7777777777777778,\"#fb9f3a\"],[0.8888888888888888,\"#fdca26\"],[1.0,\"#f0f921\"]],\"type\":\"heatmapgl\"}],\"histogram\":[{\"marker\":{\"pattern\":{\"fillmode\":\"overlay\",\"size\":10,\"solidity\":0.2}},\"type\":\"histogram\"}],\"histogram2d\":[{\"colorbar\":{\"outlinewidth\":0,\"ticks\":\"\"},\"colorscale\":[[0.0,\"#0d0887\"],[0.1111111111111111,\"#46039f\"],[0.2222222222222222,\"#7201a8\"],[0.3333333333333333,\"#9c179e\"],[0.4444444444444444,\"#bd3786\"],[0.5555555555555556,\"#d8576b\"],[0.6666666666666666,\"#ed7953\"],[0.7777777777777778,\"#fb9f3a\"],[0.8888888888888888,\"#fdca26\"],[1.0,\"#f0f921\"]],\"type\":\"histogram2d\"}],\"histogram2dcontour\":[{\"colorbar\":{\"outlinewidth\":0,\"ticks\":\"\"},\"colorscale\":[[0.0,\"#0d0887\"],[0.1111111111111111,\"#46039f\"],[0.2222222222222222,\"#7201a8\"],[0.3333333333333333,\"#9c179e\"],[0.4444444444444444,\"#bd3786\"],[0.5555555555555556,\"#d8576b\"],[0.6666666666666666,\"#ed7953\"],[0.7777777777777778,\"#fb9f3a\"],[0.8888888888888888,\"#fdca26\"],[1.0,\"#f0f921\"]],\"type\":\"histogram2dcontour\"}],\"mesh3d\":[{\"colorbar\":{\"outlinewidth\":0,\"ticks\":\"\"},\"type\":\"mesh3d\"}],\"parcoords\":[{\"line\":{\"colorbar\":{\"outlinewidth\":0,\"ticks\":\"\"}},\"type\":\"parcoords\"}],\"pie\":[{\"automargin\":true,\"type\":\"pie\"}],\"scatter\":[{\"marker\":{\"colorbar\":{\"outlinewidth\":0,\"ticks\":\"\"}},\"type\":\"scatter\"}],\"scatter3d\":[{\"line\":{\"colorbar\":{\"outlinewidth\":0,\"ticks\":\"\"}},\"marker\":{\"colorbar\":{\"outlinewidth\":0,\"ticks\":\"\"}},\"type\":\"scatter3d\"}],\"scattercarpet\":[{\"marker\":{\"colorbar\":{\"outlinewidth\":0,\"ticks\":\"\"}},\"type\":\"scattercarpet\"}],\"scattergeo\":[{\"marker\":{\"colorbar\":{\"outlinewidth\":0,\"ticks\":\"\"}},\"type\":\"scattergeo\"}],\"scattergl\":[{\"marker\":{\"colorbar\":{\"outlinewidth\":0,\"ticks\":\"\"}},\"type\":\"scattergl\"}],\"scattermapbox\":[{\"marker\":{\"colorbar\":{\"outlinewidth\":0,\"ticks\":\"\"}},\"type\":\"scattermapbox\"}],\"scatterpolar\":[{\"marker\":{\"colorbar\":{\"outlinewidth\":0,\"ticks\":\"\"}},\"type\":\"scatterpolar\"}],\"scatterpolargl\":[{\"marker\":{\"colorbar\":{\"outlinewidth\":0,\"ticks\":\"\"}},\"type\":\"scatterpolargl\"}],\"scatterternary\":[{\"marker\":{\"colorbar\":{\"outlinewidth\":0,\"ticks\":\"\"}},\"type\":\"scatterternary\"}],\"surface\":[{\"colorbar\":{\"outlinewidth\":0,\"ticks\":\"\"},\"colorscale\":[[0.0,\"#0d0887\"],[0.1111111111111111,\"#46039f\"],[0.2222222222222222,\"#7201a8\"],[0.3333333333333333,\"#9c179e\"],[0.4444444444444444,\"#bd3786\"],[0.5555555555555556,\"#d8576b\"],[0.6666666666666666,\"#ed7953\"],[0.7777777777777778,\"#fb9f3a\"],[0.8888888888888888,\"#fdca26\"],[1.0,\"#f0f921\"]],\"type\":\"surface\"}],\"table\":[{\"cells\":{\"fill\":{\"color\":\"#EBF0F8\"},\"line\":{\"color\":\"white\"}},\"header\":{\"fill\":{\"color\":\"#C8D4E3\"},\"line\":{\"color\":\"white\"}},\"type\":\"table\"}]},\"layout\":{\"annotationdefaults\":{\"arrowcolor\":\"#2a3f5f\",\"arrowhead\":0,\"arrowwidth\":1},\"autotypenumbers\":\"strict\",\"coloraxis\":{\"colorbar\":{\"outlinewidth\":0,\"ticks\":\"\"}},\"colorscale\":{\"diverging\":[[0,\"#8e0152\"],[0.1,\"#c51b7d\"],[0.2,\"#de77ae\"],[0.3,\"#f1b6da\"],[0.4,\"#fde0ef\"],[0.5,\"#f7f7f7\"],[0.6,\"#e6f5d0\"],[0.7,\"#b8e186\"],[0.8,\"#7fbc41\"],[0.9,\"#4d9221\"],[1,\"#276419\"]],\"sequential\":[[0.0,\"#0d0887\"],[0.1111111111111111,\"#46039f\"],[0.2222222222222222,\"#7201a8\"],[0.3333333333333333,\"#9c179e\"],[0.4444444444444444,\"#bd3786\"],[0.5555555555555556,\"#d8576b\"],[0.6666666666666666,\"#ed7953\"],[0.7777777777777778,\"#fb9f3a\"],[0.8888888888888888,\"#fdca26\"],[1.0,\"#f0f921\"]],\"sequentialminus\":[[0.0,\"#0d0887\"],[0.1111111111111111,\"#46039f\"],[0.2222222222222222,\"#7201a8\"],[0.3333333333333333,\"#9c179e\"],[0.4444444444444444,\"#bd3786\"],[0.5555555555555556,\"#d8576b\"],[0.6666666666666666,\"#ed7953\"],[0.7777777777777778,\"#fb9f3a\"],[0.8888888888888888,\"#fdca26\"],[1.0,\"#f0f921\"]]},\"colorway\":[\"#636efa\",\"#EF553B\",\"#00cc96\",\"#ab63fa\",\"#FFA15A\",\"#19d3f3\",\"#FF6692\",\"#B6E880\",\"#FF97FF\",\"#FECB52\"],\"font\":{\"color\":\"#2a3f5f\"},\"geo\":{\"bgcolor\":\"white\",\"lakecolor\":\"white\",\"landcolor\":\"#E5ECF6\",\"showlakes\":true,\"showland\":true,\"subunitcolor\":\"white\"},\"hoverlabel\":{\"align\":\"left\"},\"hovermode\":\"closest\",\"mapbox\":{\"style\":\"light\"},\"paper_bgcolor\":\"white\",\"plot_bgcolor\":\"#E5ECF6\",\"polar\":{\"angularaxis\":{\"gridcolor\":\"white\",\"linecolor\":\"white\",\"ticks\":\"\"},\"bgcolor\":\"#E5ECF6\",\"radialaxis\":{\"gridcolor\":\"white\",\"linecolor\":\"white\",\"ticks\":\"\"}},\"scene\":{\"xaxis\":{\"backgroundcolor\":\"#E5ECF6\",\"gridcolor\":\"white\",\"gridwidth\":2,\"linecolor\":\"white\",\"showbackground\":true,\"ticks\":\"\",\"zerolinecolor\":\"white\"},\"yaxis\":{\"backgroundcolor\":\"#E5ECF6\",\"gridcolor\":\"white\",\"gridwidth\":2,\"linecolor\":\"white\",\"showbackground\":true,\"ticks\":\"\",\"zerolinecolor\":\"white\"},\"zaxis\":{\"backgroundcolor\":\"#E5ECF6\",\"gridcolor\":\"white\",\"gridwidth\":2,\"linecolor\":\"white\",\"showbackground\":true,\"ticks\":\"\",\"zerolinecolor\":\"white\"}},\"shapedefaults\":{\"line\":{\"color\":\"#2a3f5f\"}},\"ternary\":{\"aaxis\":{\"gridcolor\":\"white\",\"linecolor\":\"white\",\"ticks\":\"\"},\"baxis\":{\"gridcolor\":\"white\",\"linecolor\":\"white\",\"ticks\":\"\"},\"bgcolor\":\"#E5ECF6\",\"caxis\":{\"gridcolor\":\"white\",\"linecolor\":\"white\",\"ticks\":\"\"}},\"title\":{\"x\":0.05},\"xaxis\":{\"automargin\":true,\"gridcolor\":\"white\",\"linecolor\":\"white\",\"ticks\":\"\",\"title\":{\"standoff\":15},\"zerolinecolor\":\"white\",\"zerolinewidth\":2},\"yaxis\":{\"automargin\":true,\"gridcolor\":\"white\",\"linecolor\":\"white\",\"ticks\":\"\",\"title\":{\"standoff\":15},\"zerolinecolor\":\"white\",\"zerolinewidth\":2}}},\"title\":{\"text\":\"\\uc815\\uc0c1 \\ub124\\ud2b8\\uc6cc\\ud06c \\uac1c\\uccb4 \\ud6c8\\ub828 \\uc810\\uc218\"},\"xaxis\":{\"title\":{\"text\":\"\\uc810\\uc218\"}},\"yaxis\":{\"title\":{\"text\":\"\\ube48\\ub3c4 \\uc218\"}},\"bargap\":0.2,\"bargroupgap\":0.1},                        {\"responsive\": true}                    ).then(function(){\n",
              "                            \n",
              "var gd = document.getElementById('635fe0c7-4e5c-449b-91a5-650156c894f9');\n",
              "var x = new MutationObserver(function (mutations, observer) {{\n",
              "        var display = window.getComputedStyle(gd).display;\n",
              "        if (!display || display === 'none') {{\n",
              "            console.log([gd, 'removed!']);\n",
              "            Plotly.purge(gd);\n",
              "            observer.disconnect();\n",
              "        }}\n",
              "}});\n",
              "\n",
              "// Listen for the removal of the full notebook cells\n",
              "var notebookContainer = gd.closest('#notebook-container');\n",
              "if (notebookContainer) {{\n",
              "    x.observe(notebookContainer, {childList: true});\n",
              "}}\n",
              "\n",
              "// Listen for the clearing of the current output cell\n",
              "var outputEl = gd.closest('.output');\n",
              "if (outputEl) {{\n",
              "    x.observe(outputEl, {childList: true});\n",
              "}}\n",
              "\n",
              "                        })                };                            </script>        </div>\n",
              "</body>\n",
              "</html>"
            ]
          },
          "metadata": {}
        },
        {
          "output_type": "display_data",
          "data": {
            "text/html": [
              "<html>\n",
              "<head><meta charset=\"utf-8\" /></head>\n",
              "<body>\n",
              "    <div>            <script src=\"https://cdnjs.cloudflare.com/ajax/libs/mathjax/2.7.5/MathJax.js?config=TeX-AMS-MML_SVG\"></script><script type=\"text/javascript\">if (window.MathJax) {MathJax.Hub.Config({SVG: {font: \"STIX-Web\"}});}</script>                <script type=\"text/javascript\">window.PlotlyConfig = {MathJaxConfig: 'local'};</script>\n",
              "        <script src=\"https://cdn.plot.ly/plotly-2.8.3.min.js\"></script>                <div id=\"209f657b-5b1f-4c8a-abcd-2fcfe9de5944\" class=\"plotly-graph-div\" style=\"height:525px; width:100%;\"></div>            <script type=\"text/javascript\">                                    window.PLOTLYENV=window.PLOTLYENV || {};                                    if (document.getElementById(\"209f657b-5b1f-4c8a-abcd-2fcfe9de5944\")) {                    Plotly.newPlot(                        \"209f657b-5b1f-4c8a-abcd-2fcfe9de5944\",                        [{\"x\":[-0.009693490500166546,-0.01358781467606851,-0.016367805788598422,-0.01547061233444813,-0.03697014479005212,-0.016367805788598422,-0.02051342192576422,-0.022333202852778733,-0.023405094382572655,-0.014633812447592098,-0.02734359331048275,-0.03693086092701048,-0.015700852729105153,-0.0173110406377609,-0.03849257351681212,-0.013711672078558612,-0.039305110718237835,-0.0423518746985051,-0.012973694098500244,-0.038898704679642515,-0.0425209713391711,-0.016367805788598422,-0.023241066399290466,-0.03849257351681212,-0.041535217487621456,-0.03778057318232986,-0.024793754098671017,-0.0343473861559509,-0.012973694098500244,-0.055276438081286905,-0.038898704679642515,-0.015373922783927907,-0.014983702783348929,-0.021907361729387453,-0.016463707217027945,-0.014593746710987121,-0.016463707217027945,-0.016367805788598422,-0.016367805788598422,-0.00896066709437593,-0.029441992981420917,-0.020373181368881332,-0.02734359331048275,-0.0173110406377609,-0.019428091723495355,-0.023241066399290466,-0.01547061233444813,-0.023241066399290466,-0.04657662095251747,-0.023241066399290466,-0.0013467074932764778,-0.03278178746248872,-0.03373680796195089,-0.037737572602681624,-0.03849257351681212,-0.03849257351681212,-0.0173110406377609,-0.039404818303989675,-0.023241066399290466,-0.022333202852778733,-0.04841509850057979,-0.022404876818021613,-0.016367805788598422,-0.0173110406377609,-0.03778057318232986,-0.015700852729105153,-0.03778057318232986,-0.016367805788598422,-0.016367805788598422,-0.0173110406377609,-0.015301093981151537,-0.014920625721668523,-0.015700852729105153,-0.02468139908279554,-0.023241066399290466,-0.03637273943683328,-0.026301474863956398,-0.023241066399290466,-0.03211296380019113,-0.03849257351681212,-0.03849257351681212,0.004334865788206077,-0.03849257351681212,-0.03849257351681212,-0.00896066709437593,-0.03859214627223284,-0.048210783228390675,-0.028328979290771605,-0.022404876818021613,-0.013711672078558612,-0.02626611782638477,-0.04647572349374429,-0.04143973052569361,-0.038898704679642515,-0.026301474863956398,-0.02556862472528665,-0.03849257351681212,-0.012455974725024577,-0.018576261673072136,-0.03849257351681212,-0.07439992558594766,0.01270844785935532,-0.015700852729105153,-0.02333810835888872,-0.016367805788598422,-0.02243407467968883,-0.03260211235757948,-0.03245273780255087,-0.01547061233444813,-0.03778057318232986,-0.03778057318232986,-0.01654616814187837,-0.0423518746985051,-0.04657662095251747,-0.02762671608090106,-0.039711791818638376,-0.055276438081286905,-0.016463707217027945,-0.016367805788598422,-0.039305110718237835,-0.0343473861559509,-0.04970281826471301,-0.015700852729105153,-0.02517672786615044,-0.0173110406377609,-0.00896066709437593,-0.015373922783927907,-0.012973694098500244,-0.02464311775934902,-0.02333810835888872,-0.0423518746985051,-0.023241066399290466,-0.03365968424356203,-0.016367805788598422,-0.013711672078558612,-0.03558820192229606,-0.015700852729105153,-0.022333202852778733,-0.016367805788598422,-0.015700852729105153,-0.03778057318232986,-0.014633812447592098,-0.04970281826471301,-0.023241066399290466,-0.038898704679642515,-0.015700852729105153,-0.019428091723495355,-0.0173110406377609,-0.03778057318232986,-0.03999492709613073,-0.016367805788598422,-0.019974774939490847,-0.038898704679642515,-0.0563426716079245,-0.03057076473589182,-0.03221562258069155,-0.013191878828593073,-0.020213760594123165,-0.06532356192842892,-0.03693086092701048,-0.015700852729105153,-0.015700852729105153,-0.03849257351681212,-0.03859214627223284,-0.015700852729105153,-0.016367805788598422,-0.023666465590889807,-0.05397427625677553,-0.03849257351681212,-0.0173110406377609,-0.016367805788598422,-0.04956077756888644,-0.03859214627223284,-0.016367805788598422,-0.03849257351681212,-0.02458925203335427,-0.023241066399290466,-0.022333202852778733,-0.016367805788598422,-0.038898704679642515,-0.03778057318232986,-0.01547061233444813,-0.0173110406377609,-0.016463707217027945,-0.016463707217027945,-0.012455974725024577,-0.030692996452746035,-0.04356891418142572,-0.009558634621614881,-0.04016633467684938,-0.02464311775934902,-0.0173110406377609,-0.012973694098500244,-0.039711791818638376,-0.02517672786615044,-0.012995887586652488,-0.016367805788598422,-0.023241066399290466,-0.0173110406377609,-0.03693086092701048,-0.03849257351681212,-0.015700852729105153,-0.061931387635098645,-0.010255644226732197,-0.023241066399290466,-0.03927986410395268,-0.01029222609301439,-0.015700852729105153,-0.02333810835888872,-0.05880945169155294,-0.04727924653181759,-0.030936099339540668,-0.039305110718237835,-0.009693490500166546,-0.016463707217027945,-0.014244093026176796,-0.04411134184766019,-0.038898704679642515,-0.015700852729105153,-0.07285125907858825,-0.03321349322428169,-0.014141062623082012,-0.016463707217027945,-0.04016633467684938,-0.03859214627223284,-0.023241066399290466,-0.03507763506359185,-0.0173110406377609,-0.01972251405475689,-0.019521365755364783,-0.015373922783927907,-0.016367805788598422,-0.016463707217027945,-0.02666397393753539,-0.023241066399290466,-0.049304300263590894,-0.03778057318232986,0.0016238391888415693,-0.02645749529019381,-0.015700852729105153,-0.016367805788598422,-0.030936099339540668,-0.026059136538288397,-0.016367805788598422,-0.07242216385155165,0.012891857226563053,-0.023241066399290466,-0.03849257351681212,-0.04727924653181759,-0.022404876818021613,-0.04016633467684938,-0.023241066399290466,-0.014920625721668523,-0.01972251405475689,-0.023241066399290466,-0.01338476220358975,-0.045714438339844454,-0.045811777137468646,-0.0173110406377609,-0.05519169071576213,-0.01547061233444813,-0.009693490500166546,-0.03849257351681212,-0.04841509850057979,-0.0173110406377609,-0.015700852729105153,-0.026301474863956398,-0.012973694098500244,-0.0095987402594917,-0.04016633467684938,-0.03859214627223284,-0.023241066399290466,-0.023241066399290466,-0.012973694098500244,-0.030692996452746035,-0.022333202852778733,-0.019428091723495355,-0.03273564677015128,-0.0001888830033663913,-0.04841509850057979,-0.030936099339540668,-0.016367805788598422,-0.04970281826471301,-0.023521247277635826,-0.03859214627223284,-0.026059136538288397,-0.03849257351681212,-0.038898704679642515,-0.05193523227236296,-0.03778057318232986,-0.05152933241893476,-0.01358781467606851,-0.01691618168651321,-0.023241066399290466,-0.014983702783348929,-0.012973694098500244,-0.023241066399290466,-0.039305110718237835,-0.020152852313833458,-0.03849257351681212,-0.016367805788598422,-0.039305110718237835,-0.023241066399290466,-0.01547061233444813,-0.023241066399290466,-0.05727672935971262,-0.015700852729105153,-0.039305110718237835,-0.036750854676315226,-0.03321349322428169,-0.023241066399290466,-0.024785319335223988,-0.024785319335223988,-0.0173110406377609,-0.026301474863956398,-0.023241066399290466,-0.009640328275501875,-0.05980898559586312,-0.014983702783348929,-0.022404876818021613,-0.015700852729105153,-0.023372370095393502,-0.039305110718237835,-0.07755063022570385,-0.023241066399290466,-0.038898704679642515,-0.039305110718237835,-0.01972251405475689,-0.038898704679642515,-0.009544795081621205,-0.015700852729105153,-0.039305110718237835,-0.0173110406377609,-0.022333202852778733,-0.016463707217027945,-0.01654616814187837,-0.03778057318232986,-0.015222278690823154,-0.016463707217027945,-0.03778057318232986,-0.012973694098500244,-0.012973694098500244,-0.01547061233444813,-0.013711672078558612,-0.025471212700953094,-0.016367805788598422,-0.039305110718237835,-0.03859214627223284,-0.015700852729105153,-0.015700852729105153,-0.055738284289589934,-0.014920625721668523,-0.03849257351681212,-0.016367805788598422,-0.023241066399290466,-0.022404876818021613,-0.04811193005935577,-0.0173110406377609,-0.016463707217027945,-0.03778057318232986,-0.023241066399290466,-0.0173110406377609,-0.023241066399290466,-0.023241066399290466,-0.03849257351681212,-0.03778057318232986,-0.02544500041711295,-0.0464160677908505,-0.03849257351681212,-0.015373922783927907,-0.016463707217027945,-0.014244093026176796,-0.03693086092701048,-0.023757806377277868,-0.009693490500166546,-0.03849257351681212,-0.03849257351681212,-0.0173110406377609,-0.038898704679642515,0.0039001035315502364,-0.03859214627223284,-0.016367805788598422,-0.045753873623927244,-0.039305110718237835,-0.016367805788598422,-0.03362621825142209,-0.023372370095393502,-0.03849257351681212,-0.01358781467606851,-0.05379296486224827,-0.015700852729105153,-0.004616342436855048,-0.03342228108983003,-0.03778057318232986,-0.01547061233444813,-0.01547061233444813,-0.00896066709437593,-0.014244093026176796,-0.0173110406377609,-0.0343473861559509,-0.015700852729105153,-0.023241066399290466,-0.016367805788598422,-0.01972251405475689,-0.015661104458296826,-0.026363661755228196,-0.04647572349374429,-0.03859214627223284,-0.04016633467684938,-0.03778057318232986,-0.02165111467198,-0.038600265981250104,-0.0423518746985051,-0.02734359331048275,-0.039305110718237835,-0.03778057318232986,-0.043284122196405206,-0.016367805788598422,-0.0173110406377609,-0.022404876818021613,-0.023241066399290466,-0.015700852729105153,-0.01940661150611367,-0.023241066399290466,-0.05880945169155294,-0.024614830745007255,-0.030837796798059647,-0.016367805788598422,-0.0056763832220247945,-0.03778057318232986,-0.03849257351681212,-0.016367805788598422,-0.009558634621614881,-0.03778057318232986,-0.016463707217027945,-0.03859214627223284,-0.025395985566631585,-0.03849257351681212,-0.0197550136081861,-0.01749542007307392,-0.016367805788598422,-0.015700852729105153,-0.015700852729105153,-0.015700852729105153,-0.05980898559586312,-0.07242216385155165,-0.042067325099187314,-0.047711162121754414,-0.013218676758362968,-0.022333202852778733,-0.021418456040661615,-0.015700852729105153,-0.015373922783927907,-0.014593746710987121,-0.011210241405034904,-0.022333202852778733,-0.03365968424356203,-0.01158063396690956,-0.038898704679642515,-0.009693490500166546,-0.03778057318232986,-0.026363661755228196,-0.02333810835888872,-0.026059136538288397,-0.028112093337621658,-0.012973694098500244,-0.023241066399290466,-0.0423518746985051,-0.028167417649282434,-0.049304300263590894,-0.0020239080260606723,-0.015700852729105153,-0.009693490500166546,-0.023241066399290466,-0.01972251405475689,-0.016367805788598422,-0.05880945169155294,-0.0095987402594917,-0.016463707217027945,-0.03365968424356203,-0.03849257351681212,-0.022333202852778733,-0.015700852729105153,-0.013711672078558612,-0.015700852729105153,-0.012973694098500244,0.0060847046965986085,-0.012067728300447889,-0.016367805788598422,-0.022404876818021613,-0.010353530893340346,-0.016367805788598422,-0.03693086092701048,-0.039305110718237835,-0.048194430977393066,-0.023241066399290466,-0.030837796798059647,-0.03849257351681212,-0.015373922783927907,-0.015700852729105153,-0.04727924653181759,-0.0173110406377609,-0.025395985566631585,-0.039305110718237835,-0.016367805788598422,-0.020633742897360086,-0.039305110718237835,-0.028304741426688818,-0.016367805788598422,-0.038898704679642515,-0.03778057318232986,-0.015700852729105153,-0.015700852729105153,-0.039305110718237835,-0.039305110718237835,-0.016367805788598422,-0.02875612486388812,-0.015700852729105153,-0.03245049806083078,-0.03273564677015128,-0.03249395064930927,-0.015700852729105153,-0.013854637194408048,-0.012067728300447889,-0.013711672078558612,-0.0173110406377609,-0.03273564677015128,-0.015700852729105153,-0.016367805788598422,-0.009693490500166546,-0.020373181368881332,-0.016367805788598422,-0.015700852729105153,-0.023795402301629354,-0.03342228108983003,-0.0344462710696537,-0.03778057318232986,-0.04098113829914973,-0.03849257351681212,-0.016367805788598422,-0.015700852729105153,-0.013854637194408048,-0.0173110406377609,-0.023241066399290466,-0.016463707217027945,-0.028328979290771605,-0.02734359331048275,-0.020308214260986723,-0.015373922783927907,-0.03849257351681212,-0.015373922783927907,-0.038898704679642515,-0.041535217487621456,-0.026503538676640237,-0.0173110406377609,-0.015373922783927907,-0.025613404866999923,-0.020633742897360086,-0.034392005357568145,-0.013711672078558612,-0.04727924653181759,-0.015700852729105153,-0.03849257351681212,-0.005657525331039692,-0.016341156287968284,-0.03859214627223284,-0.03778057318232986,-0.04841509850057979,-0.015373922783927907,-0.016367805788598422,-0.039305110718237835,-0.016367805788598422,-0.0173110406377609,-0.014593746710987121,-0.023241066399290466,-0.039305110718237835,-0.025471212700953094,-0.012973694098500244,-0.016367805788598422,-0.04617351894127997,-0.023241066399290466,-0.03321349322428169,-0.03693086092701048,-0.01547061233444813,-0.05022675034079194,-0.024453368962256028,-0.05345140233892476,-0.016367805788598422,-0.04974127364514891,-0.0020239080260606723,-0.015700852729105153,-0.01972251405475689,-0.02642930495863438,-0.023372370095393502,-0.02666397393753539,-0.023241066399290466,-0.023241066399290466,-0.017720795291743974,-0.013711672078558612,-0.027911266190359107,-0.015700852729105153,-0.024453368962256028,-0.03849257351681212,-0.016367805788598422,-0.04510944275566875,-0.03859214627223284,-0.015700852729105153,-0.01654616814187837,-0.013711672078558612,-0.029699236369481352,-0.009693490500166546,-0.038898704679642515,-0.015700852729105153,-0.015373922783927907,-0.03778057318232986,-0.011272706322603243,-0.03245273780255087,-0.009693490500166546,-0.028751050464457806,-0.0173110406377609,-0.024292015511065634,-0.022333202852778733,-0.02491684939805716,-0.022333202852778733,-0.015700852729105153,-0.030936099339540668,-0.0173110406377609,-0.023521247277635826,-0.03975613213368312,-0.023199635221796133,-0.012263193651597448,-0.023241066399290466,-0.015700852729105153,0.0027155838039206737,-0.011405737630143853,-0.039305110718237835,-0.030837796798059647,-0.03849257351681212,-0.02666397393753539,-0.03778057318232986,-0.0290907281000804,-0.023241066399290466,-0.03594501390376659,-0.014633812447592098,-0.04568124578911281,-0.022333202852778733,-0.022333202852778733,-0.05345140233892476,-0.03849257351681212,-0.041535217487621456,-0.023241066399290466,-0.03245049806083078,-0.012973694098500244,-0.04841509850057979,-0.016463707217027945,-0.022333202852778733,-0.016463707217027945,-0.037737572602681624,-0.030692996452746035,-0.01338476220358975,-0.026503538676640237,-0.038898704679642515,-0.03849257351681212,-0.016367805788598422,-0.015700852729105153,-0.039305110718237835,-0.023241066399290466,-0.023241066399290466,-0.03778057318232986,-0.0173110406377609,-0.039305110718237835,-0.015700852729105153,-0.016367805788598422,-0.015373922783927907,-0.023241066399290466,-0.013711672078558612,-0.02464311775934902,-0.023241066399290466,-0.012069995312921522,-0.039305110718237835,-0.03859214627223284,-0.03697014479005212,-0.022333202852778733,-0.015700852729105153,-0.055276438081286905,-0.023241066399290466,-0.016367805788598422,-0.039305110718237835,-0.023241066399290466,-0.023241066399290466,-0.04811193005935577,-0.014920625721668523,-0.022333202852778733,-0.03133703388691289,-0.023241066399290466,-0.014633812447592098,-0.014244093026176796,-0.02831023576301317,-0.038898704679642515,-0.01547061233444813,-0.009693490500166546,-0.045714438339844454,-0.039305110718237835,-0.0343473861559509,-0.023241066399290466,-0.016367805788598422,-0.07373445843609994,-0.030692996452746035,-0.01547061233444813,-0.0173110406377609,-0.0365765937977055,-0.009693490500166546,-0.005605633627457363,-0.045811777137468646,-0.016367805788598422,-0.015700852729105153,-0.061931387635098645,-0.016367805788598422,-0.03849257351681212,-0.039305110718237835,-0.03778057318232986,-0.012973694098500244,-0.014983702783348929,-0.043284122196405206,-0.0343473861559509,-0.03778057318232986,-0.048210783228390675,-0.03849257351681212,-0.012973694098500244,-0.024785319335223988,-0.06931454974503992,-0.009693490500166546,-0.011272706322603243,-0.03849257351681212,-0.010374024679164595,-0.033513916883022965,-0.016367805788598422,-0.013711672078558612,-0.060233575581183585,-0.015700852729105153,-0.002967767557209733,-0.013711672078558612,-0.055276438081286905,-0.027911266190359107,-0.039305110718237835,-0.023241066399290466,-0.03221562258069155,-0.039305110718237835,-0.02544500041711295,-0.022333202852778733,-0.03849257351681212,-0.016367805788598422,-0.022333202852778733,-0.012458243271846858,-0.013003945116854099,-0.0173110406377609,-0.039305110718237835,-0.04727924653181759,-0.022333202852778733,-0.03321349322428169,-0.06062881034269285,-0.012067728300447889,-0.024830739584672412,-0.023795402301629354,-0.015700852729105153,-0.02734359331048275,-0.038898704679642515,-0.03778057318232986],\"type\":\"histogram\"}],                        {\"template\":{\"data\":{\"bar\":[{\"error_x\":{\"color\":\"#2a3f5f\"},\"error_y\":{\"color\":\"#2a3f5f\"},\"marker\":{\"line\":{\"color\":\"#E5ECF6\",\"width\":0.5},\"pattern\":{\"fillmode\":\"overlay\",\"size\":10,\"solidity\":0.2}},\"type\":\"bar\"}],\"barpolar\":[{\"marker\":{\"line\":{\"color\":\"#E5ECF6\",\"width\":0.5},\"pattern\":{\"fillmode\":\"overlay\",\"size\":10,\"solidity\":0.2}},\"type\":\"barpolar\"}],\"carpet\":[{\"aaxis\":{\"endlinecolor\":\"#2a3f5f\",\"gridcolor\":\"white\",\"linecolor\":\"white\",\"minorgridcolor\":\"white\",\"startlinecolor\":\"#2a3f5f\"},\"baxis\":{\"endlinecolor\":\"#2a3f5f\",\"gridcolor\":\"white\",\"linecolor\":\"white\",\"minorgridcolor\":\"white\",\"startlinecolor\":\"#2a3f5f\"},\"type\":\"carpet\"}],\"choropleth\":[{\"colorbar\":{\"outlinewidth\":0,\"ticks\":\"\"},\"type\":\"choropleth\"}],\"contour\":[{\"colorbar\":{\"outlinewidth\":0,\"ticks\":\"\"},\"colorscale\":[[0.0,\"#0d0887\"],[0.1111111111111111,\"#46039f\"],[0.2222222222222222,\"#7201a8\"],[0.3333333333333333,\"#9c179e\"],[0.4444444444444444,\"#bd3786\"],[0.5555555555555556,\"#d8576b\"],[0.6666666666666666,\"#ed7953\"],[0.7777777777777778,\"#fb9f3a\"],[0.8888888888888888,\"#fdca26\"],[1.0,\"#f0f921\"]],\"type\":\"contour\"}],\"contourcarpet\":[{\"colorbar\":{\"outlinewidth\":0,\"ticks\":\"\"},\"type\":\"contourcarpet\"}],\"heatmap\":[{\"colorbar\":{\"outlinewidth\":0,\"ticks\":\"\"},\"colorscale\":[[0.0,\"#0d0887\"],[0.1111111111111111,\"#46039f\"],[0.2222222222222222,\"#7201a8\"],[0.3333333333333333,\"#9c179e\"],[0.4444444444444444,\"#bd3786\"],[0.5555555555555556,\"#d8576b\"],[0.6666666666666666,\"#ed7953\"],[0.7777777777777778,\"#fb9f3a\"],[0.8888888888888888,\"#fdca26\"],[1.0,\"#f0f921\"]],\"type\":\"heatmap\"}],\"heatmapgl\":[{\"colorbar\":{\"outlinewidth\":0,\"ticks\":\"\"},\"colorscale\":[[0.0,\"#0d0887\"],[0.1111111111111111,\"#46039f\"],[0.2222222222222222,\"#7201a8\"],[0.3333333333333333,\"#9c179e\"],[0.4444444444444444,\"#bd3786\"],[0.5555555555555556,\"#d8576b\"],[0.6666666666666666,\"#ed7953\"],[0.7777777777777778,\"#fb9f3a\"],[0.8888888888888888,\"#fdca26\"],[1.0,\"#f0f921\"]],\"type\":\"heatmapgl\"}],\"histogram\":[{\"marker\":{\"pattern\":{\"fillmode\":\"overlay\",\"size\":10,\"solidity\":0.2}},\"type\":\"histogram\"}],\"histogram2d\":[{\"colorbar\":{\"outlinewidth\":0,\"ticks\":\"\"},\"colorscale\":[[0.0,\"#0d0887\"],[0.1111111111111111,\"#46039f\"],[0.2222222222222222,\"#7201a8\"],[0.3333333333333333,\"#9c179e\"],[0.4444444444444444,\"#bd3786\"],[0.5555555555555556,\"#d8576b\"],[0.6666666666666666,\"#ed7953\"],[0.7777777777777778,\"#fb9f3a\"],[0.8888888888888888,\"#fdca26\"],[1.0,\"#f0f921\"]],\"type\":\"histogram2d\"}],\"histogram2dcontour\":[{\"colorbar\":{\"outlinewidth\":0,\"ticks\":\"\"},\"colorscale\":[[0.0,\"#0d0887\"],[0.1111111111111111,\"#46039f\"],[0.2222222222222222,\"#7201a8\"],[0.3333333333333333,\"#9c179e\"],[0.4444444444444444,\"#bd3786\"],[0.5555555555555556,\"#d8576b\"],[0.6666666666666666,\"#ed7953\"],[0.7777777777777778,\"#fb9f3a\"],[0.8888888888888888,\"#fdca26\"],[1.0,\"#f0f921\"]],\"type\":\"histogram2dcontour\"}],\"mesh3d\":[{\"colorbar\":{\"outlinewidth\":0,\"ticks\":\"\"},\"type\":\"mesh3d\"}],\"parcoords\":[{\"line\":{\"colorbar\":{\"outlinewidth\":0,\"ticks\":\"\"}},\"type\":\"parcoords\"}],\"pie\":[{\"automargin\":true,\"type\":\"pie\"}],\"scatter\":[{\"marker\":{\"colorbar\":{\"outlinewidth\":0,\"ticks\":\"\"}},\"type\":\"scatter\"}],\"scatter3d\":[{\"line\":{\"colorbar\":{\"outlinewidth\":0,\"ticks\":\"\"}},\"marker\":{\"colorbar\":{\"outlinewidth\":0,\"ticks\":\"\"}},\"type\":\"scatter3d\"}],\"scattercarpet\":[{\"marker\":{\"colorbar\":{\"outlinewidth\":0,\"ticks\":\"\"}},\"type\":\"scattercarpet\"}],\"scattergeo\":[{\"marker\":{\"colorbar\":{\"outlinewidth\":0,\"ticks\":\"\"}},\"type\":\"scattergeo\"}],\"scattergl\":[{\"marker\":{\"colorbar\":{\"outlinewidth\":0,\"ticks\":\"\"}},\"type\":\"scattergl\"}],\"scattermapbox\":[{\"marker\":{\"colorbar\":{\"outlinewidth\":0,\"ticks\":\"\"}},\"type\":\"scattermapbox\"}],\"scatterpolar\":[{\"marker\":{\"colorbar\":{\"outlinewidth\":0,\"ticks\":\"\"}},\"type\":\"scatterpolar\"}],\"scatterpolargl\":[{\"marker\":{\"colorbar\":{\"outlinewidth\":0,\"ticks\":\"\"}},\"type\":\"scatterpolargl\"}],\"scatterternary\":[{\"marker\":{\"colorbar\":{\"outlinewidth\":0,\"ticks\":\"\"}},\"type\":\"scatterternary\"}],\"surface\":[{\"colorbar\":{\"outlinewidth\":0,\"ticks\":\"\"},\"colorscale\":[[0.0,\"#0d0887\"],[0.1111111111111111,\"#46039f\"],[0.2222222222222222,\"#7201a8\"],[0.3333333333333333,\"#9c179e\"],[0.4444444444444444,\"#bd3786\"],[0.5555555555555556,\"#d8576b\"],[0.6666666666666666,\"#ed7953\"],[0.7777777777777778,\"#fb9f3a\"],[0.8888888888888888,\"#fdca26\"],[1.0,\"#f0f921\"]],\"type\":\"surface\"}],\"table\":[{\"cells\":{\"fill\":{\"color\":\"#EBF0F8\"},\"line\":{\"color\":\"white\"}},\"header\":{\"fill\":{\"color\":\"#C8D4E3\"},\"line\":{\"color\":\"white\"}},\"type\":\"table\"}]},\"layout\":{\"annotationdefaults\":{\"arrowcolor\":\"#2a3f5f\",\"arrowhead\":0,\"arrowwidth\":1},\"autotypenumbers\":\"strict\",\"coloraxis\":{\"colorbar\":{\"outlinewidth\":0,\"ticks\":\"\"}},\"colorscale\":{\"diverging\":[[0,\"#8e0152\"],[0.1,\"#c51b7d\"],[0.2,\"#de77ae\"],[0.3,\"#f1b6da\"],[0.4,\"#fde0ef\"],[0.5,\"#f7f7f7\"],[0.6,\"#e6f5d0\"],[0.7,\"#b8e186\"],[0.8,\"#7fbc41\"],[0.9,\"#4d9221\"],[1,\"#276419\"]],\"sequential\":[[0.0,\"#0d0887\"],[0.1111111111111111,\"#46039f\"],[0.2222222222222222,\"#7201a8\"],[0.3333333333333333,\"#9c179e\"],[0.4444444444444444,\"#bd3786\"],[0.5555555555555556,\"#d8576b\"],[0.6666666666666666,\"#ed7953\"],[0.7777777777777778,\"#fb9f3a\"],[0.8888888888888888,\"#fdca26\"],[1.0,\"#f0f921\"]],\"sequentialminus\":[[0.0,\"#0d0887\"],[0.1111111111111111,\"#46039f\"],[0.2222222222222222,\"#7201a8\"],[0.3333333333333333,\"#9c179e\"],[0.4444444444444444,\"#bd3786\"],[0.5555555555555556,\"#d8576b\"],[0.6666666666666666,\"#ed7953\"],[0.7777777777777778,\"#fb9f3a\"],[0.8888888888888888,\"#fdca26\"],[1.0,\"#f0f921\"]]},\"colorway\":[\"#636efa\",\"#EF553B\",\"#00cc96\",\"#ab63fa\",\"#FFA15A\",\"#19d3f3\",\"#FF6692\",\"#B6E880\",\"#FF97FF\",\"#FECB52\"],\"font\":{\"color\":\"#2a3f5f\"},\"geo\":{\"bgcolor\":\"white\",\"lakecolor\":\"white\",\"landcolor\":\"#E5ECF6\",\"showlakes\":true,\"showland\":true,\"subunitcolor\":\"white\"},\"hoverlabel\":{\"align\":\"left\"},\"hovermode\":\"closest\",\"mapbox\":{\"style\":\"light\"},\"paper_bgcolor\":\"white\",\"plot_bgcolor\":\"#E5ECF6\",\"polar\":{\"angularaxis\":{\"gridcolor\":\"white\",\"linecolor\":\"white\",\"ticks\":\"\"},\"bgcolor\":\"#E5ECF6\",\"radialaxis\":{\"gridcolor\":\"white\",\"linecolor\":\"white\",\"ticks\":\"\"}},\"scene\":{\"xaxis\":{\"backgroundcolor\":\"#E5ECF6\",\"gridcolor\":\"white\",\"gridwidth\":2,\"linecolor\":\"white\",\"showbackground\":true,\"ticks\":\"\",\"zerolinecolor\":\"white\"},\"yaxis\":{\"backgroundcolor\":\"#E5ECF6\",\"gridcolor\":\"white\",\"gridwidth\":2,\"linecolor\":\"white\",\"showbackground\":true,\"ticks\":\"\",\"zerolinecolor\":\"white\"},\"zaxis\":{\"backgroundcolor\":\"#E5ECF6\",\"gridcolor\":\"white\",\"gridwidth\":2,\"linecolor\":\"white\",\"showbackground\":true,\"ticks\":\"\",\"zerolinecolor\":\"white\"}},\"shapedefaults\":{\"line\":{\"color\":\"#2a3f5f\"}},\"ternary\":{\"aaxis\":{\"gridcolor\":\"white\",\"linecolor\":\"white\",\"ticks\":\"\"},\"baxis\":{\"gridcolor\":\"white\",\"linecolor\":\"white\",\"ticks\":\"\"},\"bgcolor\":\"#E5ECF6\",\"caxis\":{\"gridcolor\":\"white\",\"linecolor\":\"white\",\"ticks\":\"\"}},\"title\":{\"x\":0.05},\"xaxis\":{\"automargin\":true,\"gridcolor\":\"white\",\"linecolor\":\"white\",\"ticks\":\"\",\"title\":{\"standoff\":15},\"zerolinecolor\":\"white\",\"zerolinewidth\":2},\"yaxis\":{\"automargin\":true,\"gridcolor\":\"white\",\"linecolor\":\"white\",\"ticks\":\"\",\"title\":{\"standoff\":15},\"zerolinecolor\":\"white\",\"zerolinewidth\":2}}},\"title\":{\"text\":\"\\ube44\\uc815\\uc0c1 \\ub124\\ud2b8\\uc6cc\\ud06c \\uac1c\\uccb4 \\ud6c8\\ub828 \\uc810\\uc218\"},\"xaxis\":{\"title\":{\"text\":\"\\uc810\\uc218\"}},\"yaxis\":{\"title\":{\"text\":\"\\ube48\\ub3c4 \\uc218\"}},\"bargap\":0.2,\"bargroupgap\":0.1},                        {\"responsive\": true}                    ).then(function(){\n",
              "                            \n",
              "var gd = document.getElementById('209f657b-5b1f-4c8a-abcd-2fcfe9de5944');\n",
              "var x = new MutationObserver(function (mutations, observer) {{\n",
              "        var display = window.getComputedStyle(gd).display;\n",
              "        if (!display || display === 'none') {{\n",
              "            console.log([gd, 'removed!']);\n",
              "            Plotly.purge(gd);\n",
              "            observer.disconnect();\n",
              "        }}\n",
              "}});\n",
              "\n",
              "// Listen for the removal of the full notebook cells\n",
              "var notebookContainer = gd.closest('#notebook-container');\n",
              "if (notebookContainer) {{\n",
              "    x.observe(notebookContainer, {childList: true});\n",
              "}}\n",
              "\n",
              "// Listen for the clearing of the current output cell\n",
              "var outputEl = gd.closest('.output');\n",
              "if (outputEl) {{\n",
              "    x.observe(outputEl, {childList: true});\n",
              "}}\n",
              "\n",
              "                        })                };                            </script>        </div>\n",
              "</body>\n",
              "</html>"
            ]
          },
          "metadata": {}
        }
      ]
    }
  ]
}